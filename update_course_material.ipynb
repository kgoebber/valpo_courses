{
 "cells": [
  {
   "cell_type": "markdown",
   "metadata": {},
   "source": [
    "<a name=\"top\"></a>\n",
    "<div style=\"width:1000 px\">\n",
    "\n",
    "<div style=\"float:right; width:98 px; height:98px;\">\n",
    "<img src=\"https://raw.githubusercontent.com/Unidata/MetPy/master/src/metpy/plots/_static/unidata_150x150.png\" alt=\"Unidata Logo\" style=\"height: 98px;\">\n",
    "</div>\n",
    "\n",
    "<h1>Update Classroom Material</h1>\n",
    "\n",
    "<div style=\"clear:both\"></div>\n",
    "</div>\n",
    "\n",
    "---\n",
    "\n",
    "This notebook can be used to update the classroom material whenever updates are posted.\n",
    "\n",
    "---\n",
    "\n",
    "## Running the Update\n",
    "\n",
    "When you run the following cell, any changes from the workshop GitHub repository will be applied to the material under the `valpo_courses/` directory in your workspace.\n"
   ]
  },
  {
   "cell_type": "code",
   "execution_count": null,
   "metadata": {},
   "outputs": [],
   "source": [
    "!gitpuller https://github.com/kgoebber/valpo_courses master valpo_courses"
   ]
  },
  {
   "cell_type": "markdown",
   "metadata": {},
   "source": [
    "---\n",
    "\n",
    "## What to expect?\n",
    "\n",
    "If there are no updates to the material, the output from the cell will look something like the following:\n",
    "\n",
    "~~~bash\n",
    "$ git fetch\n",
    "\n",
    "$ git -c user.email=nbgitpuller@nbgitpuller.link -c user.name=nbgitpuller merge -Xours origin/master\n",
    "\n",
    "Already up to date.\n",
    "~~~\n",
    "\n",
    "If there are updates to the material, the output will look something like this:\n",
    "\n",
    "~~~bash\n",
    "$ git fetch\n",
    "\n",
    "$ git -c user.email=nbgitpuller@nbgitpuller.link -c user.name=nbgitpuller merge -Xours origin/master\n",
    "\n",
    "Updating ae50798..9542ecf\n",
    "\n",
    "Fast-forward\n",
    "\n",
    " wxtech/Data | 1 +\n",
    "\n",
    " 1 file changed, 1 insertion(+)\n",
    "\n",
    " create mode 120000 wxtech/Data\n",
    "~~~\n",
    "\n",
    "That's it!\n",
    "Now you have the latest and greatest material for the workshop."
   ]
  }
 ],
 "metadata": {
  "kernelspec": {
   "display_name": "Python 3",
   "language": "python",
   "name": "python3"
  },
  "language_info": {
   "codemirror_mode": {
    "name": "ipython",
    "version": 3
   },
   "file_extension": ".py",
   "mimetype": "text/x-python",
   "name": "python",
   "nbconvert_exporter": "python",
   "pygments_lexer": "ipython3",
   "version": "3.8.6"
  }
 },
 "nbformat": 4,
 "nbformat_minor": 4
}
