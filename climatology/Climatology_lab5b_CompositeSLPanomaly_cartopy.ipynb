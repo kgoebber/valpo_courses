{
 "cells": [
  {
   "cell_type": "markdown",
   "metadata": {},
   "source": [
    "# Lab 5\n",
    "This is the jupyter notebook for lab 5b. First we will import some libraries and functions. "
   ]
  },
  {
   "cell_type": "code",
   "execution_count": null,
   "metadata": {},
   "outputs": [],
   "source": [
    "import numpy as np\n",
    "from netCDF4 import MFDataset \n",
    "from netCDF4 import Dataset \n",
    "import matplotlib\n",
    "matplotlib.use('Agg')\n",
    "import matplotlib.pylab as plt\n",
    "from datetime import datetime\n",
    "from netCDF4 import num2date\n",
    "from netCDF4 import date2index\n",
    "import cartopy.crs as ccrs\n",
    "import cartopy.feature as cfeature\n",
    "import metpy.calc as mpcalc\n",
    "from metpy.units import units\n",
    "import xarray as xr\n",
    "import cartopy.util as cutil\n",
    "%matplotlib inline"
   ]
  },
  {
   "cell_type": "markdown",
   "metadata": {},
   "source": [
    "Our next setep is to read in the netCDF files. "
   ]
  },
  {
   "cell_type": "code",
   "execution_count": null,
   "metadata": {},
   "outputs": [],
   "source": [
    "ds = xr.open_dataset('https://psl.noaa.gov/psd/thredds/dodsC/Datasets/ncep.reanalysis.derived/surface/air.mon.mean.nc')\n",
    "ds2 = xr.open_dataset('https://psl.noaa.gov/psd/thredds/dodsC/Datasets/ncep.reanalysis.derived/surface/slp.mon.mean.nc')\n",
    "ds3 = xr.open_dataset('https://psl.noaa.gov/psd/thredds/dodsC/Datasets/ncep.reanalysis.derived/surface/uwnd.mon.mean.nc')\n",
    "ds4 = xr.open_dataset('https://psl.noaa.gov/psd/thredds/dodsC/Datasets/ncep.reanalysis.derived/surface/vwnd.mon.mean.nc')\n"
   ]
  },
  {
   "cell_type": "markdown",
   "metadata": {},
   "source": [
    "Indicate the desired years and month!"
   ]
  },
  {
   "cell_type": "code",
   "execution_count": null,
   "metadata": {},
   "outputs": [],
   "source": [
    "month = 1\n",
    "monthlabel = 'January'\n",
    "\n",
    "# Enter the years!\n",
    "year1 = 1983\n",
    "year2 = 1998\n",
    "year3 = 2016\n",
    "year4 = 1958\n",
    "year5 = 1966\n",
    "year6 = 1973\n",
    "year7 = 1988\n",
    "year8 = 1992\n",
    "\n",
    "#Don't change these! Needed for Python to select correct times\n",
    "ty1 = int(year1) - 1948\n",
    "ty2 = int(year2) - 1948\n",
    "ty3 = int(year3) - 1948\n",
    "ty4 = int(year4) - 1948\n",
    "ty5 = int(year5) - 1948\n",
    "ty6 = int(year6) - 1948\n",
    "ty7 = int(year7) - 1948\n",
    "ty8 = int(year8) - 1948\n",
    "tm = int(month)-1"
   ]
  },
  {
   "cell_type": "markdown",
   "metadata": {},
   "source": [
    "Now we extract the data desired!"
   ]
  },
  {
   "cell_type": "code",
   "execution_count": null,
   "metadata": {},
   "outputs": [],
   "source": [
    "# Grab lat/lon values\n",
    "lats = ds.lat.data\n",
    "lons = ds.lon.data\n",
    "\n",
    "#subtract 1 from tm because the first observation in Python is observation 0\n",
    "\n",
    "temp = ds.air[tm::12,:,:]\n",
    "slp = ds2.slp[tm::12,:,:]\n",
    "u_barbs = ds3.uwnd.values[tm::12,:,:] * units('m/s')\n",
    "v_barbs = ds4.vwnd.values[tm::12,:,:] * units('m/s')\n",
    "uwnd = np.asarray(ds3.uwnd.values[tm::12,:,:] * units('m/s'))\n",
    "vwnd = np.asarray(ds4.vwnd.values[tm::12,:,:] * units('m/s'))"
   ]
  },
  {
   "cell_type": "markdown",
   "metadata": {},
   "source": [
    "Print the numpy shapes of the temperature, latitude and longtitude. This can be important when debugging."
   ]
  },
  {
   "cell_type": "code",
   "execution_count": null,
   "metadata": {},
   "outputs": [],
   "source": [
    "print (np.shape(slp))\n",
    "print (np.shape(lats))\n",
    "print (np.shape(lons))"
   ]
  },
  {
   "cell_type": "markdown",
   "metadata": {},
   "source": [
    "Select the countour settings for the height anomalies (in m). The format is (minimum, maximum, interval) "
   ]
  },
  {
   "cell_type": "code",
   "execution_count": null,
   "metadata": {},
   "outputs": [],
   "source": [
    "clevs_slp_anom = np.arange(-16, 16.1, 1)\n",
    "clevs_slp = np.arange(0, 1080, 4)\n",
    "clevs_stdanom = np.arange(-3,3.1,0.25)"
   ]
  },
  {
   "cell_type": "code",
   "execution_count": null,
   "metadata": {},
   "outputs": [],
   "source": [
    "# Set up the projection that will be used for plotting\n",
    "mapcrs = ccrs.Robinson(central_longitude=180)\n",
    "\n",
    "# Set up the projection of the data; if lat/lon then PlateCarree is what you want\n",
    "datacrs = ccrs.PlateCarree()\n",
    "\n",
    "# Start the figure and create plot axes with proper projection\n",
    "fig = plt.figure(1, figsize=(14, 12))\n",
    "ax = plt.subplot(111, projection=mapcrs)\n",
    "\n",
    "#not needed here, but used for sub-setting domain to plot\n",
    "#ax.set_extent([-130, -72, 20, 55], ccrs.PlateCarree())\n",
    "\n",
    "# Add geopolitical boundaries for map reference\n",
    "ax.add_feature(cfeature.COASTLINE.with_scale('50m'))\n",
    "ax.add_feature(cfeature.STATES.with_scale('50m'))\n",
    "gl = ax.gridlines(color='gray',linewidth=2, alpha = 0.5, linestyle='--')\n",
    "\n",
    "# labels gridlines for PlateCarree ccrs option (doesn't work with Robinson, etc.)\n",
    "#gl.xlabels_top = False\n",
    "#gl.ylabels_right = False\n",
    "\n",
    "#color-filled contour time!\n",
    "#plotting temperature and including color bar\n",
    "cf = ax.contourf(lons, lats, (slp[ty1,:,:] + slp[ty2,:,:] + slp[ty3,:,:] + slp[ty4,:,:] + slp[ty5,:,:] \n",
    "                 + slp[ty6,:,:] + slp[ty7,:,:] + slp[ty8,:,:])/8- np.mean(slp[:,:,:],axis=0), clevs_slp_anom, cmap=plt.cm.RdYlBu_r, transform=datacrs)\n",
    "plt.colorbar(cf, orientation='horizontal', pad=0.05, aspect=50)\n",
    "\n",
    "# Plot 500-hPa Geopotential Height Anomaly in meters\n",
    "#cs = ax.contour(lons, lats, hght[ty,:,:] - np.mean(hght[:,:,:],axis=0), clevs_hght_anom, colors='black', transform=datacrs)\n",
    "#plt.clabel(cs, fmt='%d')\n",
    "\n",
    "# Plot 500-hPa Geopotential Heights in meters\n",
    "cs = ax.contour(lons, lats, (slp[ty1,:,:] + slp[ty2,:,:] + slp[ty3,:,:] + slp[ty4,:,:] + slp[ty5,:,:] \n",
    "                 + slp[ty6,:,:] + slp[ty7,:,:] + slp[ty8,:,:])/8, clevs_slp, colors='black', transform=datacrs)\n",
    "plt.clabel(cs, fmt='%d')\n",
    "\n",
    "# Plot 500-hPa wind barbs in knots, regrid to reduce number of barbs\n",
    "#ax.barbs(lons[::4], lats[::4], uwnd.to('kt')[ty,::4,::4].m, \n",
    "#         vwnd.to('kt')[ty,::4,::4].m, pivot='middle',\n",
    "#         color='black', transform=datacrs, length=5, linewidth=0.4)\n",
    "\n",
    "# Make some nice titles for the plot (one right, one left)\n",
    "plt.title('SLP Composite Anomaly' + ' ' + str(monthlabel))\n",
    "\n",
    "# Reduce excessive white space around image and show\n",
    "plt.savefig('SLPCompositeAnomaly' + str(monthlabel) + str(year1) +str(year2)+str(year3)+str(year4)+str(year5)+str(year6)\n",
    "            +str(year7)+str(year8), dpi=150, bbox_inches='tight')\n",
    "plt.show()"
   ]
  },
  {
   "cell_type": "markdown",
   "metadata": {},
   "source": [
    "For comparison, a map of standardized anomalies"
   ]
  },
  {
   "cell_type": "code",
   "execution_count": null,
   "metadata": {},
   "outputs": [],
   "source": [
    "# Set up the projection that will be used for plotting\n",
    "mapcrs = ccrs.Robinson(central_longitude=180)\n",
    "\n",
    "# Set up the projection of the data; if lat/lon then PlateCarree is what you want\n",
    "datacrs = ccrs.PlateCarree()\n",
    "\n",
    "# Start the figure and create plot axes with proper projection\n",
    "fig = plt.figure(1, figsize=(14, 12))\n",
    "ax = plt.subplot(111, projection=mapcrs)\n",
    "\n",
    "#not needed here, but used for sub-setting domain to plot\n",
    "#ax.set_extent([-130, -72, 20, 55], ccrs.PlateCarree())\n",
    "\n",
    "# Add geopolitical boundaries for map reference\n",
    "ax.add_feature(cfeature.COASTLINE.with_scale('50m'))\n",
    "ax.add_feature(cfeature.STATES.with_scale('50m'))\n",
    "gl = ax.gridlines(color='gray',linewidth=2, alpha = 0.5, linestyle='--')\n",
    "\n",
    "# labels gridlines for PlateCarree ccrs option (doesn't work with Robinson, etc.)\n",
    "#gl.xlabels_top = False\n",
    "#gl.ylabels_right = False\n",
    "\n",
    "#color-filled contour time!\n",
    "#plotting temperature and including color bar\n",
    "cf = ax.contourf(lons, lats, ((slp[ty1,:,:] + slp[ty2,:,:] + slp[ty3,:,:] + slp[ty4,:,:] + slp[ty5,:,:] \n",
    "                 + slp[ty6,:,:] + slp[ty7,:,:] + slp[ty8,:,:])/8- np.mean(slp[:,:,:],axis=0))/np.std(slp[:,:,:],axis=0), clevs_stdanom, cmap=plt.cm.RdYlBu_r, transform=datacrs)\n",
    "plt.colorbar(cf, orientation='horizontal', pad=0.05, aspect=50)\n",
    "\n",
    "# Plot 500-hPa Geopotential Height Anomaly in meters\n",
    "#cs = ax.contour(lons, lats, hght[ty,:,:] - np.mean(hght[:,:,:],axis=0), clevs_hght_anom, colors='black', transform=datacrs)\n",
    "#plt.clabel(cs, fmt='%d')\n",
    "\n",
    "# Plot 500-hPa Geopotential Heights in meters\n",
    "cs = ax.contour(lons, lats, (slp[ty1,:,:] + slp[ty2,:,:] + slp[ty3,:,:] + slp[ty4,:,:] + slp[ty5,:,:] \n",
    "                 + slp[ty6,:,:] + slp[ty7,:,:] + slp[ty8,:,:])/8, clevs_slp, colors='black', transform=datacrs)\n",
    "plt.clabel(cs, fmt='%d')\n",
    "\n",
    "# Plot 500-hPa wind barbs in knots, regrid to reduce number of barbs\n",
    "#ax.barbs(lons[::4], lats[::4], uwnd.to('kt')[ty,::4,::4].m, \n",
    "#         vwnd.to('kt')[ty,::4,::4].m, pivot='middle',\n",
    "#         color='black', transform=datacrs, length=5, linewidth=0.4)\n",
    "\n",
    "# Make some nice titles for the plot (one right, one left)\n",
    "plt.title('SLP Composite StandardizedAnomaly' + ' ' + str(monthlabel))\n",
    "\n",
    "# Reduce excessive white space around image and show\n",
    "plt.savefig('500hPaZCompositestandardizedAnomaly' + str(monthlabel) + str(year1) +str(year2)+str(year3)+str(year4)+str(year5)+str(year6)\n",
    "            +str(year7)+str(year8), dpi=150, bbox_inches='tight')\n",
    "plt.show()"
   ]
  },
  {
   "cell_type": "code",
   "execution_count": null,
   "metadata": {},
   "outputs": [],
   "source": []
  }
 ],
 "metadata": {
  "anaconda-cloud": {},
  "kernelspec": {
   "display_name": "Python 3",
   "language": "python",
   "name": "python3"
  },
  "language_info": {
   "codemirror_mode": {
    "name": "ipython",
    "version": 3
   },
   "file_extension": ".py",
   "mimetype": "text/x-python",
   "name": "python",
   "nbconvert_exporter": "python",
   "pygments_lexer": "ipython3",
   "version": "3.8.2"
  }
 },
 "nbformat": 4,
 "nbformat_minor": 4
}
