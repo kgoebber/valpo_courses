{
 "cells": [
  {
   "cell_type": "markdown",
   "metadata": {},
   "source": [
    "# Lab 1\n",
    "This is the second jupyter notebook for lab 1. First we will import some libraries and functions. "
   ]
  },
  {
   "cell_type": "code",
   "execution_count": null,
   "metadata": {},
   "outputs": [],
   "source": [
    "import numpy as np\n",
    "from netCDF4 import MFDataset \n",
    "from netCDF4 import Dataset \n",
    "import matplotlib\n",
    "matplotlib.use('Agg')\n",
    "import matplotlib.pylab as plt\n",
    "from datetime import datetime\n",
    "from netCDF4 import num2date\n",
    "from netCDF4 import date2index\n",
    "import cartopy.crs as ccrs\n",
    "import cartopy.feature as cfeature\n",
    "import metpy.calc as mpcalc\n",
    "from metpy.units import units\n",
    "import xarray as xr\n",
    "import cartopy.util as cutil\n",
    "%matplotlib inline"
   ]
  },
  {
   "cell_type": "markdown",
   "metadata": {},
   "source": [
    "Our next setep is to read in the netCDF files. "
   ]
  },
  {
   "cell_type": "code",
   "execution_count": null,
   "metadata": {},
   "outputs": [],
   "source": [
    "ds = xr.open_dataset('https://psl.noaa.gov/psd/thredds/dodsC/Datasets/ncep.reanalysis.derived/surface/air.mon.mean.nc')\n",
    "ds2 = xr.open_dataset('https://psl.noaa.gov/psd/thredds/dodsC/Datasets/ncep.reanalysis.derived/surface/slp.mon.mean.nc')\n",
    "ds3 = xr.open_dataset('https://psl.noaa.gov/psd/thredds/dodsC/Datasets/ncep.reanalysis.derived/surface/uwnd.mon.mean.nc')\n",
    "ds4 = xr.open_dataset('https://psl.noaa.gov/psd/thredds/dodsC/Datasets/ncep.reanalysis.derived/surface/vwnd.mon.mean.nc')\n"
   ]
  },
  {
   "cell_type": "markdown",
   "metadata": {},
   "source": [
    "Indicate the desired year and month!"
   ]
  },
  {
   "cell_type": "code",
   "execution_count": null,
   "metadata": {},
   "outputs": [],
   "source": [
    "year = 1967\n",
    "month = 1\n",
    "monthlabel = 'January'"
   ]
  },
  {
   "cell_type": "markdown",
   "metadata": {},
   "source": [
    "Extract lat, lon, temperature, SLP, uwnd and vwnd! We also calculate wind speed from u and v components"
   ]
  },
  {
   "cell_type": "code",
   "execution_count": null,
   "metadata": {},
   "outputs": [],
   "source": [
    "# Grab lat/lon values\n",
    "lats = ds.lat.data\n",
    "lons = ds.lon.data\n",
    "#print(lons)\n",
    "\n",
    "# Grab air temperature, geopotential heights and wind components for desired pressure level (set to 500 hPa above)\n",
    "temp = ds.air.sel(time=np.datetime64(datetime(year,month,1)))\n",
    "\n",
    "slp = ds2.slp.sel(time=np.datetime64(datetime(year,month,1)))\n",
    "\n",
    "uwnd = ds3.uwnd.sel(time=np.datetime64(datetime(year,month,1))).values[:] * units('m/s')\n",
    "\n",
    "vwnd = ds4.vwnd.sel(time=np.datetime64(datetime(year,month,1))).values[:] * units('m/s')\n",
    "\n",
    "# Use MetPy to calculate the wind speed for colorfill plot, change units to knots from m/s\n",
    "# not plotted in the current application\n",
    "# sped = mpcalc.get_wind_speed(uwnd, vwnd).to('kt')\n",
    "\n",
    "# Create a clean datetime object for plot label\n",
    "vtime = datetime(year,month,1)\n"
   ]
  },
  {
   "cell_type": "markdown",
   "metadata": {},
   "source": [
    "Print the numpy shapes of the temperature, latitude and longtitude. This can be important when debugging."
   ]
  },
  {
   "cell_type": "code",
   "execution_count": null,
   "metadata": {},
   "outputs": [],
   "source": [
    "print (np.shape(temp))\n",
    "print (np.shape(slp))\n",
    "print (np.shape(lats))\n",
    "print (np.shape(lons))"
   ]
  },
  {
   "cell_type": "markdown",
   "metadata": {},
   "source": [
    "Select the countour settings for the temperature (in degrees C) and Z (in m). The format is (minimum, maximum, interval) "
   ]
  },
  {
   "cell_type": "code",
   "execution_count": null,
   "metadata": {},
   "outputs": [],
   "source": [
    "clevs_temp = np.arange(-50,50,5)\n",
    "clevs_slp = np.arange(940,1080,4)"
   ]
  },
  {
   "cell_type": "markdown",
   "metadata": {},
   "source": [
    "Make the global map!"
   ]
  },
  {
   "cell_type": "code",
   "execution_count": null,
   "metadata": {},
   "outputs": [],
   "source": [
    "# Set up the projection that will be used for plotting\n",
    "mapcrs = ccrs.Robinson(central_longitude=180)\n",
    "\n",
    "# Set up the projection of the data; if lat/lon then PlateCarree is what you want\n",
    "datacrs = ccrs.PlateCarree()\n",
    "\n",
    "# Start the figure and create plot axes with proper projection\n",
    "fig = plt.figure(1, figsize=(14, 12))\n",
    "ax = plt.subplot(111, projection=mapcrs)\n",
    "\n",
    "#not needed here, but used for sub-setting domain to plot\n",
    "#ax.set_extent([-130, -72, 20, 55], ccrs.PlateCarree())\n",
    "\n",
    "# Add geopolitical boundaries for map reference\n",
    "ax.add_feature(cfeature.COASTLINE.with_scale('50m'))\n",
    "ax.add_feature(cfeature.STATES.with_scale('50m'))\n",
    "gl = ax.gridlines(color='gray',linewidth=2, alpha = 0.5, linestyle='--')\n",
    "\n",
    "# labels gridlines for PlateCarree ccrs option (doesn't work with Robinson, etc.)\n",
    "#gl.xlabels_top = False\n",
    "#gl.ylabels_right = False\n",
    "\n",
    "#color-filled contour time!\n",
    "#plotting temperature and including color bar\n",
    "cf = ax.contourf(lons, lats, temp, clevs_temp, cmap=plt.cm.RdYlBu_r, transform=datacrs)\n",
    "plt.colorbar(cf, orientation='horizontal', pad=0.05, aspect=50)\n",
    "\n",
    "# Plot SLP\n",
    "cs = ax.contour(lons, lats, slp, clevs_slp, colors='black', transform=datacrs)\n",
    "plt.clabel(cs, fmt='%d')\n",
    "\n",
    "# Plot wind barbs in knots, regrid to reduce number of barbs\n",
    "ax.barbs(lons[::4], lats[::4], uwnd.to('kt')[::4,::4].m, vwnd.to('kt')[::4,::4].m, pivot='middle',\n",
    "         color='black', transform=datacrs, length=5, linewidth=0.4)\n",
    "\n",
    "# Make some nice titles for the plot (one right, one left)\n",
    "plt.title('Surface Analysis', loc='left')\n",
    "plt.title('Valid Time: {}'.format(vtime), loc='right')\n",
    "\n",
    "# Reduce excessive white space around image and show\n",
    "plt.savefig('SurfaceAnalysis' + str(monthlabel) + str(year), dpi=150, bbox_inches='tight')\n",
    "plt.show()"
   ]
  },
  {
   "cell_type": "code",
   "execution_count": null,
   "metadata": {},
   "outputs": [],
   "source": []
  }
 ],
 "metadata": {
  "anaconda-cloud": {},
  "kernelspec": {
   "display_name": "Python 3",
   "language": "python",
   "name": "python3"
  },
  "language_info": {
   "codemirror_mode": {
    "name": "ipython",
    "version": 3
   },
   "file_extension": ".py",
   "mimetype": "text/x-python",
   "name": "python",
   "nbconvert_exporter": "python",
   "pygments_lexer": "ipython3",
   "version": "3.8.2"
  }
 },
 "nbformat": 4,
 "nbformat_minor": 4
}
