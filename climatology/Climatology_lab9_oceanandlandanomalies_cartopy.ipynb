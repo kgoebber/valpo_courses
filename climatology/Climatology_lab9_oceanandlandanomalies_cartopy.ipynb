{
 "cells": [
  {
   "cell_type": "markdown",
   "metadata": {},
   "source": [
    "# Lab 9\n",
    "This is the jupyter notebook for lab 9. First we will import some libraries and functions. "
   ]
  },
  {
   "cell_type": "code",
   "execution_count": null,
   "metadata": {},
   "outputs": [],
   "source": [
    "from numpy import genfromtxt\n",
    "import numpy as np\n",
    "from netCDF4 import MFDataset \n",
    "from netCDF4 import Dataset \n",
    "import matplotlib\n",
    "matplotlib.use('Agg')\n",
    "import matplotlib.pylab as plt\n",
    "from datetime import datetime\n",
    "from netCDF4 import num2date\n",
    "from netCDF4 import date2index\n",
    "import cartopy.crs as ccrs\n",
    "import cartopy.feature as cfeature\n",
    "import metpy.calc as mpcalc\n",
    "from metpy.units import units\n",
    "import xarray as xr\n",
    "import cartopy.util as cutil\n",
    "%matplotlib inline"
   ]
  },
  {
   "cell_type": "markdown",
   "metadata": {},
   "source": [
    "Our next setep is to read in the netCDF files. "
   ]
  },
  {
   "cell_type": "code",
   "execution_count": null,
   "metadata": {},
   "outputs": [],
   "source": [
    "ds = xr.open_dataset('https://psl.noaa.gov/psd/thredds/dodsC/Datasets/ncep.reanalysis.derived/pressure/air.mon.mean.nc')\n",
    "ds2 = xr.open_dataset('https://psl.noaa.gov/psd/thredds/dodsC/Datasets/ncep.reanalysis.derived/pressure/hgt.mon.mean.nc')\n",
    "ds3 = xr.open_dataset('https://psl.noaa.gov/psd/thredds/dodsC/Datasets/ncep.reanalysis.derived/pressure/uwnd.mon.mean.nc')\n",
    "ds4 = xr.open_dataset('https://psl.noaa.gov/psd/thredds/dodsC/Datasets/ncep.reanalysis.derived/pressure/vwnd.mon.mean.nc')\n"
   ]
  },
  {
   "cell_type": "markdown",
   "metadata": {},
   "source": [
    "Provide the pressure level and month you wish to plot. Also provide the month as a string, so our caption is attractive. "
   ]
  },
  {
   "cell_type": "code",
   "execution_count": null,
   "metadata": {},
   "outputs": [],
   "source": [
    "plevel = 850\n",
    "month = 1\n",
    "monthlabel = 'January'\n",
    "tm = int(month)-1"
   ]
  },
  {
   "cell_type": "markdown",
   "metadata": {},
   "source": [
    "Now we extract the data desired. "
   ]
  },
  {
   "cell_type": "code",
   "execution_count": null,
   "metadata": {},
   "outputs": [],
   "source": [
    "# Grab lat/lon values\n",
    "lats = ds.lat.data\n",
    "lons = ds.lon.data\n",
    "\n",
    "#subtract 1 from tm because the first observation in Python is observation 0\n",
    "\n",
    "temp = ds.air.sel(level=plevel)[tm::12,:,:].values\n",
    "hght = ds2.hgt.sel(level=plevel)[tm::12,:,:].values\n",
    "uwnd = np.asarray(ds3.uwnd.sel(level=plevel).values[tm::12,:,:] * units('m/s'))\n",
    "vwnd = np.asarray(ds4.vwnd.sel(level=plevel).values[tm::12,:,:] * units('m/s'))\n",
    "\n"
   ]
  },
  {
   "cell_type": "markdown",
   "metadata": {},
   "source": [
    "Print the numpy shapes of the temperature, latitude and longtitude. This can be important when debugging."
   ]
  },
  {
   "cell_type": "code",
   "execution_count": null,
   "metadata": {},
   "outputs": [],
   "source": [
    "print (np.shape(temp))\n",
    "print (np.shape(lats))\n",
    "print (np.shape(lons))\n",
    "#print(temp[:,19,35])"
   ]
  },
  {
   "cell_type": "markdown",
   "metadata": {},
   "source": [
    "Now we need to read in the ocen and land anomaly data. We read in from a csv file, which has the year and monthly values in columns. Note that the first column is year/month, followed by ocean anomaly and then land anomaly. "
   ]
  },
  {
   "cell_type": "code",
   "execution_count": null,
   "metadata": {},
   "outputs": [],
   "source": [
    "sourcefile = open('../data/landandocean.csv','rb')\n",
    "landandocean = genfromtxt(sourcefile,delimiter=',')\n",
    "print(np.shape(landandocean))\n",
    "print(landandocean[0:5,:])\n",
    "print(np.max(landandocean[1:1671,0]))"
   ]
  },
  {
   "cell_type": "code",
   "execution_count": null,
   "metadata": {},
   "outputs": [],
   "source": [
    "plt.plot(landandocean[0:1671,0],landandocean[0:1671,2])\n",
    "#plt.plot(landandocean[0:1671,0],landandocean[0:1671,1], 'bo')\n",
    "plt.axis([188000, 201902, -1.6, 2.5])\n",
    "plt.title('Land Anomaly')\n",
    "plt.show()"
   ]
  },
  {
   "cell_type": "code",
   "execution_count": null,
   "metadata": {},
   "outputs": [],
   "source": [
    "plt.plot(landandocean[0:1671,0],landandocean[0:1671,1])\n",
    "#plt.plot(landandocean[0:1671,0],landandocean[0:1671,1], 'bo')\n",
    "plt.axis([188000, 201902, -0.6, 0.9])\n",
    "plt.title('Ocean Anomaly')\n",
    "plt.show()"
   ]
  },
  {
   "cell_type": "markdown",
   "metadata": {},
   "source": [
    "Subsetting January data since 1950 for ocean and land anomalies"
   ]
  },
  {
   "cell_type": "code",
   "execution_count": null,
   "metadata": {},
   "outputs": [],
   "source": [
    "oceanJansince1950 = landandocean[1:1671:12,1][landandocean[1:1671:12,0]>=195000]\n",
    "landJansince1950 = landandocean[1:1671:12,2][landandocean[1:1671:12,0]>=195000]\n",
    "year = landandocean[1:1671:12,0][landandocean[1:1671:12,0]>=195000]\n",
    "print(oceanJansince1950)\n",
    "print(landJansince1950)\n",
    "print(np.shape(landJansince1950))\n",
    "print(year)"
   ]
  },
  {
   "cell_type": "markdown",
   "metadata": {},
   "source": [
    "Now we calculate the correlation field between the index and the 500 hPa Z. The first step is to make objects with the right dimensions, before we can copy the correlation values. Note that the data is subset to leave off the first two years, for which the NAO data is not available. (The final year is left off too, since it is NA for some of the months.) "
   ]
  },
  {
   "cell_type": "code",
   "execution_count": null,
   "metadata": {},
   "outputs": [],
   "source": [
    "hgtcor=np.zeros((hght.shape[1],hght.shape[2]))\n",
    "tempcor=np.zeros((temp.shape[1],temp.shape[2]))\n",
    "\n",
    "for i in range(hght.shape[1]):\n",
    "    for j in range(hght.shape[2]):\n",
    "        tempcor[i,j] = np.corrcoef(temp[2:69,i,j],oceanJansince1950[0:67])[1,0]\n"
   ]
  },
  {
   "cell_type": "markdown",
   "metadata": {},
   "source": [
    "Select the countour settings for the correlation The format is (minimum, maximum, interval) "
   ]
  },
  {
   "cell_type": "code",
   "execution_count": null,
   "metadata": {},
   "outputs": [],
   "source": [
    "clevs_cor = np.arange(-1,1.1,0.1)"
   ]
  },
  {
   "cell_type": "code",
   "execution_count": null,
   "metadata": {},
   "outputs": [],
   "source": [
    "# Set up the projection that will be used for plotting\n",
    "mapcrs = ccrs.Robinson(central_longitude=180)\n",
    "\n",
    "# Set up the projection of the data; if lat/lon then PlateCarree is what you want\n",
    "datacrs = ccrs.PlateCarree()\n",
    "\n",
    "# Start the figure and create plot axes with proper projection\n",
    "fig = plt.figure(1, figsize=(14, 12))\n",
    "ax = plt.subplot(111, projection=mapcrs)\n",
    "\n",
    "#not needed here, but used for sub-setting domain to plot\n",
    "#ax.set_extent([-130, -72, 20, 55], ccrs.PlateCarree())\n",
    "\n",
    "# Add geopolitical boundaries for map reference\n",
    "ax.add_feature(cfeature.COASTLINE.with_scale('50m'))\n",
    "ax.add_feature(cfeature.STATES.with_scale('50m'))\n",
    "gl = ax.gridlines(color='gray',linewidth=2, alpha = 0.5, linestyle='--')\n",
    "\n",
    "# labels gridlines for PlateCarree ccrs option (doesn't work with Robinson, etc.)\n",
    "#gl.xlabels_top = False\n",
    "#gl.ylabels_right = False\n",
    "\n",
    "#color-filled contour time!\n",
    "#plotting temperature and including color bar\n",
    "cf = ax.contourf(lons, lats, tempcor, clevs_cor, cmap=plt.cm.RdYlBu_r, transform=datacrs)\n",
    "\n",
    "plt.colorbar(cf, orientation='horizontal', pad=0.05, aspect=50)\n",
    "\n",
    "# Plot 500-hPa Geopotential Height Anomaly in meters\n",
    "#cs = ax.contour(lons, lats, hght[ty,:,:] - np.mean(hght[:,:,:],axis=0), clevs_hght_anom, colors='black', transform=datacrs)\n",
    "#plt.clabel(cs, fmt='%d')\n",
    "\n",
    "# Plot 500-hPa Geopotential Heights in meters\n",
    "cs = ax.contour(lons, lats, tempcor, clevs_cor, colors='black', transform=datacrs)\n",
    "plt.clabel(cs, fmt='%1.1f')\n",
    "\n",
    "# Plot 500-hPa wind barbs in knots, regrid to reduce number of barbs\n",
    "#ax.barbs(lons[::4], lats[::4], uwnd.to('kt')[ty,::4,::4].m, \n",
    "#         vwnd.to('kt')[ty,::4,::4].m, pivot='middle',\n",
    "#         color='black', transform=datacrs, length=5, linewidth=0.4)\n",
    "\n",
    "# Make some nice titles for the plot (one right, one left)\n",
    "plt.title('Ocean Anomaly and 850 hPa Temperature Correlation Map ' + str(monthlabel))\n",
    "\n",
    "# Reduce excessive white space around image and show\n",
    "plt.savefig('oceananomaly500hPaZcorrelationmap' + str(monthlabel), dpi=150, bbox_inches='tight')\n",
    "plt.show()"
   ]
  },
  {
   "cell_type": "markdown",
   "metadata": {},
   "source": [
    "Now we calculate the correlation of the year with Reanalysis variables, to better understand trends"
   ]
  },
  {
   "cell_type": "code",
   "execution_count": null,
   "metadata": {},
   "outputs": [],
   "source": [
    "hgtcor=np.zeros((hght.shape[1],hght.shape[2]))\n",
    "tempcor=np.zeros((temp.shape[1],temp.shape[2]))\n",
    "vwndcor=np.zeros((temp.shape[1],temp.shape[2]))\n",
    "\n",
    "for i in range(hght.shape[1]):\n",
    "    for j in range(hght.shape[2]):\n",
    "        hgtcor[i,j] = np.corrcoef(hght[2:69,i,j], year[2:69])[1,0]\n",
    "        tempcor[i,j] = np.corrcoef(temp[2:69,i,j],year[2:69])[1,0]\n",
    "        vwndcor[i,j] = np.corrcoef(vwnd[2:69,i,j],year[2:69])[1,0]\n"
   ]
  },
  {
   "cell_type": "code",
   "execution_count": null,
   "metadata": {},
   "outputs": [],
   "source": [
    "# Set up the projection that will be used for plotting\n",
    "mapcrs = ccrs.Robinson(central_longitude=180)\n",
    "\n",
    "# Set up the projection of the data; if lat/lon then PlateCarree is what you want\n",
    "datacrs = ccrs.PlateCarree()\n",
    "\n",
    "# Start the figure and create plot axes with proper projection\n",
    "fig = plt.figure(1, figsize=(14, 12))\n",
    "ax = plt.subplot(111, projection=mapcrs)\n",
    "\n",
    "#not needed here, but used for sub-setting domain to plot\n",
    "#ax.set_extent([-130, -72, 20, 55], ccrs.PlateCarree())\n",
    "\n",
    "# Add geopolitical boundaries for map reference\n",
    "ax.add_feature(cfeature.COASTLINE.with_scale('50m'))\n",
    "ax.add_feature(cfeature.STATES.with_scale('50m'))\n",
    "gl = ax.gridlines(color='gray',linewidth=2, alpha = 0.5, linestyle='--')\n",
    "\n",
    "# labels gridlines for PlateCarree ccrs option (doesn't work with Robinson, etc.)\n",
    "#gl.xlabels_top = False\n",
    "#gl.ylabels_right = False\n",
    "\n",
    "#color-filled contour time!\n",
    "#plotting temperature and including color bar\n",
    "cf = ax.contourf(lons, lats, vwndcor, clevs_cor, cmap=plt.cm.RdYlBu_r, transform=datacrs)\n",
    "\n",
    "plt.colorbar(cf, orientation='horizontal', pad=0.05, aspect=50)\n",
    "\n",
    "# Plot 500-hPa Geopotential Height Anomaly in meters\n",
    "#cs = ax.contour(lons, lats, hght[ty,:,:] - np.mean(hght[:,:,:],axis=0), clevs_hght_anom, colors='black', transform=datacrs)\n",
    "#plt.clabel(cs, fmt='%d')\n",
    "\n",
    "# Plot 500-hPa Geopotential Heights in meters\n",
    "cs = ax.contour(lons, lats, vwndcor, clevs_cor, colors='black', transform=datacrs)\n",
    "plt.clabel(cs, fmt='%1.1f')\n",
    "\n",
    "# Plot 500-hPa wind barbs in knots, regrid to reduce number of barbs\n",
    "#ax.barbs(lons[::4], lats[::4], uwnd.to('kt')[ty,::4,::4].m, \n",
    "#         vwnd.to('kt')[ty,::4,::4].m, pivot='middle',\n",
    "#         color='black', transform=datacrs, length=5, linewidth=0.4)\n",
    "\n",
    "# Make some nice titles for the plot (one right, one left)\n",
    "plt.title('Year and 200 hPa V Correlation Map ' + str(monthlabel))\n",
    "\n",
    "# Reduce excessive white space around image and show\n",
    "plt.savefig('yearand200hPaVcorrelationmap' + str(monthlabel), dpi=150, bbox_inches='tight')\n",
    "plt.show()"
   ]
  }
 ],
 "metadata": {
  "anaconda-cloud": {},
  "kernelspec": {
   "display_name": "Python 3",
   "language": "python",
   "name": "python3"
  },
  "language_info": {
   "codemirror_mode": {
    "name": "ipython",
    "version": 3
   },
   "file_extension": ".py",
   "mimetype": "text/x-python",
   "name": "python",
   "nbconvert_exporter": "python",
   "pygments_lexer": "ipython3",
   "version": "3.8.2"
  }
 },
 "nbformat": 4,
 "nbformat_minor": 4
}
