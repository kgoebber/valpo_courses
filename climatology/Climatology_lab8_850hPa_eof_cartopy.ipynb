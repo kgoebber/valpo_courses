{
 "cells": [
  {
   "cell_type": "markdown",
   "metadata": {},
   "source": [
    "# Lab 8\n",
    "This is a jupyter notebook for lab 8. First we will import some libraries and functions. "
   ]
  },
  {
   "cell_type": "markdown",
   "metadata": {},
   "source": [
    "Note that this doesn't work yet!"
   ]
  },
  {
   "cell_type": "code",
   "execution_count": null,
   "metadata": {},
   "outputs": [],
   "source": [
    "from eofs.standard import Eof\n",
    "from eofs.examples import example_data_path\n",
    "from numpy import genfromtxt\n",
    "import numpy as np\n",
    "from netCDF4 import MFDataset \n",
    "from netCDF4 import Dataset \n",
    "import matplotlib\n",
    "matplotlib.use('Agg')\n",
    "import matplotlib.pylab as plt\n",
    "from datetime import datetime\n",
    "from netCDF4 import num2date\n",
    "from netCDF4 import date2index\n",
    "import cartopy.crs as ccrs\n",
    "import cartopy.feature as cfeature\n",
    "import metpy.calc as mpcalc\n",
    "from metpy.units import units\n",
    "import xarray as xr\n",
    "import cartopy.util as cutil\n",
    "%matplotlib inline"
   ]
  },
  {
   "cell_type": "markdown",
   "metadata": {},
   "source": [
    "Our next setep is to read in the netCDF files. "
   ]
  },
  {
   "cell_type": "code",
   "execution_count": null,
   "metadata": {},
   "outputs": [],
   "source": [
    "ds = xr.open_dataset('https://psl.noaa.gov/psd/thredds/dodsC/Datasets/ncep.reanalysis.derived/pressure/air.mon.mean.nc')\n",
    "ds2 = xr.open_dataset('https://psl.noaa.gov/psd/thredds/dodsC/Datasets/ncep.reanalysis.derived/pressure/hgt.mon.mean.nc')\n",
    "ds3 = xr.open_dataset('https://psl.noaa.gov/psd/thredds/dodsC/Datasets/ncep.reanalysis.derived/pressure/uwnd.mon.mean.nc')\n",
    "ds4 = xr.open_dataset('https://psl.noaa.gov/psd/thredds/dodsC/Datasets/ncep.reanalysis.derived/pressure/vwnd.mon.mean.nc')\n"
   ]
  },
  {
   "cell_type": "markdown",
   "metadata": {},
   "source": [
    "Provide the pressure level and month you wish to utilize. Also provide the month as a string, so our caption is attractive.\n"
   ]
  },
  {
   "cell_type": "code",
   "execution_count": null,
   "metadata": {},
   "outputs": [],
   "source": [
    "plevel = 850\n",
    "month = 1\n",
    "monthlabel = 'January'\n",
    "tm = int(month)-1"
   ]
  },
  {
   "cell_type": "code",
   "execution_count": null,
   "metadata": {},
   "outputs": [],
   "source": [
    "# Grab lat/lon values\n",
    "lats = ds.lat.data[0:29]\n",
    "lons = ds.lon.data\n",
    "\n",
    "temp = ds.air.sel(level=plevel)[tm::12,0:29,:]\n",
    "hght = ds2.hgt.sel(level=plevel)[tm::12,0:29,:]"
   ]
  },
  {
   "cell_type": "code",
   "execution_count": null,
   "metadata": {},
   "outputs": [],
   "source": [
    "#print (np.shape(temptest))\n",
    "print(np.shape(temp))\n",
    "print (np.shape(lats))\n",
    "print (np.shape(lons))"
   ]
  },
  {
   "cell_type": "markdown",
   "metadata": {},
   "source": [
    "Calculate EOFs!"
   ]
  },
  {
   "cell_type": "code",
   "execution_count": null,
   "metadata": {},
   "outputs": [],
   "source": [
    "coslat = np.cos(np.deg2rad(temp.coords['lat'].values)).clip(0., 1.)\n",
    "\n",
    "\n",
    "print(coslat)\n",
    "wgts = np.sqrt(coslat)[..., np.newaxis]\n",
    "\n",
    "#solver for EOFs/PCs: initially set for 850 hPa T\n",
    "solver = Eof(temp.values, weights=wgts)\n",
    "#EOF calculation:leading 2 EOFs\n",
    "eof1 = solver.eofsAsCorrelation(neofs=3)\n",
    "#eof1 = solver.eofsAsCovariance(neofs=2)\n",
    "pc1 = solver.pcs(npcs=3, pcscaling=1)\n",
    "varianceexplained = solver.varianceFraction(neigs=10)\n"
   ]
  },
  {
   "cell_type": "markdown",
   "metadata": {},
   "source": [
    "Map time!"
   ]
  },
  {
   "cell_type": "code",
   "execution_count": null,
   "metadata": {},
   "outputs": [],
   "source": [
    "# Set up the projection that will be used for plotting\n",
    "levels = np.arange(-1,1.05,0.05)\n",
    "\n",
    "mapcrs = ccrs.Robinson(central_longitude=180)\n",
    "\n",
    "# Set up the projection of the data; if lat/lon then PlateCarree is what you want\n",
    "datacrs = ccrs.PlateCarree()\n",
    "\n",
    "# Start the figure and create plot axes with proper projection\n",
    "fig = plt.figure(1, figsize=(14, 12))\n",
    "ax = plt.subplot(111, projection=mapcrs)\n",
    "\n",
    "#not needed here, but used for sub-setting domain to plot\n",
    "#ax.set_extent([-130, -72, 20, 55], ccrs.PlateCarree())\n",
    "\n",
    "# Add geopolitical boundaries for map reference\n",
    "ax.add_feature(cfeature.COASTLINE.with_scale('50m'))\n",
    "ax.add_feature(cfeature.STATES.with_scale('50m'))\n",
    "gl = ax.gridlines(color='gray',linewidth=2, alpha = 0.5, linestyle='--')\n",
    "\n",
    "# labels gridlines for PlateCarree ccrs option (doesn't work with Robinson, etc.)\n",
    "#gl.xlabels_top = False\n",
    "#gl.ylabels_right = False\n",
    "\n",
    "#color-filled contour time!\n",
    "#plotting temperature and including color bar\n",
    "\n",
    "cf = ax.contourf(lons, lats, eof1[0,:,:], levels, cmap=plt.cm.RdYlBu_r, transform=datacrs)\n",
    "plt.colorbar(cf, orientation='horizontal', pad=0.05, aspect=50)\n",
    "cs = ax.contour(lons, lats, eof1[0,:,:], levels, colors='black', transform=datacrs)\n",
    "plt.clabel(cs, fmt='%1.1f')\n",
    "\n",
    "# Plot 500-hPa wind barbs in knots, regrid to reduce number of barbs\n",
    "#ax.barbs(lons[::4], lats[::4], uwnd.to('kt')[ty,::4,::4].m, \n",
    "#         vwnd.to('kt')[ty,::4,::4].m, pivot='middle',\n",
    "#         color='black', transform=datacrs, length=5, linewidth=0.4)\n",
    "\n",
    "# Make some nice titles for the plot (one right, one left)\n",
    "plt.title('850 hPa T EOF 1 ' + str(monthlabel))\n",
    "\n",
    "# Reduce excessive white space around image and show\n",
    "plt.savefig('850hPaTeof1' + str(monthlabel), dpi=150, bbox_inches='tight')\n",
    "plt.show()"
   ]
  },
  {
   "cell_type": "code",
   "execution_count": null,
   "metadata": {},
   "outputs": [],
   "source": [
    "#Associated PC time series:\n",
    "years = list(range(1948,1948+len(pc1[:,0])))\n",
    "plt.plot(years,pc1[:,0])\n",
    "plt.axis([1948,2016,-3,3])\n",
    "plt.title(str(monthlabel) + ' ' +'PC1')\n",
    "plt.show()"
   ]
  },
  {
   "cell_type": "markdown",
   "metadata": {},
   "source": [
    "Histogram!"
   ]
  },
  {
   "cell_type": "code",
   "execution_count": null,
   "metadata": {},
   "outputs": [],
   "source": [
    "plt.hist(pc1[:,0])\n",
    "plt.axis([-3,3.1,0,20])\n",
    "plt.title(str(monthlabel) + ' ' +'PC1')\n",
    "plt.show()"
   ]
  },
  {
   "cell_type": "code",
   "execution_count": null,
   "metadata": {},
   "outputs": [],
   "source": [
    "print ('pc np shape')\n",
    "print (np.shape(pc1))\n",
    "print (pc1[:,0])\n",
    "print ('varianceexplained')\n",
    "print (varianceexplained)\n",
    "print (np.shape(eof1))"
   ]
  },
  {
   "cell_type": "markdown",
   "metadata": {},
   "source": [
    "Plot the 2nd EOF!"
   ]
  },
  {
   "cell_type": "code",
   "execution_count": null,
   "metadata": {},
   "outputs": [],
   "source": [
    "plt.figure(2,figsize=(14, 12))\n",
    "\n",
    "# Set up the projection that will be used for plotting\n",
    "levels = np.arange(-1,1.05,0.05)\n",
    "mapcrs = ccrs.Robinson(central_longitude=180)\n",
    "# Set up the projection of the data; if lat/lon then PlateCarree is what you want\n",
    "datacrs = ccrs.PlateCarree()\n",
    "\n",
    "# Start the figure and create plot axes with proper projection\n",
    "fig = plt.figure(2, figsize=(14, 12))\n",
    "ax = plt.subplot(111, projection=mapcrs)\n",
    "\n",
    "#not needed here, but used for sub-setting domain to plot\n",
    "#ax.set_extent([-130, -72, 20, 55], ccrs.PlateCarree())\n",
    "\n",
    "# Add geopolitical boundaries for map reference\n",
    "ax.add_feature(cfeature.COASTLINE.with_scale('50m'))\n",
    "ax.add_feature(cfeature.STATES.with_scale('50m'))\n",
    "gl = ax.gridlines(color='gray',linewidth=2, alpha = 0.5, linestyle='--')\n",
    "\n",
    "# labels gridlines for PlateCarree ccrs option (doesn't work with Robinson, etc.)\n",
    "#gl.xlabels_top = False\n",
    "#gl.ylabels_right = False\n",
    "\n",
    "#color-filled contour time!\n",
    "#plotting temperature and including color bar\n",
    "\n",
    "cf = ax.contourf(lons, lats, eof1[1,:,:], levels, cmap=plt.cm.RdYlBu_r, transform=datacrs)\n",
    "plt.colorbar(cf, orientation='horizontal', pad=0.05, aspect=50)\n",
    "cs = ax.contour(lons, lats, eof1[1,:,:], levels, colors='black', transform=datacrs)\n",
    "plt.clabel(cs, fmt='%1.1f')\n",
    "\n",
    "# Plot 500-hPa wind barbs in knots, regrid to reduce number of barbs\n",
    "#ax.barbs(lons[::4], lats[::4], uwnd.to('kt')[ty,::4,::4].m, \n",
    "#         vwnd.to('kt')[ty,::4,::4].m, pivot='middle',\n",
    "#         color='black', transform=datacrs, length=5, linewidth=0.4)\n",
    "\n",
    "# Make some nice titles for the plot (one right, one left)\n",
    "plt.title('850 hPa T EOF 2 ' + str(monthlabel))\n",
    "\n",
    "# Reduce excessive white space around image and show\n",
    "plt.savefig('850hPaTeof2' + str(monthlabel), dpi=150, bbox_inches='tight')\n",
    "plt.show()"
   ]
  },
  {
   "cell_type": "code",
   "execution_count": null,
   "metadata": {},
   "outputs": [],
   "source": [
    "#Associated PC time series:\n",
    "years = list(range(1948,1948+len(pc1[:,1])))\n",
    "plt.plot(years,pc1[:,1])\n",
    "plt.axis([1948,2016,-3,3])\n",
    "plt.title(str(monthlabel) + ' ' +'PC2')\n",
    "plt.show()"
   ]
  },
  {
   "cell_type": "code",
   "execution_count": null,
   "metadata": {},
   "outputs": [],
   "source": [
    "plt.hist(pc1[:,1])\n",
    "plt.axis([-3,3.1,0,20])\n",
    "plt.title(str(monthlabel) + ' ' +'PC2')\n",
    "plt.show()"
   ]
  },
  {
   "cell_type": "markdown",
   "metadata": {},
   "source": [
    "Write the PC time series to a file"
   ]
  },
  {
   "cell_type": "code",
   "execution_count": null,
   "metadata": {},
   "outputs": [],
   "source": [
    "outfile = open('850hPaTPC' + str(monthlabel)+'.csv','w')\n",
    "outfile.writelines(\"Year   PC1      PC2 \\n\")\n",
    "#outfile.writelines(str(pc1[:,0])+', '+str(pc1[:,1])+'\\n')\n",
    "for i in range(0,len(pc1)):\n",
    "    outfile.writelines(str(years[i])+', '+str(pc1[i,0])+', '+str(pc1[i,1])+'\\n')\n",
    "outfile.close()\n"
   ]
  },
  {
   "cell_type": "markdown",
   "metadata": {},
   "source": [
    "Read in NAO data, so we can see relationship with temperature PCs!"
   ]
  },
  {
   "cell_type": "code",
   "execution_count": null,
   "metadata": {},
   "outputs": [],
   "source": [
    "infile = open('../data/mei.txt', 'r')\n",
    "mei = infile.readlines()\n",
    "print (np.shape(mei))\n",
    "\n",
    "for i in range(len(mei)):\n",
    "    mei[i] = mei[i].split()\n",
    "\n",
    "mei = np.array(mei).astype('float')\n",
    "print (np.shape(mei))"
   ]
  },
  {
   "cell_type": "markdown",
   "metadata": {},
   "source": [
    "Scatterplot of the leading 850 hPa temperature PC with the NAO  "
   ]
  },
  {
   "cell_type": "code",
   "execution_count": null,
   "metadata": {},
   "outputs": [],
   "source": [
    "plt.plot(pc1[2:69,0],mei[2:69,1], 'bo')\n",
    "#plt.axis([-2, 2, -2, 2])\n",
    "plt.title('850 hPa Temperature PC1 and January MEI')\n",
    "plt.xlabel(' Temperature PC1')\n",
    "plt.ylabel('MEI')\n",
    "plt.show()"
   ]
  },
  {
   "cell_type": "code",
   "execution_count": null,
   "metadata": {},
   "outputs": [],
   "source": [
    "print(np.corrcoef(pc1[2:69,0],mei[2:69,1])[1,0])"
   ]
  },
  {
   "cell_type": "code",
   "execution_count": null,
   "metadata": {},
   "outputs": [],
   "source": []
  }
 ],
 "metadata": {
  "anaconda-cloud": {},
  "kernelspec": {
   "display_name": "Python 3",
   "language": "python",
   "name": "python3"
  },
  "language_info": {
   "codemirror_mode": {
    "name": "ipython",
    "version": 3
   },
   "file_extension": ".py",
   "mimetype": "text/x-python",
   "name": "python",
   "nbconvert_exporter": "python",
   "pygments_lexer": "ipython3",
   "version": "3.8.2"
  }
 },
 "nbformat": 4,
 "nbformat_minor": 4
}
