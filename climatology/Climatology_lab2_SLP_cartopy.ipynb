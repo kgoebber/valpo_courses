{
 "cells": [
  {
   "cell_type": "markdown",
   "metadata": {},
   "source": [
    "# Lab 2\n",
    "This is the SLP jupyter notebook for lab 2. First we will import some libraries and functions. "
   ]
  },
  {
   "cell_type": "code",
   "execution_count": null,
   "metadata": {},
   "outputs": [],
   "source": [
    "import numpy as np\n",
    "from netCDF4 import MFDataset \n",
    "from netCDF4 import Dataset \n",
    "import matplotlib\n",
    "matplotlib.use('Agg')\n",
    "import matplotlib.pylab as plt\n",
    "from datetime import datetime\n",
    "from netCDF4 import num2date\n",
    "from netCDF4 import date2index\n",
    "import cartopy.crs as ccrs\n",
    "import cartopy.feature as cfeature\n",
    "import metpy.calc as mpcalc\n",
    "from metpy.units import units\n",
    "import xarray as xr\n",
    "import cartopy.util as cutil\n",
    "%matplotlib inline"
   ]
  },
  {
   "cell_type": "markdown",
   "metadata": {},
   "source": [
    "Our next setep is to read in the netCDF files. "
   ]
  },
  {
   "cell_type": "code",
   "execution_count": null,
   "metadata": {},
   "outputs": [],
   "source": [
    "ds = xr.open_dataset('https://psl.noaa.gov/psd/thredds/dodsC/Datasets/ncep.reanalysis.derived/surface/air.mon.mean.nc')\n",
    "ds2 = xr.open_dataset('https://psl.noaa.gov/psd/thredds/dodsC/Datasets/ncep.reanalysis.derived/surface/slp.mon.mean.nc')\n",
    "ds3 = xr.open_dataset('https://psl.noaa.gov/psd/thredds/dodsC/Datasets/ncep.reanalysis.derived/surface/uwnd.mon.mean.nc')\n",
    "ds4 = xr.open_dataset('https://psl.noaa.gov/psd/thredds/dodsC/Datasets/ncep.reanalysis.derived/surface/vwnd.mon.mean.nc')\n"
   ]
  },
  {
   "cell_type": "markdown",
   "metadata": {},
   "source": [
    "Provide the month you wish to plot. Also provide the month as a string, so our caption is attractive. "
   ]
  },
  {
   "cell_type": "code",
   "execution_count": null,
   "metadata": {},
   "outputs": [],
   "source": [
    "month = 1\n",
    "monthlabel = 'January'"
   ]
  },
  {
   "cell_type": "markdown",
   "metadata": {},
   "source": [
    "Now we extract the data desired. The ::12 is to take every 12th month, set about the month (tm) we selected. Be patient, since this step takes a minute or two! (The * indicates that the process is still working. "
   ]
  },
  {
   "cell_type": "code",
   "execution_count": null,
   "metadata": {},
   "outputs": [],
   "source": [
    "# Grab lat/lon values\n",
    "lats = ds.lat.data\n",
    "lons = ds.lon.data\n",
    "\n",
    "#subtract 1 from tm because the first observation in Python is observation 0\n",
    "tm = int(month)-1\n",
    "temp = ds.air[tm::12,:,:]\n",
    "slp = ds2.slp[tm::12,:,:]\n",
    "uwnd = ds3.uwnd.values[tm::12,:,:] * units('m/s')\n",
    "vwnd = ds4.vwnd.values[tm::12,:,:] * units('m/s')\n"
   ]
  },
  {
   "cell_type": "markdown",
   "metadata": {},
   "source": [
    "Print the numpy shapes of the temperature, latitude and longtitude. This can be important when debugging."
   ]
  },
  {
   "cell_type": "code",
   "execution_count": null,
   "metadata": {},
   "outputs": [],
   "source": [
    "print (np.shape(temp))\n",
    "print (np.shape(lats))\n",
    "print (np.shape(lons))"
   ]
  },
  {
   "cell_type": "markdown",
   "metadata": {},
   "source": [
    "Select the countour settings for the temperature (in degrees C) and SLP (in hPa). The format is (minimum, maximum, interval) "
   ]
  },
  {
   "cell_type": "code",
   "execution_count": null,
   "metadata": {},
   "outputs": [],
   "source": [
    "clevs_temp = np.arange(-65,50,5)\n",
    "clevs_slp = np.arange(940,1080,4)"
   ]
  },
  {
   "cell_type": "code",
   "execution_count": null,
   "metadata": {},
   "outputs": [],
   "source": [
    "# Set up the projection that will be used for plotting\n",
    "mapcrs = ccrs.Robinson(central_longitude=180)\n",
    "\n",
    "# Set up the projection of the data; if lat/lon then PlateCarree is what you want\n",
    "datacrs = ccrs.PlateCarree()\n",
    "\n",
    "# Start the figure and create plot axes with proper projection\n",
    "fig = plt.figure(1, figsize=(14, 12))\n",
    "ax = plt.subplot(111, projection=mapcrs)\n",
    "\n",
    "#not needed here, but used for sub-setting domain to plot\n",
    "#ax.set_extent([-130, -72, 20, 55], ccrs.PlateCarree())\n",
    "\n",
    "# Add geopolitical boundaries for map reference\n",
    "ax.add_feature(cfeature.COASTLINE.with_scale('50m'))\n",
    "ax.add_feature(cfeature.STATES.with_scale('50m'))\n",
    "gl = ax.gridlines(color='gray',linewidth=2, alpha = 0.5, linestyle='--')\n",
    "\n",
    "# labels gridlines for PlateCarree ccrs option (doesn't work with Robinson, etc.)\n",
    "#gl.xlabels_top = False\n",
    "#gl.ylabels_right = False\n",
    "\n",
    "#color-filled contour time!\n",
    "#plotting temperature and including color bar\n",
    "cf = ax.contourf(lons, lats, np.mean(temp[:,:,:],axis=0), clevs_temp, cmap=plt.cm.RdYlBu_r, transform=datacrs)\n",
    "plt.colorbar(cf, orientation='horizontal', pad=0.05, aspect=50)\n",
    "\n",
    "# Plot 500-hPa Geopotential Heights in meters\n",
    "cs = ax.contour(lons, lats, np.mean(slp[:,:,:],axis=0), clevs_slp, colors='black', transform=datacrs)\n",
    "plt.clabel(cs, fmt='%d')\n",
    "\n",
    "# Plot 500-hPa wind barbs in knots, regrid to reduce number of barbs\n",
    "ax.barbs(lons[::4], lats[::4], np.mean(uwnd.to('kt')[:,::4,::4].m,axis=0), \n",
    "         np.mean(vwnd.to('kt')[:,::4,::4].m, axis=0), pivot='middle',\n",
    "         color='black', transform=datacrs, length=5, linewidth=0.4)\n",
    "\n",
    "# Make some nice titles for the plot (one right, one left)\n",
    "plt.title('Surface Climatology ' + str(monthlabel))\n",
    "\n",
    "# Reduce excessive white space around image and show\n",
    "plt.savefig('SurfaceClimatology' + str(monthlabel), dpi=150, bbox_inches='tight')\n",
    "plt.show()"
   ]
  },
  {
   "cell_type": "markdown",
   "metadata": {},
   "source": [
    "Now we will make a map of the standard deviation of sea level pressure (SLP) for our selected month. We could do this in a separate notebook, but placing it here saves us from re-reading in the data.  "
   ]
  },
  {
   "cell_type": "markdown",
   "metadata": {},
   "source": [
    "We need to set levels for the standard deviation, since the scale is much different!"
   ]
  },
  {
   "cell_type": "code",
   "execution_count": null,
   "metadata": {},
   "outputs": [],
   "source": [
    "levels_sd = np.arange(0,12,1)"
   ]
  },
  {
   "cell_type": "code",
   "execution_count": null,
   "metadata": {},
   "outputs": [],
   "source": [
    "# Set up the projection that will be used for plotting\n",
    "mapcrs = ccrs.Robinson(central_longitude=180)\n",
    "\n",
    "# Set up the projection of the data; if lat/lon then PlateCarree is what you want\n",
    "datacrs = ccrs.PlateCarree()\n",
    "\n",
    "# Start the figure and create plot axes with proper projection\n",
    "fig = plt.figure(2, figsize=(14, 12))\n",
    "ax = plt.subplot(111, projection=mapcrs)\n",
    "\n",
    "# Add geopolitical boundaries for map reference\n",
    "ax.add_feature(cfeature.COASTLINE.with_scale('50m'))\n",
    "ax.add_feature(cfeature.STATES.with_scale('50m'))\n",
    "gl = ax.gridlines(color='gray',linewidth=2, alpha = 0.5, linestyle='--')\n",
    "\n",
    "# labels gridlines for PlateCarree ccrs option (doesn't work with Robinson, etc.)\n",
    "#gl.xlabels_top = False\n",
    "#gl.ylabels_right = False\n",
    "\n",
    "#color-filled contour time!\n",
    "#plotting temperature and including color bar\n",
    "cf = ax.contourf(lons, lats, np.std(slp[:,:,:],axis=0), levels_sd, cmap=plt.cm.RdYlBu_r, transform=datacrs)\n",
    "plt.colorbar(cf, orientation='horizontal', pad=0.05, aspect=50)\n",
    "\n",
    "# Plot 500-hPa Geopotential Heights in meters\n",
    "cs = ax.contour(lons, lats, np.std(slp[:,:,:],axis=0), levels_sd, colors='black', transform=datacrs)\n",
    "plt.clabel(cs, fmt='%d')\n",
    "\n",
    "# Make some nice titles for the plot (one right, one left)\n",
    "plt.title('SLP Standard Deviation ' + str(monthlabel))\n",
    "\n",
    "# Reduce excessive white space around image and show\n",
    "plt.savefig('SLPstandarddeviation' + str(monthlabel), dpi=150, bbox_inches='tight')\n",
    "plt.show()"
   ]
  },
  {
   "cell_type": "code",
   "execution_count": null,
   "metadata": {},
   "outputs": [],
   "source": []
  }
 ],
 "metadata": {
  "anaconda-cloud": {},
  "kernelspec": {
   "display_name": "Python 3",
   "language": "python",
   "name": "python3"
  },
  "language_info": {
   "codemirror_mode": {
    "name": "ipython",
    "version": 3
   },
   "file_extension": ".py",
   "mimetype": "text/x-python",
   "name": "python",
   "nbconvert_exporter": "python",
   "pygments_lexer": "ipython3",
   "version": "3.8.2"
  }
 },
 "nbformat": 4,
 "nbformat_minor": 4
}
