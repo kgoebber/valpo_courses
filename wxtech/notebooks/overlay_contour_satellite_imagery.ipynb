{
 "cells": [
  {
   "cell_type": "markdown",
   "metadata": {},
   "source": [
    "# Overlay Satellite Imagery with Contours\n",
    "\n",
    "In order to successfully make a plot with satellite data and contours we'll need to use two data sources to bring in the data and then set the plot parameters for each. Some key elements to keep in mind:\n",
    "1. The time of your satellite file likely won't be the same as the contour data.\n",
    "   - This is because we get updated satellite data every 5 minutes while model analysis files are only available at 00, 06, 12, and 18 UTC.\n",
    "   - Create two different time variables to help keep track of the different times.\n",
    "2. You'll need to keep two separate variables for the data objects, one for the satellite data and one for the gridded data.\n",
    "   - It doesn't matter what you call the variable names, for example you can store the satellite data in `ds` and the gridded data in `ds_gfs` if you are using GFS gridded analyses.\n",
    "3. Pay attention to the data and time attributes for the different data plots to make sure you assign the correct variables to each."
   ]
  },
  {
   "cell_type": "markdown",
   "metadata": {},
   "source": [
    "### Import Packages"
   ]
  },
  {
   "cell_type": "code",
   "execution_count": null,
   "metadata": {},
   "outputs": [],
   "source": [
    "from datetime import datetime\n",
    "\n",
    "import metpy.calc as mpcalc\n",
    "from metpy.plots import declarative\n",
    "from metpy.units import units\n",
    "import numpy as np\n",
    "from siphon.catalog import TDSCatalog\n",
    "import xarray as xr"
   ]
  },
  {
   "cell_type": "markdown",
   "metadata": {},
   "source": [
    "### Helper Function"
   ]
  },
  {
   "cell_type": "markdown",
   "metadata": {},
   "source": [
    "### Get Satellite Data\n"
   ]
  },
  {
   "cell_type": "code",
   "execution_count": null,
   "metadata": {},
   "outputs": [],
   "source": [
    "date = datetime(2023, 3, 31, 15, 30)\n",
    "\n",
    "# Create variables for URL generation\n",
    "region = 'CONUS'\n",
    "channel = 9\n",
    "satellite = 'east'\n",
    "\n",
    "# We want to match something like:\n",
    "# https://thredds-test.unidata.ucar.edu/thredds/catalog/satellite/goes16/GOES16/Mesoscale-1/Channel08/20181113/catalog.html\n",
    "\n",
    "# Construct the data_url string\n",
    "data_url = (f'https://thredds.ucar.edu/thredds/catalog/satellite/goes/{satellite}/products/'\n",
    "            f'CloudAndMoistureImagery/{region}/Channel{channel:02d}/'\n",
    "            f'{date:%Y%m%d}/catalog.xml')\n",
    "\n",
    "# Get list of files available for particular day\n",
    "cat = TDSCatalog(data_url)\n",
    "\n",
    "# Grab dataset for desired time\n",
    "dataset = cat.datasets.filter_time_nearest(date, regex=r'_s(?P<strptime>\\d{13})', strptime='%Y%j%H%M%S')\n",
    "\n",
    "# Open most recent file available\n",
    "ds = dataset.remote_access(use_xarray=True)\n",
    "\n",
    "# Apply a square root correction for visible imagery only\n",
    "if channel == 2:\n",
    "    ds['Sectorized_CMI'].values = np.sqrt(ds['Sectorized_CMI'].values)\n",
    "\n",
    "# Grab time from file and make into datetime object for plotting and later data access\n",
    "vtime = ds.time.values.astype('datetime64[ms]').astype('O')"
   ]
  },
  {
   "cell_type": "markdown",
   "metadata": {},
   "source": [
    "### Get Gridded Data\n",
    "Choose the closest time to the satellite observations based on the limitations of available gridded data. For example, GFS analysis are only available at 00, 06, 12, and 18 UTC. So for a satellite observation from 1530 UTC, the closest gridded ouput that would be availabe would be 12 UTC."
   ]
  },
  {
   "cell_type": "code",
   "execution_count": null,
   "metadata": {},
   "outputs": [],
   "source": [
    "gfs_date = datetime(date.year, date.month, date.day, 12)\n",
    "\n",
    "# Remote access to the dataset from the UCAR site\n",
    "ds_gfs = xr.open_dataset('https://thredds.ucar.edu/thredds/dodsC/grib'\n",
    "                         f'/NCEP/GFS/Global_onedeg/GFS_Global_onedeg_{gfs_date:%Y%m%d}_{gfs_date:%H%M}.grib2')\n",
    "\n",
    "# Subset data to be just over the U.S. for plotting purposes\n",
    "ds_gfs = ds_gfs.sel(lat=slice(70,10), lon=slice(360-150, 360-55)).metpy.parse_cf()"
   ]
  },
  {
   "cell_type": "markdown",
   "metadata": {},
   "source": [
    "### Plot Imagery\n",
    "\n",
    "Set attributes for both the contour and satellite image plots, then add both to the same panel.\n",
    "\n",
    "Note: The extent is set by hand to better correspond to the satellite image area. Trial and error is the best way to come up with an area attribute setting that would best."
   ]
  },
  {
   "cell_type": "code",
   "execution_count": null,
   "metadata": {},
   "outputs": [],
   "source": [
    "# Declare the data we wish to plot\n",
    "# Set attributes for plotting contours\n",
    "cntr = declarative.ContourPlot()\n",
    "cntr.data = ds_gfs\n",
    "cntr.field = 'Geopotential_height_isobaric'\n",
    "cntr.level = 300 * units.hPa\n",
    "cntr.time = gfs_date\n",
    "cntr.linecolor = 'cyan'\n",
    "cntr.contours = list(range(0, 10000, 120))\n",
    "cntr.clabels = True\n",
    "\n",
    "img = declarative.ImagePlot()\n",
    "img.data = ds\n",
    "img.field = 'Sectorized_CMI'\n",
    "img.colormap = 'Greys'\n",
    "img.colorbar = 'horizontal'\n",
    "img.image_range = (200, 280)\n",
    "\n",
    "# Plot the data on a map\n",
    "panel = declarative.MapPanel()\n",
    "panel.area = [-113, -62, 16, 51]\n",
    "panel.layers = ['coastline', 'borders', 'states']\n",
    "panel.left_title = f'GOES East WV Channel {channel:02d}'\n",
    "panel.right_title = f'Valid Time: {vtime} UTC'\n",
    "panel.plots = [img, cntr]\n",
    "\n",
    "# Place the map on a figure\n",
    "pc = declarative.PanelContainer()\n",
    "pc.size = (15, 15)\n",
    "pc.panels = [panel]\n",
    "#pc.save(f'GOES_East_{vtime:%Y%m%d_%H%M}_colorenhanced.png', bbox_inches='tight', dpi=150)\n",
    "pc.show()"
   ]
  },
  {
   "cell_type": "code",
   "execution_count": null,
   "metadata": {},
   "outputs": [],
   "source": []
  }
 ],
 "metadata": {
  "kernelspec": {
   "display_name": "Python 3 (ipykernel)",
   "language": "python",
   "name": "python3"
  },
  "language_info": {
   "codemirror_mode": {
    "name": "ipython",
    "version": 3
   },
   "file_extension": ".py",
   "mimetype": "text/x-python",
   "name": "python",
   "nbconvert_exporter": "python",
   "pygments_lexer": "ipython3",
   "version": "3.10.5"
  }
 },
 "nbformat": 4,
 "nbformat_minor": 4
}
