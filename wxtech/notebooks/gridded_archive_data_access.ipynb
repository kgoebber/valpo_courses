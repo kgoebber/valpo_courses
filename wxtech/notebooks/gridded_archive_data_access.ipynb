{
 "cells": [
  {
   "cell_type": "markdown",
   "metadata": {},
   "source": [
    "# Access Gridded Archive Data\n",
    "\n",
    "There are many times when we might want to access past (archive) datasets\n",
    "to analyze and visualize meteorological information. There are a host of different\n",
    "gridded data that are available through various THREDDS servers that allow simple\n",
    "remote access to the requested data. Unfortunately, these data are not all located\n",
    "in the same place or use the same conventions for storing the data. Data availability\n",
    "is also highly contigent on the date/time. Models get updated, new ones come along, and\n",
    "old ones are retired. Additionally, some datasets only contain\n",
    "the best analysis time (e.g., F000) for a given model run (at least 00, 06, 12, and 18),\n",
    "whereas others contain all of the forecast hours. Therefore you'll want to look carefully\n",
    "at the data avalability times and the full scope of the available data\n",
    "to help you choose the best data access method for the question(s) you are attempting\n",
    "to answer."
   ]
  },
  {
   "cell_type": "code",
   "execution_count": null,
   "metadata": {},
   "outputs": [],
   "source": [
    "from datetime import datetime\n",
    "\n",
    "import metpy.calc as mpcalc\n",
    "import xarray as xr"
   ]
  },
  {
   "cell_type": "markdown",
   "metadata": {},
   "source": [
    "## RDA GFS Analysis Archive\n",
    "The NCAR Research Data Archive (RDA) is a great resource for gridded data that\n",
    "can be easily utilized in the declarative syntax within MetPy. Depending on the\n",
    "dates desired, there are different end points to point to gain access to the desired\n",
    "data. This archive contains all of the forecast hours in addition to the analysis (e.g., F000)\n",
    "times.\n",
    "\n",
    "GFS Data from 1 January 2009 - near current"
   ]
  },
  {
   "cell_type": "markdown",
   "metadata": {},
   "source": [
    "### GFS One Degree Archive - Older Data\n",
    "\n",
    "18 UTC 30 July 1999 through 06 UTC 6 December 7"
   ]
  },
  {
   "cell_type": "code",
   "execution_count": null,
   "metadata": {},
   "outputs": [],
   "source": [
    "# Data available July 30, 1999 at 18 UTC through December 6, 2007 at 06 UTC\n",
    "ds = xr.open_dataset('https://rda.ucar.edu/thredds/dodsC/aggregations/g/ds083.2/1/TP')\n",
    "\n",
    "print(ds.Geopotential_height_isobaric)"
   ]
  },
  {
   "cell_type": "markdown",
   "metadata": {},
   "source": [
    "### GFS One Degree Archive - to current\n",
    "\n",
    "12 UTC 6 December 2007 to 18 UTC 13 March 2023\n"
   ]
  },
  {
   "cell_type": "code",
   "execution_count": null,
   "metadata": {},
   "outputs": [],
   "source": [
    "# Data Available December 6, 2007 at 06 UTC through March 31, 2023 at 18 UTC\n",
    "ds = xr.open_dataset('https://rda.ucar.edu/thredds/dodsC/aggregations/g/ds083.2/2/TP')\n",
    "\n",
    "print(ds.Geopotential_height_isobaric)"
   ]
  },
  {
   "cell_type": "markdown",
   "metadata": {},
   "source": [
    "### GFS 0.25 Degree Archive - to current\n",
    "\n",
    "12 UTC 6 December 2007 to present\n"
   ]
  },
  {
   "cell_type": "code",
   "execution_count": null,
   "metadata": {
    "tags": []
   },
   "outputs": [],
   "source": [
    "date = datetime(2019, 3, 12, 0)\n",
    "\n",
    "# Current data from January 15, 2015 at 00 UTC through present\n",
    "# Direct file access\n",
    "ds = xr.open_dataset('https://thredds.rda.ucar.edu/thredds/dodsC/files/g/ds084.1/'\n",
    "                    f'{date:%Y}/{date:%Y%m%d}/gfs.0p25.{date:%Y%m%d%H}.f000.grib2')\n",
    "\n",
    "print(ds.Geopotential_height_isobaric)"
   ]
  },
  {
   "cell_type": "markdown",
   "metadata": {},
   "source": [
    "## GFS 0.5 Degree Analysis Data\n",
    "Another set of archive gridded data are those available from NOAA NCEI. This data source\n",
    "has been more tempermental and is not always available. These files only contain the final\n",
    "analysis (e.g., F000) for each of the model runs (00, 06, 12, 18).\n",
    "\n",
    "GFS Half Degree Data from December 2007 - present"
   ]
  },
  {
   "cell_type": "code",
   "execution_count": null,
   "metadata": {},
   "outputs": [],
   "source": [
    "date = datetime(2018, 12, 25, 0)\n",
    "\n",
    "# GFS 0.5 degree Analysis back to 00 UTC 1 January 2007 to three years ago\n",
    "ds = xr.open_dataset('https://www.ncei.noaa.gov/thredds/dodsC/model-gfs-g4-anl-files-old/'\n",
    "                     f'{date:%Y%m/%Y%m%d}/gfsanl_4_{date:%Y%m%d_%H}00_000.grb2')\n",
    "\n",
    "# GFS 0.5 degree Analysis for last three years to present (~ 3 days ago)\n",
    "#ds = xr.open_dataset('https://www.ncei.noaa.gov/thredds/dodsC/model-gfs-g4-anl-files/'\n",
    "#                     f'{date:%Y%m/%Y%m%d}/gfs_4_{date:%Y%m%d_%H}00_000.grb2')\n",
    "\n",
    "print(ds.Geopotential_height_isobaric)"
   ]
  },
  {
   "cell_type": "markdown",
   "metadata": {},
   "source": [
    "## GFS 1 Degree Data\n",
    "Another set of archive gridded data are those available from NOAA NCEI. This data source\n",
    "has been more tempermental and is not always available. These files only contain the final\n",
    "analysis (e.g., F000) for each of the model runs (00, 06, 12, 18).\n",
    "\n",
    "GFS One Degree Data from March 2004 - nearly present"
   ]
  },
  {
   "cell_type": "code",
   "execution_count": null,
   "metadata": {},
   "outputs": [],
   "source": [
    "date = datetime(2004, 3, 2, 0)\n",
    "\n",
    "# GFS 1-degree Analysis back to 00 UTC 2 March 2004 to April 2020\n",
    "# Dates after April 5, 2017 use the suffix of .grb2 instead of .grb\n",
    "ds = xr.open_dataset('https://www.ncei.noaa.gov/thredds/dodsC/model-gfs-g3-anl-files-old/'\n",
    "                     f'{date:%Y%m/%Y%m%d}/gfsanl_3_{date:%Y%m%d_%H}00_000.grb')\n",
    "\n",
    "# GFS 1 degree Analysis from May 2020 to five days prior to present (~ 3 days ago)\n",
    "#ds = xr.open_dataset('https://www.ncei.noaa.gov/thredds/dodsC/model-gfs-g3-anl-files/'\n",
    "#                     f'{date:%Y%m/%Y%m%d}/gfs_3_{date:%Y%m%d_%H}00_000.grb2')\n",
    "\n",
    "print(ds.Geopotential_height_isobaric)"
   ]
  },
  {
   "cell_type": "markdown",
   "metadata": {},
   "source": [
    "## NAM 12 km Analysis Data\n",
    "nother set of archive gridded data are those available from NOAA NCEI. This data source\n",
    "has been more tempermental and is not always available. These files only contain the final\n",
    "analysis (e.g., F000) for each of the model runs (00, 06, 12, 18).\n",
    "\n",
    "NAM 12 km Data from March 2004 - nearly present"
   ]
  },
  {
   "cell_type": "code",
   "execution_count": null,
   "metadata": {},
   "outputs": [],
   "source": [
    "date = datetime(2008, 3, 2, 18)\n",
    "\n",
    "# NAM 218 Grid Analysis back to 18 UTC 2 March 2004 to three years ago\n",
    "# Dates after April 5, 2017 use the suffix of .grb2 instead of .grb\n",
    "ds = xr.open_dataset('https://www.ncei.noaa.gov/thredds/dodsC/model-namanl-old/'\n",
    "                     f'{date:%Y%m/%Y%m%d}/namanl_218_{date:%Y%m%d_%H}00_000.grb')\n",
    "\n",
    "# NAM 218 Grid Analysis for the past three years to near present (~ 3 days ago)\n",
    "#ds = xr.open_dataset('https://www.ncei.noaa.gov/thredds/dodsC/model-namanl-old/'\n",
    "#                     f'{date:%Y%m/%Y%m%d}/namanl_218_{date:%Y%m%d_%H}00_000.grb2')\n",
    "\n",
    "print(ds.Geopotential_height_isobaric)"
   ]
  },
  {
   "cell_type": "markdown",
   "metadata": {},
   "source": [
    "## North American Regional Reanalysis\n",
    "Another set of archive gridded data are those available from NOAA NCEI. This data source\n",
    "has been more tempermental and is not always available. This is a reanalysis dataset\n",
    "that was stored in this location from September 2014. The data are on the NAM grid.\n",
    "\n",
    "NARR Data from January 1979 - September 2014"
   ]
  },
  {
   "cell_type": "code",
   "execution_count": null,
   "metadata": {},
   "outputs": [],
   "source": [
    "date = datetime(1991, 10, 15, 0)\n",
    "\n",
    "# North American Regional Reanalysis Analysis back to 0 UTC 1 January 1979 to 30 September 2014\n",
    "ds = xr.open_dataset('https://www.ncei.noaa.gov/thredds/dodsC/model-narr-a-files/'\n",
    "                     f'{date:%Y%m/%Y%m%d}/narr-a_221_{date:%Y%m%d_%H}00_000.grb')\n",
    "\n",
    "print(ds.Geopotential_height_isobaric)"
   ]
  },
  {
   "cell_type": "code",
   "execution_count": null,
   "metadata": {},
   "outputs": [],
   "source": []
  }
 ],
 "metadata": {
  "kernelspec": {
   "display_name": "Python 3 (ipykernel)",
   "language": "python",
   "name": "python3"
  },
  "language_info": {
   "codemirror_mode": {
    "name": "ipython",
    "version": 3
   },
   "file_extension": ".py",
   "mimetype": "text/x-python",
   "name": "python",
   "nbconvert_exporter": "python",
   "pygments_lexer": "ipython3",
   "version": "3.11.4"
  }
 },
 "nbformat": 4,
 "nbformat_minor": 4
}
