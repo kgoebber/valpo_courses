{
 "cells": [
  {
   "cell_type": "code",
   "execution_count": null,
   "metadata": {},
   "outputs": [],
   "source": [
    "from datetime import datetime\n",
    "import metpy.calc as mpcalc\n",
    "import xarray as xr"
   ]
  },
  {
   "cell_type": "markdown",
   "metadata": {},
   "source": [
    "## RDA GFS Analysis Archive\n",
    "\n",
    "Data from 1 January 2009 - near current"
   ]
  },
  {
   "cell_type": "code",
   "execution_count": null,
   "metadata": {},
   "outputs": [],
   "source": [
    "from siphon.catalog import TDSCatalog\n",
    "\n",
    "date = datetime(2012, 3, 12, 0)\n",
    "\n",
    "catUrl = \"https://rda.ucar.edu/thredds/catalog/aggregations/g/ds083.2/2/catalog.xml\"\n",
    "datasetName = \"Full Collection Dataset\"\n",
    "catalog = TDSCatalog(catUrl)\n",
    "dataset = catalog.datasets[datasetName]\n",
    "ds = dataset.remote_access(use_xarray=True)\n",
    "\n",
    "# Subset data to be just over the U.S. for plotting purposes\n",
    "ds = ds.sel(lat=slice(70,10), lon=slice(360-150, 360-55)).metpy.parse_cf()\n",
    "\n",
    "ds"
   ]
  },
  {
   "cell_type": "markdown",
   "metadata": {},
   "source": [
    "## GFS 0.5 Degree Data\n",
    "\n",
    "Data from December 2007 - nearly present"
   ]
  },
  {
   "cell_type": "code",
   "execution_count": null,
   "metadata": {},
   "outputs": [],
   "source": [
    "date = datetime(2007, 12, 25, 0)\n",
    "\n",
    "# GFS 0.5 degree Analysis back to 06 UTC 24 December 2007 to five days prior to present\n",
    "ds = xr.open_dataset('https://www.ncei.noaa.gov/thredds/dodsC/model-gfs-g4-anl-files-old/'\n",
    "                     f'{date:%Y%m/%Y%m%d}/gfsanl_4_{date:%Y%m%d_%H}00_000.grb2')\n",
    "ds"
   ]
  },
  {
   "cell_type": "markdown",
   "metadata": {},
   "source": [
    "## GFS 1 Degree Data\n",
    "\n",
    "Data from March 2004 - nearly present"
   ]
  },
  {
   "cell_type": "code",
   "execution_count": null,
   "metadata": {},
   "outputs": [],
   "source": [
    "date = datetime(2004, 3, 2, 0)\n",
    "\n",
    "# GFS 1 degree Analysis back to 00 UTC 2 March 2004 to five days prior to present\n",
    "ds = xr.open_dataset('https://www.ncei.noaa.gov/thredds/dodsC/model-gfs-g3-anl-files-old/'\n",
    "                     f'{date:%Y%m/%Y%m%d}/gfsanl_3_{date:%Y%m%d_%H}00_000.grb')\n",
    "ds"
   ]
  },
  {
   "cell_type": "markdown",
   "metadata": {},
   "source": [
    "## NAM 12 km Data\n",
    "\n",
    "Data from March 2004 - nearly present"
   ]
  },
  {
   "cell_type": "code",
   "execution_count": null,
   "metadata": {},
   "outputs": [],
   "source": [
    "date = datetime(2004, 3, 2, 18)\n",
    "\n",
    "# NAM 218 Grid Analysis back to 18 UTC 2 March 2004 to five days prior to present\n",
    "ds = xr.open_dataset('https://www.ncei.noaa.gov/thredds/dodsC/model-namanl-old/'\n",
    "                     f'{date:%Y%m/%Y%m%d}/namanl_218_{date:%Y%m%d_%H}00_000.grb')\n",
    "ds"
   ]
  },
  {
   "cell_type": "markdown",
   "metadata": {},
   "source": [
    "## North American Regional Reanalysis\n",
    "Data from January 1979 - September 2014"
   ]
  },
  {
   "cell_type": "code",
   "execution_count": null,
   "metadata": {},
   "outputs": [],
   "source": [
    "date = datetime(1979, 1, 1, 0)\n",
    "\n",
    "# North American Regional Reanalysis Analysis back to 0 UTC 1 January 1979 to 30 September 2014\n",
    "ds = xr.open_dataset('https://www.ncei.noaa.gov/thredds/dodsC/model-narr-a-files/'\n",
    "                     f'{date:%Y%m/%Y%m%d}/narr-a_221_{date:%Y%m%d_%H}00_000.grb')\n",
    "ds"
   ]
  },
  {
   "cell_type": "code",
   "execution_count": null,
   "metadata": {},
   "outputs": [],
   "source": []
  }
 ],
 "metadata": {
  "kernelspec": {
   "display_name": "Python 3",
   "language": "python",
   "name": "python3"
  },
  "language_info": {
   "codemirror_mode": {
    "name": "ipython",
    "version": 3
   },
   "file_extension": ".py",
   "mimetype": "text/x-python",
   "name": "python",
   "nbconvert_exporter": "python",
   "pygments_lexer": "ipython3",
   "version": "3.8.6"
  }
 },
 "nbformat": 4,
 "nbformat_minor": 4
}
