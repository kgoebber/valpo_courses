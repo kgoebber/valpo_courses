{
 "cells": [
  {
   "cell_type": "markdown",
   "metadata": {},
   "source": [
    "# Advanced Skew-T Calculations and Plotting\n",
    "\n",
    "This notebook demonstrates calculating a number of common sounding parameters and plotting some of them on a skew-T diagram."
   ]
  },
  {
   "cell_type": "markdown",
   "metadata": {},
   "source": [
    "### Import Packages"
   ]
  },
  {
   "cell_type": "code",
   "execution_count": null,
   "metadata": {},
   "outputs": [],
   "source": [
    "from datetime import datetime\n",
    "\n",
    "import matplotlib.pyplot as plt\n",
    "import metpy.calc as mpcalc\n",
    "from metpy.plots import SkewT\n",
    "from metpy.units import units, pandas_dataframe_to_unit_arrays\n",
    "import numpy as np\n",
    "from siphon.simplewebservice.wyoming import WyomingUpperAir"
   ]
  },
  {
   "cell_type": "markdown",
   "metadata": {},
   "source": [
    "### Get Data"
   ]
  },
  {
   "cell_type": "code",
   "execution_count": null,
   "metadata": {},
   "outputs": [],
   "source": [
    "# Set date that you want\n",
    "# Data goes back to the 1970's\n",
    "date = datetime(2007, 5, 4, 18)\n",
    "\n",
    "# Set station ID, there are different stations back in the day\n",
    "# Current station IDs found at http://weather.rap.ucar.edu/upper\n",
    "station = 'DDC'\n",
    "\n",
    "# Use Siphon module to grab data from remote server\n",
    "df = WyomingUpperAir.request_data(date, station)"
   ]
  },
  {
   "cell_type": "code",
   "execution_count": null,
   "metadata": {},
   "outputs": [],
   "source": [
    "# Create dictionary of unit arrays\n",
    "data = pandas_dataframe_to_unit_arrays(df)\n",
    "\n",
    "# Isolate united pressure array from dictionary\n",
    "p = data['pressure']\n",
    "\n",
    "# Setting a subset to only use the data needed\n",
    "idx = p.m > 90\n",
    "\n",
    "# Isolate united arrays and subset from dictionary\n",
    "p = p[idx]\n",
    "T = data['temperature'][idx]\n",
    "Td = data['dewpoint'][idx]\n",
    "u = data['u_wind'][idx]\n",
    "v = data['v_wind'][idx]"
   ]
  },
  {
   "cell_type": "markdown",
   "metadata": {},
   "source": [
    "### Calculations of Sounding Parameters\n",
    "\n",
    "Once we have our data, we can calculate any of the skew-T variables we desire, such as LCL using the functions available in MetPy (https://unidata.github.io/MetPy/latest/api/generated/metpy.calc.html#soundings)."
   ]
  },
  {
   "cell_type": "code",
   "execution_count": null,
   "metadata": {},
   "outputs": [],
   "source": [
    "# Calculate LCL pressure and temperature\n",
    "# Note: since lcl function returns two values, we can have\n",
    "# two variables to the left of the equal sign\n",
    "\n",
    "lcl_pressure, lcl_temperature = mpcalc.lcl(p[0], T[0], Td[0])\n",
    "print(f'LCL: {lcl_pressure:.2f}')"
   ]
  },
  {
   "cell_type": "code",
   "execution_count": null,
   "metadata": {},
   "outputs": [],
   "source": [
    "# Calculate full surface parcel profile and add to plot as black line\n",
    "prof = mpcalc.parcel_profile(p, T[0], Td[0]).to('degC')\n",
    "\n",
    "# Calculate the CAPE and CIN of the profile\n",
    "cape, cin = mpcalc.cape_cin(p, T, Td, prof)\n",
    "\n",
    "print(f'CAPE: {cape:.2f}')\n",
    "print(f'CIN: {cin:.2f}')"
   ]
  },
  {
   "cell_type": "code",
   "execution_count": null,
   "metadata": {},
   "outputs": [],
   "source": [
    "# Find the index value of 500 hPa in dataframe\n",
    "ip500 = list(p.m).index(500)\n",
    "\n",
    "# Compute LI and print result\n",
    "LI = T[ip500] - prof[ip500]\n",
    "print(f'LI: {LI.m:.02f} C')"
   ]
  },
  {
   "cell_type": "markdown",
   "metadata": {},
   "source": [
    "### Plot Skew-T with Parcel Path"
   ]
  },
  {
   "cell_type": "code",
   "execution_count": null,
   "metadata": {},
   "outputs": [],
   "source": [
    "fig = plt.figure(figsize=(10, 10))\n",
    "\n",
    "skew = SkewT(fig,  rotation=45)\n",
    "\n",
    "# Plot the data using normal plotting functions, in this case using\n",
    "# log scaling in Y, as dictated by the typical meteorological plot\n",
    "skew.plot(p, T, 'r')\n",
    "skew.plot(p, Td, 'g')\n",
    "\n",
    "# Plot barbs skipping to every other barb\n",
    "skew.plot_barbs(p[::2], u[::2], v[::2], y_clip_radius=0.03)\n",
    "\n",
    "# Set sensible axis limits\n",
    "skew.ax.set_ylim(1000, 100)\n",
    "skew.ax.set_xlim(-40, 50)\n",
    "\n",
    "# Plot the skew-T parcel temperature profile\n",
    "skew.plot(p, prof, 'k', linewidth=2)\n",
    "\n",
    "# Plot a line marker at the LCL level\n",
    "skew.plot(lcl_pressure, lcl_temperature, '_', color='black', markersize=24, \n",
    "          markeredgewidth=3, markerfacecolor='black')\n",
    "\n",
    "# Add the relevant special lines\n",
    "skew.plot_dry_adiabats(t0=np.arange(233,555,10)*units.K)\n",
    "skew.plot_moist_adiabats(colors='tab:green')\n",
    "skew.plot_mixing_lines(colors='tab:blue', linestyle='dotted')\n",
    "\n",
    "# Plot some titles\n",
    "plt.title(f'Station: K{station}', loc='left')\n",
    "plt.title('Skew-T/Log-p', loc='center')\n",
    "plt.title(f'{date} UTC', loc='right')\n",
    "\n",
    "# Show the plot\n",
    "#plt.savefig('example_fig2.png', bbox_inches='tight', dpi=150)\n",
    "plt.show()"
   ]
  },
  {
   "cell_type": "code",
   "execution_count": null,
   "metadata": {},
   "outputs": [],
   "source": []
  }
 ],
 "metadata": {
  "kernelspec": {
   "display_name": "Python 3 (ipykernel)",
   "language": "python",
   "name": "python3"
  },
  "language_info": {
   "codemirror_mode": {
    "name": "ipython",
    "version": 3
   },
   "file_extension": ".py",
   "mimetype": "text/x-python",
   "name": "python",
   "nbconvert_exporter": "python",
   "pygments_lexer": "ipython3",
   "version": "3.10.5"
  }
 },
 "nbformat": 4,
 "nbformat_minor": 4
}
