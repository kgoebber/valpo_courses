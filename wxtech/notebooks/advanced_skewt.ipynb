{
 "cells": [
  {
   "cell_type": "markdown",
   "metadata": {},
   "source": [
    "# Advanced Skew-T Calculations and Plotting\n",
    "\n",
    "This notebook demonstrates calculating a number of common sounding parameters and plotting some of them on a skew-T diagram."
   ]
  },
  {
   "cell_type": "markdown",
   "metadata": {},
   "source": [
    "## Import Packages"
   ]
  },
  {
   "cell_type": "code",
   "execution_count": null,
   "metadata": {},
   "outputs": [],
   "source": [
    "from datetime import datetime\n",
    "\n",
    "import matplotlib.pyplot as plt\n",
    "import metpy.calc as mpcalc\n",
    "from metpy.plots import SkewT\n",
    "from metpy.units import units, pandas_dataframe_to_unit_arrays\n",
    "import numpy as np\n",
    "from siphon.simplewebservice.wyoming import WyomingUpperAir"
   ]
  },
  {
   "cell_type": "markdown",
   "metadata": {},
   "source": [
    "## Get Data"
   ]
  },
  {
   "cell_type": "code",
   "execution_count": null,
   "metadata": {},
   "outputs": [],
   "source": [
    "# Set date that you want\n",
    "# Data goes back to the 1970's\n",
    "date = datetime(2007, 5, 4, 18)\n",
    "\n",
    "# Set station ID, there are different stations back in the day\n",
    "# Current station IDs found at http://weather.rap.ucar.edu/upper\n",
    "station = 'DDC'\n",
    "\n",
    "# Use Siphon module to grab data from remote server\n",
    "df = WyomingUpperAir.request_data(date, station)"
   ]
  },
  {
   "cell_type": "markdown",
   "metadata": {},
   "source": [
    "# Subsetting Data\n",
    "\n",
    "When performing calculations on radiosonde data it is best to subset the\n",
    "data to only use the data needed, which is typically pressures \\>= 100\n",
    "hPa. This can be accomplished via code by creating a Boolean\n",
    "(true/false) array from a simple inequality and then using that array to\n",
    "subset all of the variable arrays."
   ]
  },
  {
   "cell_type": "code",
   "execution_count": null,
   "metadata": {},
   "outputs": [],
   "source": [
    "# Create dictionary of unit arrays\n",
    "data = pandas_dataframe_to_unit_arrays(df)\n",
    "\n",
    "# Isolate united pressure array from dictionary\n",
    "p = data['pressure']\n",
    "\n",
    "# Setting a subset to only use the data needed\n",
    "idx = p.m > 99\n",
    "\n",
    "# Isolate united arrays and subset from dictionary\n",
    "p = p[idx]\n",
    "T = data['temperature'][idx]\n",
    "Td = data['dewpoint'][idx]\n",
    "u = data['u_wind'][idx]\n",
    "v = data['v_wind'][idx]"
   ]
  },
  {
   "cell_type": "markdown",
   "metadata": {},
   "source": [
    "## Calculation of Sounding Parameters\n",
    "\n",
    "Once we have our data, we can calculate any of the skew-T variables we desire, such as LCL using the functions available in MetPy (<a href=\"https://unidata.github.io/MetPy/latest/api/generated/metpy.calc.html#soundings\" target=\"_blank\">https://unidata.github.io/MetPy/latest/api/generated/metpy.calc.html#soundings</a>)."
   ]
  },
  {
   "cell_type": "markdown",
   "metadata": {},
   "source": [
    "### Lifting Condensation Level\n",
    "\n",
    "This is the level at which a lifted parcel will become saturated (e.g.,\n",
    "have 100% RH). The function in MetPy is called lcl and takes inputs of\n",
    "pressure, temperature, and dewpoint.\n",
    "\n",
    "<a href=\"https://unidata.github.io/MetPy/latest/api/generated/metpy.calc.lcl.html#metpy.calc.lcl\" target=\"_blank\">MetPy LCL Documentation</a>\n",
    "\n",
    "This function will output two values, the first is the pressure level of\n",
    "the LCL and the second is the temperature of the LCL. "
   ]
  },
  {
   "cell_type": "code",
   "execution_count": null,
   "metadata": {},
   "outputs": [],
   "source": [
    "# Calculate LCL pressure and temperature\n",
    "# Note: since lcl function returns two values, we can have\n",
    "# two variables to the left of the equal sign\n",
    "\n",
    "lcl_pressure, lcl_temperature = mpcalc.lcl(p[0], T[0], Td[0])\n",
    "print(f'LCL: {lcl_pressure:.2f}')"
   ]
  },
  {
   "cell_type": "markdown",
   "metadata": {},
   "source": [
    "### Parcel Profile\n",
    "\n",
    "The parcel path is essential the temperature that a parcel would have if\n",
    "lifted from a given level. This is an essential component to determining\n",
    "the stability of the atmosphere (a la introduction to meteorology) and determining the\n",
    "available energy for thunderstorm production.\n",
    "\n",
    "<a href=\"https://unidata.github.io/MetPy/latest/api/generated/metpy.calc.parcel_profile.html\" target=\"_blank\">MetPy Parcel Profile Documentation</a>\n",
    "\n",
    "The input would be all of the pressures from the sounding and the\n",
    "starting temperature and dewpoint values for where the parcel is being\n",
    "lifted from. Typically, this is the zeroth element since we want to lift\n",
    "a surface parcel."
   ]
  },
  {
   "cell_type": "code",
   "execution_count": null,
   "metadata": {},
   "outputs": [],
   "source": [
    "# Calculate full surface parcel profile and add to plot as black line\n",
    "prof = mpcalc.parcel_profile(p, T[0], Td[0]).to('degC')"
   ]
  },
  {
   "cell_type": "markdown",
   "metadata": {},
   "source": [
    "### CAPE/CIN\n",
    "\n",
    "Often, we want to know how much energy might be available for use in the\n",
    "generation of thunderstorms, so we want the ability to calculate CAPE.\n",
    "This is actually not a trivial calculation due to any number of details\n",
    "that could be considered, but it is not too hard to do a basic\n",
    "estimation that works well for forecasting purposes. Along with CAPE, we\n",
    "get CIN or convective inhibition, a measure of the excess amount of\n",
    "energy we need to be able to realize any CAPE that might be present in a\n",
    "profile. MetPy has a function that computes both of these values using a\n",
    "trapezoid integration scheme (and you thought you would never hear about\n",
    "estimating an integral outside of calculus!?!).\n",
    "\n",
    "<a href=\"https://unidata.github.io/MetPy/latest/api/generated/metpy.calc.cape_cin.html\" target=\"_blank\">MetPy CAPE/CIN Documentation</a>\n",
    "\n",
    "Here our inputs expand to four items, pressure, temperature, dewpoint,\n",
    "and the parcel profile. Each variable must contain the same number of\n",
    "points corresponding to all of the pressure levels given in the dataset."
   ]
  },
  {
   "cell_type": "code",
   "execution_count": null,
   "metadata": {},
   "outputs": [],
   "source": [
    "# Calculate the CAPE and CIN of the profile\n",
    "cape, cin = mpcalc.cape_cin(p, T, Td, prof)\n",
    "\n",
    "print(f'CAPE: {cape:.2f}')\n",
    "print(f'CIN: {cin:.2f}')"
   ]
  },
  {
   "cell_type": "markdown",
   "metadata": {},
   "source": [
    "### Lifted Index\n",
    "\n",
    "The LI is the difference between the parcel temperature and\n",
    "environmental temperature at 500 hPa. If you have calculated the parcel\n",
    "profile, then this becomes a simple difference of two values once you\n",
    "have found both values at 500 hPa.\n",
    "\n",
    "<a href=\"https://unidata.github.io/MetPy/latest/api/generated/metpy.calc.lifted_index.html\" target=\"_blank\">MetPy Lifted Index Documentation</a>\n",
    "\n",
    "Here we need to feed the function the pressure, temperature, and parcel profile temperature."
   ]
  },
  {
   "cell_type": "code",
   "execution_count": null,
   "metadata": {},
   "outputs": [],
   "source": [
    "# Compute LI and print result\n",
    "LI = mpcalc.lifted_index(p, T, prof)\n",
    "print(f'LI: {LI[0].m:.02f} C')"
   ]
  },
  {
   "cell_type": "markdown",
   "metadata": {},
   "source": [
    "## Plot Skew-T with Parcel Path\n",
    "\n",
    "A common thing to plot on a skew-T image is the parcel path, this allows\n",
    "a meteorologist to visually estimate the amount of CAPE and CIN since\n",
    "the area on a skew-T is directly proportional to energy. The key area\n",
    "being between the environmental temperature and the parcel profile.\n",
    "\n",
    "Plotting the parcel profile is pretty easy, we can use the same\n",
    "skew.plot to plot on the same axis and use our pressure and profile\n",
    "temperature to plot the parcel profile line. In the code below we are\n",
    "plotting the parcel path in black with a thicker line than normal.\n",
    "\n",
    "The LCL is also highlighted with a straight line at the pressure level\n",
    "at which our parcel becomes saturated."
   ]
  },
  {
   "cell_type": "code",
   "execution_count": null,
   "metadata": {},
   "outputs": [],
   "source": [
    "# Plot a skew-T image\n",
    "fig = plt.figure(figsize=(10, 10))\n",
    "\n",
    "# Set up the skewT axes\n",
    "skew = SkewT(fig,  rotation=45)\n",
    "\n",
    "# Plot the data using normal plotting functions, in this case using\n",
    "# log scaling in Y, as dictated by the typical meteorological plot\n",
    "skew.plot(p, T, 'r')\n",
    "skew.plot(p, Td, 'g')\n",
    "\n",
    "# Plot barbs skipping to every other barb\n",
    "skew.plot_barbs(p[::2], u[::2], v[::2], y_clip_radius=0.03)\n",
    "\n",
    "# Set sensible axis limits\n",
    "skew.ax.set_ylim(1000, 100)\n",
    "skew.ax.set_xlim(-40, 50)\n",
    "\n",
    "# Plot the skew-T parcel temperature profile\n",
    "skew.plot(p, prof, 'k', linewidth=2)\n",
    "\n",
    "# Plot a line marker at the LCL level\n",
    "skew.plot(lcl_pressure, lcl_temperature, '_', color='black', markersize=24, \n",
    "          markeredgewidth=3, markerfacecolor='black')\n",
    "\n",
    "# Add the relevant special lines\n",
    "skew.plot_dry_adiabats(t0=np.arange(233,555,10)*units.K, alpha=0.25)\n",
    "skew.plot_moist_adiabats(colors='tab:green', alpha=0.25)\n",
    "skew.plot_mixing_lines(colors='tab:blue', linestyle='dotted')\n",
    "\n",
    "# Plot some titles\n",
    "plt.title(f'Station: K{station}', loc='left')\n",
    "plt.title('Skew-T/Log-p', loc='center')\n",
    "plt.title(f'{date} UTC', loc='right')\n",
    "\n",
    "# Show the plot\n",
    "plt.show()\n",
    "\n",
    "# Save the plot by uncommenting the following line\n",
    "#plt.savefig('advanced_skewt_image.png', bbox_inches='tight', dpi=150)"
   ]
  },
  {
   "cell_type": "code",
   "execution_count": null,
   "metadata": {},
   "outputs": [],
   "source": []
  }
 ],
 "metadata": {
  "kernelspec": {
   "display_name": "Python 3 (ipykernel)",
   "language": "python",
   "name": "python3"
  },
  "language_info": {
   "codemirror_mode": {
    "name": "ipython",
    "version": 3
   },
   "file_extension": ".py",
   "mimetype": "text/x-python",
   "name": "python",
   "nbconvert_exporter": "python",
   "pygments_lexer": "ipython3",
   "version": "3.11.5"
  }
 },
 "nbformat": 4,
 "nbformat_minor": 4
}
