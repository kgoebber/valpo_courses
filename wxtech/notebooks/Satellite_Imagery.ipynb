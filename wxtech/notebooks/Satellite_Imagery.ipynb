{
 "cells": [
  {
   "cell_type": "markdown",
   "metadata": {},
   "source": [
    "# Satellite Imagery\n",
    "\n",
    "To plot satellite imagery, we can use the same plotting techniques we\n",
    "have been using all semester to plot gridded data. Satellite data is\n",
    "similar to model output in that each pixel of the image is evenly spaced\n",
    "and can be plotted using the `ImagePlot()` class from the declarative\n",
    "syntax in MetPy."
   ]
  },
  {
   "cell_type": "markdown",
   "metadata": {},
   "source": [
    "## Import Packages\n",
    "\n",
    "Similar to accessing the Iowa State/Wyoming Upperair archive we can use the\n",
    "Python module Siphon to help gain access to the satellite data."
   ]
  },
  {
   "cell_type": "code",
   "execution_count": null,
   "metadata": {},
   "outputs": [],
   "source": [
    "from datetime import datetime\n",
    "\n",
    "from metpy.plots import declarative\n",
    "from metpy.units import units\n",
    "import numpy as np\n",
    "from siphon.catalog import TDSCatalog\n",
    "import xarray as xr"
   ]
  },
  {
   "cell_type": "markdown",
   "metadata": {},
   "source": [
    "## Get Data\n",
    "\n",
    "We use a set of variables to help construct the web URL including,\n",
    "region, channel, and satellite. This will help us when we simply want to\n",
    "view a slightly different satellite product. After constructing the\n",
    "data_url, then we can use the helper function to find us the right file\n",
    "and use Siphon to grab the correct link to the dataset on the UCAR\n",
    "server. Then we'll bring that dataset into our notebook and made to look\n",
    "like an xarray data object, which is what we have been working with\n",
    "through all of our model output."
   ]
  },
  {
   "cell_type": "code",
   "execution_count": null,
   "metadata": {},
   "outputs": [],
   "source": [
    "# Set the datetime from the computer\n",
    "date = datetime.utcnow()\n",
    "\n",
    "# Create variables for URL generation\n",
    "region = 'CONUS'\n",
    "channel = 2\n",
    "satellite = 'east'\n",
    "\n",
    "# We want to match something like:\n",
    "# https://thredds-test.unidata.ucar.edu/thredds/catalog/satellite/goes16/GOES16/Mesoscale-1/Channel08/20181113/catalog.html\n",
    "\n",
    "# Construct the data_url string\n",
    "data_url = (f'https://thredds.ucar.edu/thredds/catalog/satellite/goes/{satellite}/'\n",
    "            f'products/CloudAndMoistureImagery/{region}/Channel{channel:02d}/'\n",
    "            f'{date:%Y%m%d}/catalog.xml')\n",
    "\n",
    "# Get list of files available for particular day\n",
    "cat = TDSCatalog(data_url)\n",
    "\n",
    "# Grab dataset for desired time\n",
    "dataset = cat.datasets.filter_time_nearest(date, regex=r'_s(?P<strptime>\\d{13})', strptime='%Y%j%H%M%S')\n",
    "\n",
    "# Open most recent file available\n",
    "ds = dataset.remote_access(use_xarray=True)\n",
    "\n",
    "# Apply a square root correction for visible imagery only\n",
    "if channel == 2:\n",
    "    ds['Sectorized_CMI'].values = np.sqrt(ds['Sectorized_CMI'].values)\n",
    "\n",
    "# Grab time from file and make into datetime object for plotting and later data access\n",
    "vtime = ds.time.values.astype('datetime64[ms]').astype('O')"
   ]
  },
  {
   "cell_type": "markdown",
   "metadata": {},
   "source": [
    "## Plot Imagery\n",
    "\n",
    "From here, plotting becomes relatively routine, expect we'll want to use\n",
    "the `ImagePlot()` class since we are plotting a satellite *image*. We are\n",
    "going to use the time form the actual file for plotting purposes since\n",
    "we don't know the exact time of the data we got back from the server.\n",
    "\n",
    "The files that we are using are called Cloud and Moisture Imagery files.\n",
    "That means that the data have been converted to a format that is more\n",
    "amenable for plotting (either reflectance or brightness temperature).\n",
    "So, the name of the variable we want to plot is `'Sectorized_CMI'`.\n",
    "\n",
    "A simple map can then be generated via the following settings using a\n",
    "grey scale image."
   ]
  },
  {
   "cell_type": "code",
   "execution_count": null,
   "metadata": {},
   "outputs": [],
   "source": [
    "# Declare the data we wish to plot\n",
    "img = declarative.ImagePlot()\n",
    "img.data = ds\n",
    "img.field = 'Sectorized_CMI'\n",
    "img.colormap = 'Greys_r'\n",
    "\n",
    "# Plot the data on a map\n",
    "panel = declarative.MapPanel()\n",
    "panel.layers = ['coastline', 'borders', 'states']\n",
    "panel.left_title = f'GOES East VIS Channel {channel:02d}'\n",
    "panel.right_title = f'Valid Time: {vtime} UTC'\n",
    "panel.plots = [img]\n",
    "\n",
    "# Place the map on a figure\n",
    "pc = declarative.PanelContainer()\n",
    "pc.size = (15, 15)\n",
    "pc.panels = [panel]\n",
    "pc.show()"
   ]
  },
  {
   "cell_type": "code",
   "execution_count": null,
   "metadata": {},
   "outputs": [],
   "source": []
  }
 ],
 "metadata": {
  "kernelspec": {
   "display_name": "Python 3 (ipykernel)",
   "language": "python",
   "name": "python3"
  },
  "language_info": {
   "codemirror_mode": {
    "name": "ipython",
    "version": 3
   },
   "file_extension": ".py",
   "mimetype": "text/x-python",
   "name": "python",
   "nbconvert_exporter": "python",
   "pygments_lexer": "ipython3",
   "version": "3.11.3"
  }
 },
 "nbformat": 4,
 "nbformat_minor": 4
}
