{
 "cells": [
  {
   "cell_type": "markdown",
   "metadata": {},
   "source": [
    "# Python Syntax - Basics \\#1\n",
    "\n",
    "In this section we'll cover setting a variable with naming conventions and reserved words, the print function, and adding code comments. A good resource for additional information about the Python programming language in the atmospheric sciences is \"Python Programming and Visualization for Scientists, 2nd Ed.\" by Alex DeCaria."
   ]
  },
  {
   "cell_type": "markdown",
   "metadata": {},
   "source": [
    "## Variable Assignment\n",
    "\n",
    "In Python you set a variable using the equal sign and the variable will assume a type based on the value assigned to variable name.\n",
    "\n",
    "```python\n",
    "variable_name = <value>\n",
    "```"
   ]
  },
  {
   "cell_type": "code",
   "execution_count": null,
   "metadata": {},
   "outputs": [],
   "source": [
    "# Assumes type based on value given\n",
    "# Following is a string (character) type\n",
    "name = 'Kevin'\n",
    "\n",
    "# Following is an integer type\n",
    "temp_celsius = 20\n",
    "\n",
    "# Following is a float type\n",
    "temp_fahrenheit = 72.5"
   ]
  },
  {
   "cell_type": "markdown",
   "metadata": {},
   "source": [
    "```{note}\n",
    "Be careful when setting variable names. All names should begin with a letter and contain no spaces. After the first letter, any combination of letters and numbers can be used. To put a \"space\" in a name use an underscore (`_`). For example, the following is an okay variable name `first_name`. It is common practice to use only lower case letters in common variable names.\n",
    "```"
   ]
  },
  {
   "cell_type": "markdown",
   "metadata": {},
   "source": [
    "### Reserved Words\n",
    "\n",
    "There are a number of words that you should not use to define a variable, becuase that words serves a very specific functionality within the Python language. The words to avoid are:\n",
    "\n",
    "| reserved | words | don't | use |\n",
    "| -- | -- | -- | -- |\n",
    "|`False`|`class`|`from`|`or`|\n",
    "|`None`|`continue`|`global`|`pass`|\n",
    "|`True`|`def`|`if`|`raise`|\n",
    "|`and`|`del`|`import`|`return`|\n",
    "|`as`|`elif`|`in`|`try`|\n",
    "|`assert`|`else`|`is`|`while`|\n",
    "|`async`|`except`|`lambda`|`with`|\n",
    "|`await`|`finally`|`nonlocal`|`yield`|\n",
    "|`break`|`for`|`not`||\n",
    "\n",
    "To find out more about any element of a Python function, use the `help()` function."
   ]
  },
  {
   "cell_type": "code",
   "execution_count": null,
   "metadata": {},
   "outputs": [],
   "source": [
    "help('keywords')"
   ]
  },
  {
   "cell_type": "markdown",
   "metadata": {},
   "source": [
    "## Print Function\n",
    "\n",
    "To print a variable, simply put the variable in the print statement.\n",
    "\n",
    "```python\n",
    "print(name)\n",
    "```\n",
    "\n",
    "Output:\n",
    "```\n",
    "Kevin\n",
    "```\n",
    "\n",
    "To print a variable as part of a string, you can use an 'f-string'. Place an f before the beginning of string statement and use curly brackets (e.g., {}) to call the variable you wish to print in the statement.\n",
    "\n",
    "```python\n",
    "print(f'My name is {name}')\n",
    "```\n",
    "\n",
    "Output:\n",
    "```\n",
    "My name is Kevin\n",
    "```"
   ]
  },
  {
   "cell_type": "code",
   "execution_count": null,
   "metadata": {},
   "outputs": [],
   "source": [
    "# Example using the f-strings\n",
    "value = 28\n",
    "print(f'The varaiable has a value of {value}')"
   ]
  },
  {
   "cell_type": "markdown",
   "metadata": {},
   "source": [
    "## Code Comments\n",
    "\n",
    "It is imperative that you comment your code to ensure you remember what pieces of your code are doing. This will help when you come back to old code after a period of time or share your code with someone else. Comments can be made in two primary ways, through stand alone comments on one line or inline, either way you want to use the special character `#`, which is officially known as an octothorp or better known to you as a hashtag.\n",
    "\n",
    "Any line that starts with a `#` will not be executed at runtime. Any line that has a `#` in it, nothing will be executed after that symbol.\n",
    "\n",
    "```python\n",
    "# This is a comment and won't be executed\n",
    "# The following line is executable code\n",
    "print('Hello') # this is an inline comment\n",
    "```\n",
    "\n",
    "Output\n",
    "```python\n",
    "Hello\n",
    "```"
   ]
  },
  {
   "cell_type": "code",
   "execution_count": null,
   "metadata": {},
   "outputs": [],
   "source": [
    "# Setting a temperature value\n",
    "tmpc = 28\n",
    "print(f'The current temperature is {tmpc}C') # Printing out the current temperature"
   ]
  },
  {
   "cell_type": "code",
   "execution_count": null,
   "metadata": {},
   "outputs": [],
   "source": []
  }
 ],
 "metadata": {
  "kernelspec": {
   "display_name": "metpy_book",
   "language": "python",
   "name": "python3"
  },
  "language_info": {
   "codemirror_mode": {
    "name": "ipython",
    "version": 3
   },
   "file_extension": ".py",
   "mimetype": "text/x-python",
   "name": "python",
   "nbconvert_exporter": "python",
   "pygments_lexer": "ipython3",
   "version": "3.11.3"
  },
  "orig_nbformat": 4
 },
 "nbformat": 4,
 "nbformat_minor": 2
}
