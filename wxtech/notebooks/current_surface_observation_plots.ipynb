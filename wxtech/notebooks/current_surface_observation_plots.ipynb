{
 "cells": [
  {
   "attachments": {},
   "cell_type": "markdown",
   "metadata": {},
   "source": [
    "# Surface Data and Plotting using MetPy\n",
    "This notebook demonstrates reading surface data and plotting it using MetPy's declarative syntax.\n",
    "\n",
    "To make a plot of surface observations requires three elements\n",
    "* `PlotObs()` to specify the observations to be plotted\n",
    "* `MapPanel()` to specify the characteristics of the map to plot the observations on\n",
    "* `PanelContainer()` to collect one or more panels.\n",
    "\n",
    "These three elements are separate parts of the declarative module from MetPy. In Python we call these parts\n",
    "Classes and note that they contain MiXeD case names. These classes contain a number of attributes that can \n",
    "be set to specify what and how to plot the data in a figure. The descriptions of some of the basic\n",
    "elements of each element are given below."
   ]
  },
  {
   "attachments": {},
   "cell_type": "markdown",
   "metadata": {},
   "source": [
    "## Import Modules\n",
    "\n",
    "Here we'll import those modules that are needed to produce read in remote surface METAR observation data, process those observations, and plot the values on a map."
   ]
  },
  {
   "cell_type": "code",
   "execution_count": null,
   "metadata": {},
   "outputs": [],
   "source": [
    "from datetime import datetime, timedelta\n",
    "from io import StringIO\n",
    "from urllib.request import urlopen\n",
    "\n",
    "from metpy.io import metar\n",
    "from metpy.plots import declarative\n",
    "from metpy.units import units\n",
    "import pandas as pd"
   ]
  },
  {
   "attachments": {},
   "cell_type": "markdown",
   "metadata": {},
   "source": [
    "## Read Data\n",
    "\n",
    "The surface data are in METAR format and store the data files at this location for approximately two weeks.\n",
    "\n",
    "The format of the filenames are `YYYYMMDDHH_sao.wmo` where `YYYY` is the year, `MM` is the month, `DD` is the day, and `HH` is the hour."
   ]
  },
  {
   "cell_type": "code",
   "execution_count": null,
   "metadata": {},
   "outputs": [],
   "source": [
    "date = datetime.utcnow()\n",
    "\n",
    "# Remote Access - Archive Data Read with pandas from Iowa State Archive,\n",
    "# note differences from METAR files\n",
    "dt = timedelta(minutes=30)\n",
    "sdate = date - dt\n",
    "edate = date + dt\n",
    "data_url = ('http://mesonet.agron.iastate.edu/cgi-bin/request/asos.py?'\n",
    "            'data=all&tz=Etc/UTC&format=comma&latlon=yes&'\n",
    "            f'year1={sdate.year}&month1={sdate.month}&day1={sdate.day}'\n",
    "            f'&hour1={sdate.hour}&minute1={sdate.minute}&'\n",
    "            f'year2={edate.year}&month2={edate.month}&day2={edate.day}'\n",
    "            f'&hour2={edate.hour}&minute2={edate.minute}')\n",
    "data = pd.read_csv(data_url, skiprows=5, na_values=['M'],\n",
    "                   low_memory=False).replace('T', 0.00001).groupby('station').tail(1)\n",
    "df = metar.parse_metar_file(StringIO('\\n'.join(val for val in data.metar)),\n",
    "                            year=date.year, month=date.month)\n",
    "# Local Access\n",
    "# data = f'/data/ldmdata/surface/sao/{date:%Y%m%d%H}_sao.wmo'\n",
    "# df = metar.parse_metar_file(data, year=date.year, month=date.month)"
   ]
  },
  {
   "attachments": {},
   "cell_type": "markdown",
   "metadata": {},
   "source": [
    "## Plot Data\n",
    "\n",
    "Here we seek to use the data that were just read in to plot the `air_temperature` variable in units of Fahrenheit. Since surface observations can be associated with a range of times, we can set the `time_window` attribute to look over a range of times. These temperatures will be plotted on a map over a small geographic location and a title is added to the map."
   ]
  },
  {
   "cell_type": "code",
   "execution_count": null,
   "metadata": {},
   "outputs": [],
   "source": [
    "# Plot desired data\n",
    "obs = declarative.PlotObs()\n",
    "obs.data = df\n",
    "obs.time = date\n",
    "obs.time_window = timedelta(minutes=30)\n",
    "obs.fields = ['air_temperature']\n",
    "obs.plot_units = ['degF']\n",
    "\n",
    "# Panel for plot with Map features\n",
    "panel = declarative.MapPanel()\n",
    "panel.layout = (1, 1, 1)\n",
    "panel.projection = 'lcc'\n",
    "panel.area = 'in'\n",
    "panel.layers = ['states']\n",
    "panel.title = f'Air temperature on {date:%Y%m%d} at {date:%H}UTC'\n",
    "panel.plots = [obs]\n",
    "\n",
    "# Bringing it all together\n",
    "pc = declarative.PanelContainer()\n",
    "pc.size = (10, 10)\n",
    "pc.panels = [panel]\n",
    "\n",
    "pc.show()"
   ]
  },
  {
   "cell_type": "markdown",
   "metadata": {},
   "source": [
    "```{note}\n",
    "The use of formatted strings (f-strings) are used extensively in this book. Use of these strings allows the easy input of variables into a string value to dynamically generate the string. Variables can also be formatted (depending on type) to gain more control over how the values plot. In the above surface plot, f-strings are used to set the title where we use the variable `date` with date formatting to make a nice, reable title.\n",
    "\n",
    "For more information on f-strings, see the <a href=\"https://docs.python.org/3/tutorial/inputoutput.html#formatted-string-literals\" target=\"_blank\">Python documentation</a>\n",
    "```"
   ]
  },
  {
   "cell_type": "markdown",
   "metadata": {},
   "source": []
  }
 ],
 "metadata": {
  "kernelspec": {
   "display_name": "Python 3 (ipykernel)",
   "language": "python",
   "name": "python3"
  },
  "language_info": {
   "codemirror_mode": {
    "name": "ipython",
    "version": 3
   },
   "file_extension": ".py",
   "mimetype": "text/x-python",
   "name": "python",
   "nbconvert_exporter": "python",
   "pygments_lexer": "ipython3",
   "version": "3.11.5"
  }
 },
 "nbformat": 4,
 "nbformat_minor": 4
}
