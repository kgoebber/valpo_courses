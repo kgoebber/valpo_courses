{
 "cells": [
  {
   "cell_type": "markdown",
   "metadata": {},
   "source": [
    "# Plot Radar Data\n",
    "\n",
    "This notebook demonstrates plotting NEXRAD data using Python."
   ]
  },
  {
   "cell_type": "markdown",
   "metadata": {},
   "source": [
    "### Import Packages"
   ]
  },
  {
   "cell_type": "code",
   "execution_count": null,
   "metadata": {},
   "outputs": [],
   "source": [
    "from datetime import datetime, timedelta\n",
    "\n",
    "import cartopy.crs as ccrs\n",
    "import cartopy.feature as cfeature\n",
    "import matplotlib.pyplot as plt\n",
    "from metpy.calc import azimuth_range_to_lat_lon\n",
    "from metpy.plots import colortables, USSTATES, USCOUNTIES\n",
    "import numpy as np\n",
    "from siphon.catalog import TDSCatalog\n",
    "import xarray as xr\n",
    "\n",
    "import warnings\n",
    "warnings.filterwarnings(\"ignore\")"
   ]
  },
  {
   "cell_type": "markdown",
   "metadata": {},
   "source": [
    "### Helper Function"
   ]
  },
  {
   "cell_type": "markdown",
   "metadata": {},
   "source": [
    "## Get Data"
   ]
  },
  {
   "cell_type": "code",
   "execution_count": null,
   "metadata": {},
   "outputs": [],
   "source": [
    "date = datetime.utcnow()\n",
    "\n",
    "# Create variables for URL generation\n",
    "station = 'KLOT'\n",
    "\n",
    "# Construct the data_url string\n",
    "data_url = (f'https://thredds.ucar.edu/thredds/catalog/nexrad/level2/{station}/{date:%Y%m%d}/catalog.html')\n",
    "\n",
    "# Get list of files available for particular day\n",
    "cat = TDSCatalog(data_url)\n",
    "\n",
    "# Grab dataset for desired time\n",
    "dataset = cat.datasets.filter_time_nearest(date)\n",
    "\n",
    "ds = xr.open_dataset(dataset.access_urls['OPENDAP'], decode_times=False,\n",
    "                     decode_coords=False, mask_and_scale=True)"
   ]
  },
  {
   "cell_type": "markdown",
   "metadata": {},
   "source": [
    "## Parse Data, Create Lat/Lon"
   ]
  },
  {
   "cell_type": "code",
   "execution_count": null,
   "metadata": {},
   "outputs": [],
   "source": [
    "station = ds.Station\n",
    "slat = ds.StationLatitude\n",
    "slon = ds.StationLongitude\n",
    "elevation = ds.StationElevationInMeters\n",
    "vtime = datetime.strptime(ds.time_coverage_start, '%Y-%m-%dT%H:%M:%SZ')\n",
    "\n",
    "sweep = 0\n",
    "rng = ds.distanceR_HI.values\n",
    "az = ds.azimuthR_HI.values[sweep]\n",
    "ref = ds.Reflectivity_HI.values[sweep]\n",
    "\n",
    "lon, lat = azimuth_range_to_lat_lon(az, rng, slon, slat)"
   ]
  },
  {
   "cell_type": "markdown",
   "metadata": {},
   "source": [
    "## Make Plot"
   ]
  },
  {
   "cell_type": "code",
   "execution_count": null,
   "metadata": {},
   "outputs": [],
   "source": [
    "cmap = colortables.get_colortable('NWSStormClearReflectivity')\n",
    "\n",
    "fig, ax = plt.subplots(1, 1, figsize=(10, 9), subplot_kw=dict(projection=ccrs.PlateCarree()))\n",
    "\n",
    "img = ax.pcolormesh(lon, lat, ref, vmin=-30, vmax=79, cmap=cmap)\n",
    "plt.colorbar(img, aspect=50, pad=0)\n",
    "\n",
    "ax.set_extent([-91, -85.5, 40, 43.5], ccrs.PlateCarree())\n",
    "ax.set_aspect('equal', 'datalim')\n",
    "\n",
    "ax.add_feature(USCOUNTIES.with_scale('5m'), edgecolor='darkgrey')\n",
    "ax.add_feature(USSTATES.with_scale('5m'))\n",
    "\n",
    "plt.title(f'{station}: {ds.Reflectivity_HI.name}', loc='left')\n",
    "plt.title(f'Valid Time: {vtime}', loc='right')\n",
    "plt.show()"
   ]
  },
  {
   "cell_type": "code",
   "execution_count": null,
   "metadata": {},
   "outputs": [],
   "source": []
  }
 ],
 "metadata": {
  "kernelspec": {
   "display_name": "Python 3 (ipykernel)",
   "language": "python",
   "name": "python3"
  },
  "language_info": {
   "codemirror_mode": {
    "name": "ipython",
    "version": 3
   },
   "file_extension": ".py",
   "mimetype": "text/x-python",
   "name": "python",
   "nbconvert_exporter": "python",
   "pygments_lexer": "ipython3",
   "version": "3.10.5"
  }
 },
 "nbformat": 4,
 "nbformat_minor": 4
}
