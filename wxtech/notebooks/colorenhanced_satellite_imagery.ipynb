{
 "cells": [
  {
   "cell_type": "markdown",
   "metadata": {},
   "source": [
    "# Satellite Imagery\n",
    "\n",
    "To plot satellite imagery we can use data that we bring in through our local data feed. Satellite data are stored in ```/data/ldmdata/satellite``` for both GOES-16 and GOES-17. There are a couple of different sectors that we can view the data from, but the most common for synoptic-dynamic purposes would be the CONUS projection. Data are available every 5 min.\n",
    "\n",
    "For this plotting we are doing to use the declarative plotting syntax using Python and the MetPy module."
   ]
  },
  {
   "cell_type": "markdown",
   "metadata": {},
   "source": [
    "### Import Packages"
   ]
  },
  {
   "cell_type": "code",
   "execution_count": null,
   "metadata": {},
   "outputs": [],
   "source": [
    "from datetime import datetime\n",
    "\n",
    "import metpy.calc as mpcalc\n",
    "from metpy.plots import ImagePlot, ContourPlot, MapPanel, PanelContainer\n",
    "from metpy.units import units\n",
    "import numpy as np\n",
    "from siphon.catalog import TDSCatalog\n",
    "import xarray as xr"
   ]
  },
  {
   "cell_type": "markdown",
   "metadata": {},
   "source": [
    "### Helper Function"
   ]
  },
  {
   "cell_type": "code",
   "execution_count": null,
   "metadata": {},
   "outputs": [],
   "source": [
    "def get_satellite_file_url(datasets, date):\n",
    "    '''A function to help find the desired satellite data based on the time given.\n",
    "    \n",
    "    Input:\n",
    "     - List of datasets from a THREDDS Catalog\n",
    "     - Date of desired dataset (datetime object)\n",
    "     \n",
    "    Output:\n",
    "     - Index value of dataset closest to desired time\n",
    "    '''\n",
    "    sat_date_hour = date.strftime('%Y%j%H')\n",
    "    files = []\n",
    "    times = []\n",
    "    for file in cat.datasets:\n",
    "        if sat_date_hour in file:\n",
    "            times.append(datetime.strptime(file.split('_')[3][1:-3], '%Y%j%H%M'))\n",
    "            files.append(file)\n",
    "    find_file = np.abs(np.array(times) - date)\n",
    "    return list(cat.datasets).index(files[np.argmin(find_file)])"
   ]
  },
  {
   "cell_type": "markdown",
   "metadata": {},
   "source": [
    "### Get Data"
   ]
  },
  {
   "cell_type": "code",
   "execution_count": null,
   "metadata": {},
   "outputs": [],
   "source": [
    "date = datetime(2020, 12, 28, 15, 30)\n",
    "\n",
    "# Create variables for URL generation\n",
    "region = 'CONUS'\n",
    "channel = 9\n",
    "satellite = 'east'\n",
    "\n",
    "# We want to match something like:\n",
    "# https://thredds-test.unidata.ucar.edu/thredds/catalog/satellite/goes16/GOES16/Mesoscale-1/Channel08/20181113/catalog.html\n",
    "\n",
    "# Construct the data_url string\n",
    "data_url = (f'https://thredds.ucar.edu/thredds/catalog/satellite/goes/{satellite}/products/'\n",
    "            f'CloudAndMoistureImagery/{region}/Channel{channel:02d}/'\n",
    "            f'{date:%Y%m%d}/catalog.xml')\n",
    "\n",
    "# Get list of files available for particular day\n",
    "cat = TDSCatalog(data_url)\n",
    "\n",
    "# Use homemade function to get dataset for desired time\n",
    "dataset = cat.datasets[get_satellite_file_url(cat.datasets, date)]\n",
    "\n",
    "# Open most recent file available\n",
    "ds = dataset.remote_access(use_xarray=True)\n",
    "\n",
    "# Apply a square root correction for visible imagery only\n",
    "if channel == 2:\n",
    "    ds['Sectorized_CMI'].values = np.sqrt(ds['Sectorized_CMI'].values)\n",
    "\n",
    "# Grab time from file and make into datetime object for plotting and later data access\n",
    "vtime = ds.time.values.astype('datetime64[ms]').astype('O')"
   ]
  },
  {
   "cell_type": "markdown",
   "metadata": {},
   "source": [
    "### Plot Imagery"
   ]
  },
  {
   "cell_type": "code",
   "execution_count": null,
   "metadata": {},
   "outputs": [],
   "source": [
    "# Declare the data we wish to plot\n",
    "img = ImagePlot()\n",
    "img.data = ds\n",
    "img.field = 'Sectorized_CMI'\n",
    "img.colormap = 'WVCIMSS_r'\n",
    "img.colorbar = 'horizontal'\n",
    "img.image_range = (200, 280)\n",
    "\n",
    "# Plot the data on a map\n",
    "panel = MapPanel()\n",
    "panel.layers = ['coastline', 'borders', 'states']\n",
    "panel.title = f\"{f'GOES East WV Channel {channel:02d}':<123}{f'Valid Time: {vtime} UTC':>123}\"\n",
    "panel.plots = [img]\n",
    "\n",
    "# Place the map on a figure\n",
    "pc = PanelContainer()\n",
    "pc.size = (20, 16)\n",
    "pc.panels = [panel]\n",
    "#pc.save(f'GOES_East_{vtime:%Y%m%d_%H%M}_colorenhanced.png', bbox_inches='tight', dpi=150)\n",
    "pc.show()"
   ]
  },
  {
   "cell_type": "code",
   "execution_count": null,
   "metadata": {},
   "outputs": [],
   "source": []
  }
 ],
 "metadata": {
  "kernelspec": {
   "display_name": "Python 3",
   "language": "python",
   "name": "python3"
  },
  "language_info": {
   "codemirror_mode": {
    "name": "ipython",
    "version": 3
   },
   "file_extension": ".py",
   "mimetype": "text/x-python",
   "name": "python",
   "nbconvert_exporter": "python",
   "pygments_lexer": "ipython3",
   "version": "3.8.6"
  }
 },
 "nbformat": 4,
 "nbformat_minor": 4
}
