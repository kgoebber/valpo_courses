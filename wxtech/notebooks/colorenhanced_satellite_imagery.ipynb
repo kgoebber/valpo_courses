{
 "cells": [
  {
   "cell_type": "markdown",
   "metadata": {},
   "source": [
    "# Color-Enhanced Satellite Imagery\n",
    "\n",
    "To plot satellite imagery we can use data that we bring in through our local data feed or remote access from UCAR. Satellite data are stored in ```/data/ldmdata/satellite``` for both GOES-16 and GOES-17 or at `https://thredds.ucar.edu/thredds/idd/satellite.html`. We'll be using the remote data source in this notebook. There are a couple of different sectors that we can view the data from, but the most common for synoptic-dynamic purposes would be the CONUS projection. Data are available every 5 min.\n",
    "\n",
    "For this plotting we are doing to use the declarative plotting syntax using Python and the MetPy module."
   ]
  },
  {
   "cell_type": "markdown",
   "metadata": {},
   "source": [
    "### Import Packages"
   ]
  },
  {
   "cell_type": "code",
   "execution_count": null,
   "metadata": {},
   "outputs": [],
   "source": [
    "from datetime import datetime\n",
    "\n",
    "import metpy.calc as mpcalc\n",
    "from metpy.plots import declarative\n",
    "from metpy.units import units\n",
    "import numpy as np\n",
    "from siphon.catalog import TDSCatalog\n",
    "import xarray as xr"
   ]
  },
  {
   "cell_type": "markdown",
   "metadata": {},
   "source": [
    "### Get Data\n"
   ]
  },
  {
   "cell_type": "code",
   "execution_count": null,
   "metadata": {},
   "outputs": [],
   "source": [
    "date = datetime.utcnow()\n",
    "\n",
    "# Create variables for URL generation\n",
    "region = 'CONUS'\n",
    "channel = 9\n",
    "satellite = 'east'\n",
    "\n",
    "# We want to match something like:\n",
    "# https://thredds-test.unidata.ucar.edu/thredds/catalog/satellite/goes16/GOES16/Mesoscale-1/Channel08/20181113/catalog.html\n",
    "\n",
    "# Construct the data_url string\n",
    "data_url = (f'https://thredds.ucar.edu/thredds/catalog/satellite/goes/{satellite}/products/'\n",
    "            f'CloudAndMoistureImagery/{region}/Channel{channel:02d}/'\n",
    "            f'{date:%Y%m%d}/catalog.xml')\n",
    "\n",
    "# Get list of files available for particular day\n",
    "cat = TDSCatalog(data_url)\n",
    "\n",
    "# Grab dataset for desired time\n",
    "dataset = cat.datasets.filter_time_nearest(date, regex=r'_s(?P<strptime>\\d{13})', strptime='%Y%j%H%M%S')\n",
    "\n",
    "# Open most recent file available\n",
    "ds = dataset.remote_access(use_xarray=True)\n",
    "\n",
    "# Apply a square root correction for visible imagery only\n",
    "if channel == 2:\n",
    "    ds['Sectorized_CMI'].values = np.sqrt(ds['Sectorized_CMI'].values)\n",
    "\n",
    "# Grab time from file and make into datetime object for plotting and later data access\n",
    "vtime = ds.time.values.astype('datetime64[ms]').astype('O')"
   ]
  },
  {
   "cell_type": "markdown",
   "metadata": {},
   "source": [
    "### Plot Imagery\n",
    "\n",
    "Color enhancement colormaps are available from MetPy and can be found at: https://unidata.github.io/MetPy/latest/api/generated/metpy.plots.ctables.html\n",
    "\n",
    "Water Vapor Colormaps:\n",
    "* WVCIMSS_r\n",
    "* wv_tpc_r\n",
    "\n",
    "Infrared Colormaps:\n",
    "* ir_drgb \n",
    "* ir_tmpc\n",
    "* ir_rgbv\n",
    "* ir_bd\n",
    "\n",
    "Note: The `_r` can be added to any colormap name to reverse the colormap. Depending on the data you may have to switch between reveresed and non-reveresed colormaps."
   ]
  },
  {
   "cell_type": "code",
   "execution_count": null,
   "metadata": {},
   "outputs": [],
   "source": [
    "# Declare the data we wish to plot\n",
    "img = declarative.ImagePlot()\n",
    "img.data = ds\n",
    "img.field = 'Sectorized_CMI'\n",
    "img.colormap = 'Greys'\n",
    "img.colorbar = 'horizontal'\n",
    "img.image_range = (200, 280)\n",
    "\n",
    "# Plot the data on a map\n",
    "panel = declarative.MapPanel()\n",
    "panel.layers = ['coastline', 'borders', 'states']\n",
    "panel.left_title = f'GOES East WV Channel {channel:02d}'\n",
    "panel.right_title = f'Valid Time: {vtime} UTC'\n",
    "panel.plots = [img]\n",
    "\n",
    "# Place the map on a figure\n",
    "pc = declarative.PanelContainer()\n",
    "pc.size = (20, 16)\n",
    "pc.panels = [panel]\n",
    "#pc.save(f'GOES_East_{vtime:%Y%m%d_%H%M}_colorenhanced.png', bbox_inches='tight', dpi=150)\n",
    "pc.show()"
   ]
  },
  {
   "cell_type": "code",
   "execution_count": null,
   "metadata": {},
   "outputs": [],
   "source": []
  }
 ],
 "metadata": {
  "kernelspec": {
   "display_name": "Python 3 (ipykernel)",
   "language": "python",
   "name": "python3"
  },
  "language_info": {
   "codemirror_mode": {
    "name": "ipython",
    "version": 3
   },
   "file_extension": ".py",
   "mimetype": "text/x-python",
   "name": "python",
   "nbconvert_exporter": "python",
   "pygments_lexer": "ipython3",
   "version": "3.10.5"
  }
 },
 "nbformat": 4,
 "nbformat_minor": 4
}
