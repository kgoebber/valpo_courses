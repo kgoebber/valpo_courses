{
 "cells": [
  {
   "cell_type": "markdown",
   "id": "e5cc0851",
   "metadata": {},
   "source": [
    "# Python Syntax - Basics \\#2\n",
    "\n",
    "In this section we'll cover setting a variable types, mathematical operations and calculations, and subsetting strings. A good resource for additional information about the Python programming language in the atmospheric sciences is \"Python Programming and Visualization for Scientists, 2nd Ed.\" by Alex DeCaria."
   ]
  },
  {
   "cell_type": "markdown",
   "id": "324079fb-52b4-485e-a02a-bc7adcf10c4a",
   "metadata": {},
   "source": [
    "## Variable Types\n",
    "\n",
    "Since Python is a dynamically typed language, each variable will assume a type based on what the variable is assigned.\n",
    "\n",
    "- integer\n",
    "   ```python\n",
    "   a = 1\n",
    "   ```\n",
    "- floating point (real)\n",
    "   ```python \n",
    "   b = 5.0\n",
    "   ```\n",
    "- string\n",
    "   ```python\n",
    "   c = 'Valpo'\n",
    "   ```\n",
    "- boolean\n",
    "   ```python\n",
    "   d = True\n",
    "   e = False\n",
    "   ```\n",
    "\n",
    "You can check the variable type with the `type()` function."
   ]
  },
  {
   "cell_type": "code",
   "execution_count": null,
   "id": "6e0d8b7d-04ca-4350-867e-17d183631287",
   "metadata": {},
   "outputs": [],
   "source": [
    "a = 1\n",
    "print(type(a))"
   ]
  },
  {
   "cell_type": "markdown",
   "id": "9cfebe66-95a6-4579-85f5-ea0127458484",
   "metadata": {
    "nbpresent": {
     "id": "919e2267-05bf-48b9-92a6-fe6593f22b05"
    },
    "slideshow": {
     "slide_type": "subslide"
    }
   },
   "source": [
    "## Mathematical Calculations\n",
    "\n",
    "### Operators\n",
    "* Addition (+)\n",
    "* Subtraction (-)\n",
    "* Division (/)\n",
    "* Multiplication (*)\n",
    "* Exponentiation (**)\n",
    "* Floor division (//)\n",
    "* Modulus/remainder (%)\n",
    "\n",
    "Order of operations the same as well\n",
    "\n",
    "Floats and Integers work as Reals and Integers in Fortran\n"
   ]
  },
  {
   "cell_type": "markdown",
   "id": "1bbada0e-2d9a-4df0-952a-14c9c75cc3a5",
   "metadata": {
    "nbpresent": {
     "id": "b460430e-4e9f-41e0-9b91-cf09d80867f1"
    },
    "slideshow": {
     "slide_type": "subslide"
    }
   },
   "source": [
    "**NOTE:**\n",
    "In Python, integer division will yield a real in return\n",
    "\n",
    "```python\n",
    "5/9 = 0.5555555555555556\n",
    "```\n",
    "\n",
    "To get the integer of division, use floor division\n",
    "```python \n",
    "5//9 = 0\n",
    "```"
   ]
  },
  {
   "cell_type": "code",
   "execution_count": null,
   "id": "45b7b1c0-18ec-4295-8fc5-19feabacf350",
   "metadata": {},
   "outputs": [],
   "source": [
    "print(5+5)"
   ]
  },
  {
   "cell_type": "markdown",
   "id": "6673a44e-e90c-46a7-b1b8-1a38aee8b73b",
   "metadata": {
    "nbpresent": {
     "id": "2d0afcac-ac14-4728-8ef0-5a2aff4925bb"
    },
    "slideshow": {
     "slide_type": "slide"
    },
    "tags": []
   },
   "source": [
    "## Converting Types\n",
    "* If you read something from a file it will be input as a string\n",
    "* May need to convert to integers and floats (real)\n",
    "```python\n",
    "str(temp) makes temp a string\n",
    "int(temp) makes temp an integer\n",
    "float(temp) makes temp a real (float32)\n",
    "```\n",
    "* Integer to float\n",
    "```python\n",
    "new_a = float(a)\n",
    "```\n",
    "* Not all conversions will work\n",
    "  - a string that is not a number can't be converted to an integer for float value"
   ]
  },
  {
   "cell_type": "code",
   "execution_count": null,
   "id": "0671957a-367e-44b2-91df-96b164ad0120",
   "metadata": {},
   "outputs": [],
   "source": [
    "# Demonstrate changing the variable type\n",
    "tempf = '24'\n",
    "print(type(tempf))\n",
    "itmpf = int(tempf)\n",
    "print(type(itmpf))"
   ]
  },
  {
   "cell_type": "markdown",
   "id": "931106b8-447c-4883-b139-97e9c8c3378b",
   "metadata": {
    "nbpresent": {
     "id": "42b88980-3797-42f9-a491-0de5e8eda02d"
    },
    "slideshow": {
     "slide_type": "subslide"
    }
   },
   "source": [
    "## Variables and Math\n",
    "```python\n",
    "TMPC = 24\n",
    "TMPF = (9./5.)*TMPC + 32\n",
    "\n",
    "# Output to the screen\n",
    "print(TMPF)\n",
    "print(f'The temperature in Fahrenheit is {TMPF}')\n",
    "```\n",
    "**NOTE:**\n",
    "We can also format the variable (TMPF) that we are printing out. Formats go after the variable and start with a colon. (e.g., {TMPF:.2f})"
   ]
  },
  {
   "cell_type": "code",
   "execution_count": null,
   "id": "fd2b046e-9f45-41de-b8ab-9455ed69deae",
   "metadata": {},
   "outputs": [],
   "source": [
    "TMPC = 24\n",
    "TMPK = TMPC + 273.15\n",
    "print(f'The temperature in Kelvin is {TMPK}')"
   ]
  },
  {
   "cell_type": "markdown",
   "id": "b5e3c746-45b5-42b1-9fc9-ef948e7cd652",
   "metadata": {},
   "source": [
    "## Subsetting Strings\n",
    "Each character within a string (including spaces) are one position. You can subset a string for a single or set of characters (positions) via its index value (address). One very important note is that Python uses a zero-based indexing scheme, so the first index value is zero (0), the second is one (1), and do on. You can also index from the end going backwards using negative numbers starting with -1, which will give you the last character.\n",
    "\n",
    "```python\n",
    "dept = 'Geography'\n",
    "print(dept[0])\n",
    "print(dept[5])\n",
    "print(dept[-2])\n",
    "```\n",
    "Output\n",
    "```\n",
    "G\n",
    "a\n",
    "h\n",
    "```\n",
    "\n",
    "You can also subset for a range of indecies by using the construct of `start:stop:step`, where the subsetting is inclusive of the start value, but exclusive of the stop value.\n",
    "\n",
    "```python\n",
    "print(dept[0:3])\n",
    "```\n",
    "Output\n",
    "```python\n",
    "Geo\n",
    "```\n",
    "\n",
    "So we only get the values from the variable `dept` from the index values of `0`, `1`, and `2`."
   ]
  },
  {
   "cell_type": "code",
   "execution_count": null,
   "id": "70d4e8fd-61f2-471f-b759-f81adb036788",
   "metadata": {},
   "outputs": [],
   "source": [
    "name = 'Valparaiso'\n",
    "print(name[0:4]+name[-1])"
   ]
  },
  {
   "cell_type": "code",
   "execution_count": null,
   "id": "a6051957",
   "metadata": {},
   "outputs": [],
   "source": []
  }
 ],
 "metadata": {
  "kernelspec": {
   "display_name": "Python 3 (ipykernel)",
   "language": "python",
   "name": "python3"
  },
  "language_info": {
   "codemirror_mode": {
    "name": "ipython",
    "version": 3
   },
   "file_extension": ".py",
   "mimetype": "text/x-python",
   "name": "python",
   "nbconvert_exporter": "python",
   "pygments_lexer": "ipython3",
   "version": "3.11.3"
  }
 },
 "nbformat": 4,
 "nbformat_minor": 5
}
