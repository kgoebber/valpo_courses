{
 "cells": [
  {
   "cell_type": "markdown",
   "metadata": {},
   "source": [
    "# Reading and Plotting Archive Surface Data\n",
    "\n",
    "This notebook demonstrates reading surface data from the Valpo archive (1950-2018)."
   ]
  },
  {
   "cell_type": "markdown",
   "metadata": {},
   "source": [
    "### Import Packages"
   ]
  },
  {
   "cell_type": "code",
   "execution_count": null,
   "metadata": {},
   "outputs": [],
   "source": [
    "from datetime import datetime, timedelta\n",
    "\n",
    "from metpy.plots.declarative import *\n",
    "from metpy.units import units\n",
    "import pandas as pd"
   ]
  },
  {
   "cell_type": "markdown",
   "metadata": {},
   "source": [
    "### Get Data\n",
    "\n",
    "Using Pandas package to read in remote CSV files. Note that this data doesn't have any units associated with it. You'll need to assume the standard units that come with METAR files, which means that temperature is in Celsius, pressure is in hPa, and winds are in knots."
   ]
  },
  {
   "cell_type": "code",
   "execution_count": null,
   "metadata": {},
   "outputs": [],
   "source": [
    "date = datetime(2011, 2, 1, 0)\n",
    "\n",
    "# Read with pandas, note differences from METAR files\n",
    "df = pd.read_csv(f'http://bergeron.valpo.edu/archive_surface_data/{date:%Y}/{date:%Y%m%d}_metar.csv',\n",
    "                 parse_dates=['date_time'], na_values=[-9999])\n",
    "#df.skyc = df.skyc.astype('int')"
   ]
  },
  {
   "cell_type": "code",
   "execution_count": null,
   "metadata": {},
   "outputs": [],
   "source": [
    "list(df.keys())"
   ]
  },
  {
   "cell_type": "markdown",
   "metadata": {},
   "source": [
    "### Plot Data"
   ]
  },
  {
   "cell_type": "code",
   "execution_count": null,
   "metadata": {},
   "outputs": [],
   "source": [
    "mslp_formatter = lambda v: format(v*10, '.0f')[2:]\n",
    "df['tmpf'] = (df.air_temperature.values * units.degC).to('degF')\n",
    "df['dwpf'] = (df.dew_point_temperature.values * units.degC).to('degF')\n",
    "\n",
    "\n",
    "# Plot desired data\n",
    "obs = PlotObs()\n",
    "obs.data = df\n",
    "obs.time = date\n",
    "obs.time_window = timedelta(minutes=15)\n",
    "obs.level = None\n",
    "obs.fields = ['cloud_coverage', 'tmpf', 'dwpf',\n",
    "              'air_pressure_at_sea_level', 'present_weather']\n",
    "obs.locations = ['C', 'NW', 'SW', 'NE', 'W']\n",
    "obs.formats = ['sky_cover', None, None, mslp_formatter, 'current_weather']\n",
    "obs.reduce_points = 0.75\n",
    "obs.vector_field = ['eastward_wind', 'northward_wind']\n",
    "\n",
    "# Panel for plot with Map features\n",
    "panel = MapPanel()\n",
    "panel.layout = (1, 1, 1)\n",
    "panel.projection = 'lcc'\n",
    "panel.area = 'in'\n",
    "panel.layers = ['states']\n",
    "panel.plots = [obs]\n",
    "\n",
    "# Bringing it all together\n",
    "pc = PanelContainer()\n",
    "pc.size = (10, 10)\n",
    "pc.panels = [panel]\n",
    "\n",
    "pc.show()"
   ]
  },
  {
   "cell_type": "code",
   "execution_count": null,
   "metadata": {},
   "outputs": [],
   "source": []
  }
 ],
 "metadata": {
  "kernelspec": {
   "display_name": "Python 3",
   "language": "python",
   "name": "python3"
  },
  "language_info": {
   "codemirror_mode": {
    "name": "ipython",
    "version": 3
   },
   "file_extension": ".py",
   "mimetype": "text/x-python",
   "name": "python",
   "nbconvert_exporter": "python",
   "pygments_lexer": "ipython3",
   "version": "3.8.6"
  }
 },
 "nbformat": 4,
 "nbformat_minor": 4
}
