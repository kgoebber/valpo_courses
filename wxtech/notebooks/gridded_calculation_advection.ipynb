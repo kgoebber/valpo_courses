{
 "cells": [
  {
   "cell_type": "markdown",
   "metadata": {},
   "source": [
    "# Advection Calculation\n",
    "\n",
    "This notebook demonstrates computing a temperature advection, then plotting it using color-filled contours."
   ]
  },
  {
   "cell_type": "markdown",
   "metadata": {},
   "source": [
    "## Import Needed Packages"
   ]
  },
  {
   "cell_type": "code",
   "execution_count": null,
   "metadata": {},
   "outputs": [],
   "source": [
    "from datetime import datetime, timedelta, time\n",
    "\n",
    "import metpy.calc as mpcalc\n",
    "from metpy.plots import declarative\n",
    "from metpy.units import units\n",
    "import xarray as xr"
   ]
  },
  {
   "cell_type": "markdown",
   "metadata": {},
   "source": [
    "## Get Data"
   ]
  },
  {
   "cell_type": "code",
   "execution_count": null,
   "metadata": {},
   "outputs": [],
   "source": [
    "# Set the date/time of the model run\n",
    "yesterday = datetime.utcnow() - timedelta(days=1)\n",
    "model_run_time = datetime.combine(yesterday, time(0))\n",
    "\n",
    "# Remote access to the dataset from the UCAR site\n",
    "ds = xr.open_dataset('https://thredds.ucar.edu/thredds/dodsC/grib'\n",
    "                     f'/NCEP/GFS/Global_onedeg/GFS_Global_onedeg_'\n",
    "                     f'{model_run_time:%Y%m%d}_{model_run_time:%H%M}.grib2')\n",
    "\n",
    "# Subset data to be just over the U.S. for plotting purposes\n",
    "ds = ds.sel(lat=slice(70,10), lon=slice(360-150, 360-55))"
   ]
  },
  {
   "cell_type": "markdown",
   "metadata": {},
   "source": [
    "## Calculation\n",
    "\n",
    "1. Pull out necessary variables from dataset.\n",
    "2. Do the calculation using MetPy (not too hard).\n",
    "3. Add it to the dataarray.\n",
    "\n",
    "All MetPy Calculations can be found at <a href=\"https://unidata.github.io/MetPy/latest/api/generated/metpy.calc.html\" target=\"_blank\">https://unidata.github.io/MetPy/latest/api/generated/metpy.calc.html</a>\n",
    "\n",
    "```{note}\n",
    "Not all calculations work on grids, yet!\n",
    "```"
   ]
  },
  {
   "cell_type": "markdown",
   "metadata": {},
   "source": [
    "\\begin{align}\n",
    "\\text{Advection} = -u \\frac{\\Delta T}{\\Delta x} - v \\frac{\\Delta T}{\\Delta y}\n",
    "\\end{align}\n",
    "\n",
    "The minus signs are by convention, which means cold air advection will be negative values and warm air advection will be positive values.\n",
    "\n",
    "<a href=\"https://unidata.github.io/MetPy/latest/api/generated/metpy.calc.advection.html\" target=\"_blank\">Advection Calculation in MetPy</a>\n",
    "                   "
   ]
  },
  {
   "cell_type": "code",
   "execution_count": null,
   "metadata": {},
   "outputs": [],
   "source": [
    "# Select Level and Time\n",
    "level = 850 * units.hPa\n",
    "plot_time = model_run_time + timedelta(hours=0)\n",
    "\n",
    "# Isolate needed variables\n",
    "tmpk = ds.Temperature_isobaric.metpy.sel(vertical=level, time=plot_time)\n",
    "uwind = ds['u-component_of_wind_isobaric'].metpy.sel(vertical=level, time=plot_time)\n",
    "vwind = ds['v-component_of_wind_isobaric'].metpy.sel(vertical=level, time=plot_time)\n",
    "\n",
    "# Copmute advection and store in Dataset\n",
    "ds['temperature_advection'] = mpcalc.advection(tmpk, uwind, vwind)"
   ]
  },
  {
   "cell_type": "markdown",
   "metadata": {},
   "source": [
    "### Plot Temperatue Advection\n",
    "\n",
    "Here we plot temperature advection and we want to scale our advection to be in Celsius per 3 hours. We need to change two attributes to get there, first `plot_units` we can set to `degC/hour`, then we set the `scale` attribute to `3` to get our value over a three hour period.\n",
    "\n",
    "We'll also use the `smooth_contour` attribute to smooth the Geopotential Heights and Temperature variables."
   ]
  },
  {
   "cell_type": "code",
   "execution_count": null,
   "metadata": {},
   "outputs": [],
   "source": [
    "# Set attributes for plotting contours\n",
    "cfill = declarative.FilledContourPlot()\n",
    "cfill.data = ds\n",
    "cfill.field = 'temperature_advection'\n",
    "cfill.level = None # Since already chose level\n",
    "cfill.time = None # Since already chose time\n",
    "cfill.contours = list(range(-15, 16, 1))\n",
    "cfill.colormap = 'coolwarm'\n",
    "cfill.colorbar = 'horizontal'\n",
    "cfill.scale = 3\n",
    "cfill.plot_units = 'degC/hour'\n",
    "\n",
    "cntr = declarative.ContourPlot()\n",
    "cntr.data = ds\n",
    "cntr.field = 'Temperature_isobaric'\n",
    "cntr.level = level\n",
    "cntr.time = plot_time\n",
    "cntr.contours = list(range(-40, 41, 5))\n",
    "cntr.linecolor = 'red'\n",
    "cntr.linestyle = 'dashed'\n",
    "cntr.clabels = True\n",
    "cntr.plot_units = 'degC'\n",
    "cntr.smooth_contour = 4\n",
    "\n",
    "cntr2 = declarative.ContourPlot()\n",
    "cntr2.data = ds\n",
    "cntr2.field = 'Geopotential_height_isobaric'\n",
    "cntr2.level = level\n",
    "cntr2.time = plot_time\n",
    "cntr2.contours = list(range(0, 10000, 30))\n",
    "cntr2.linecolor = 'black'\n",
    "cntr2.linestyle = 'solid'\n",
    "cntr2.clabels = True\n",
    "cntr2.smooth_field = 2\n",
    "cntr2.smooth_contour = 4\n",
    "\n",
    "barbs = declarative.BarbPlot()\n",
    "barbs.data = ds\n",
    "barbs.time = plot_time\n",
    "barbs.field = ['u-component_of_wind_isobaric', 'v-component_of_wind_isobaric']\n",
    "barbs.level = level\n",
    "barbs.skip = (3, 3)\n",
    "barbs.plot_units = 'knot'\n",
    "\n",
    "# Set the attributes for the map\n",
    "# and put the contours on the map\n",
    "panel = declarative.MapPanel()\n",
    "panel.area = [-125, -74, 20, 55]\n",
    "panel.projection = 'lcc'\n",
    "panel.layers = ['states', 'coastline', 'borders']\n",
    "panel.title = f'850-hPa Temperature Advection at {plot_time} by KHG'\n",
    "panel.plots = [cfill, cntr, cntr2, barbs]\n",
    "\n",
    "# Set the attributes for the panel\n",
    "# and put the panel in the figure\n",
    "pc = declarative.PanelContainer()\n",
    "pc.size = (15, 15)\n",
    "pc.panels = [panel]\n",
    "\n",
    "# Show the figure\n",
    "pc.show()"
   ]
  },
  {
   "cell_type": "code",
   "execution_count": null,
   "metadata": {},
   "outputs": [],
   "source": []
  }
 ],
 "metadata": {
  "kernelspec": {
   "display_name": "Python 3 (ipykernel)",
   "language": "python",
   "name": "python3"
  },
  "language_info": {
   "codemirror_mode": {
    "name": "ipython",
    "version": 3
   },
   "file_extension": ".py",
   "mimetype": "text/x-python",
   "name": "python",
   "nbconvert_exporter": "python",
   "pygments_lexer": "ipython3",
   "version": "3.11.3"
  }
 },
 "nbformat": 4,
 "nbformat_minor": 4
}
