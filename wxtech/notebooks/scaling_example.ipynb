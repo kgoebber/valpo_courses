{
 "cells": [
  {
   "cell_type": "markdown",
   "metadata": {},
   "source": [
    "# Scaling Variables\n",
    "\n",
    "This notebook demonstrates the use of the `scale` parameter to plot the Absolute Vorticity."
   ]
  },
  {
   "cell_type": "markdown",
   "metadata": {},
   "source": [
    "## Import Packages"
   ]
  },
  {
   "cell_type": "code",
   "execution_count": null,
   "metadata": {},
   "outputs": [],
   "source": [
    "from datetime import datetime, timedelta\n",
    "\n",
    "import metpy.calc as mpcalc\n",
    "from metpy.plots import declarative\n",
    "from metpy.units import units\n",
    "import numpy as np\n",
    "import xarray as xr"
   ]
  },
  {
   "cell_type": "markdown",
   "metadata": {},
   "source": [
    "## Get Data"
   ]
  },
  {
   "cell_type": "code",
   "execution_count": null,
   "metadata": {},
   "outputs": [],
   "source": [
    "# Set the date/time of the model run\n",
    "date = datetime(2017, 2, 24, 12)\n",
    "\n",
    "# Remote access to the dataset from the NCEI Archive\n",
    "ds = xr.open_dataset('https://www.ncei.noaa.gov/thredds/dodsC/model-gfs-g3-anl-files-old'\n",
    "                     f'/{date:%Y%m}/{date:%Y%m%d}/gfsanl_3_{date:%Y%m%d_%H}00_000.grb')\n",
    "\n",
    "# Subset data to be just over the U.S. for plotting purposes\n",
    "ds = ds.sel(lat=slice(70,10), lon=slice(360-140, 360-60))"
   ]
  },
  {
   "cell_type": "markdown",
   "metadata": {},
   "source": [
    "## Scaling Data\n",
    "\n",
    "Since vorticity values are on the order of $10^{-5}$ we want to scale them to fit common contouring values of whole numbers, so we want to set the `scale` attribute to be `1e5`."
   ]
  },
  {
   "cell_type": "code",
   "execution_count": null,
   "metadata": {},
   "outputs": [],
   "source": [
    "# Set the plot time with forecast hours\n",
    "plot_time = date + timedelta(hours=0)\n",
    "\n",
    "# Set attributes for plotting contours\n",
    "cfill = declarative.FilledContourPlot()\n",
    "cfill.data = ds\n",
    "cfill.field = 'Absolute_vorticity_isobaric'\n",
    "cfill.level = 500 * units.hPa\n",
    "cfill.time = date\n",
    "cfill.contours = list(range(-46, 47, 2))\n",
    "cfill.colormap = 'PuOr_r'\n",
    "cfill.colorbar = 'horizontal'\n",
    "cfill.scale = 1e5\n",
    "cfill.smooth_field = 3\n",
    "\n",
    "cntr2 = declarative.ContourPlot()\n",
    "cntr2.data = ds\n",
    "cntr2.field = 'Geopotential_height_isobaric'\n",
    "cntr2.level = 500 * units.hPa\n",
    "cntr2.time = date\n",
    "cntr2.contours = list(range(0, 10000, 60))\n",
    "cntr2.linecolor = 'black'\n",
    "cntr2.linestyle = 'solid'\n",
    "cntr2.clabels = True\n",
    "cntr2.smooth_field = 3\n",
    "\n",
    "# Set the attributes for the map\n",
    "# and put the contours on the map\n",
    "panel = declarative.MapPanel()\n",
    "panel.area = [-125, -74, 22, 52]\n",
    "panel.projection = 'lcc'\n",
    "panel.layers = ['states', 'coastline', 'borders']\n",
    "panel.title = f'{cfill.level.m}-hPa Abs. Vorticity Valid at {date}'\n",
    "panel.plots = [cfill, cntr2]\n",
    "\n",
    "# Set the attributes for the panel\n",
    "# and put the panel in the figure\n",
    "pc = declarative.PanelContainer()\n",
    "pc.size = (15, 15)\n",
    "pc.panels = [panel]\n",
    "\n",
    "# Show the figure\n",
    "pc.show()"
   ]
  },
  {
   "cell_type": "code",
   "execution_count": null,
   "metadata": {},
   "outputs": [],
   "source": []
  }
 ],
 "metadata": {
  "kernelspec": {
   "display_name": "Python 3 (ipykernel)",
   "language": "python",
   "name": "python3"
  },
  "language_info": {
   "codemirror_mode": {
    "name": "ipython",
    "version": 3
   },
   "file_extension": ".py",
   "mimetype": "text/x-python",
   "name": "python",
   "nbconvert_exporter": "python",
   "pygments_lexer": "ipython3",
   "version": "3.11.5"
  }
 },
 "nbformat": 4,
 "nbformat_minor": 4
}
