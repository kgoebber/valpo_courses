{
 "cells": [
  {
   "cell_type": "markdown",
   "metadata": {},
   "source": [
    "# Plotting Multiple Contours\n",
    "\n",
    "This notebook demonstrates plotting multiple contours from gridded data. Here we'll\n",
    "plot 850-hPa geopotential heights with 850-hPa temperature in Celisus."
   ]
  },
  {
   "cell_type": "markdown",
   "metadata": {},
   "source": [
    "## Import Packages\n",
    "\n",
    "Here we bring in the needed Python modules to be able to plot contours using the computer. Note that there are fewer needed for this particular plotting scenario."
   ]
  },
  {
   "cell_type": "code",
   "execution_count": null,
   "metadata": {},
   "outputs": [],
   "source": [
    "from datetime import datetime, timedelta, time\n",
    "\n",
    "from metpy.plots import declarative\n",
    "from metpy.units import units\n",
    "import xarray as xr"
   ]
  },
  {
   "cell_type": "markdown",
   "metadata": {},
   "source": [
    "## Get Data\n",
    "\n",
    "Here we are using the same current data that we have used in this chapter from the one degree GFS to demonstrate our plotting."
   ]
  },
  {
   "cell_type": "code",
   "execution_count": null,
   "metadata": {},
   "outputs": [],
   "source": [
    "# Set the date/time of the model run\n",
    "# The following code will get you yesterday at 12 UTC\n",
    "yesterday = datetime.utcnow() - timedelta(days=1)\n",
    "model_run_date = datetime.combine(yesterday, time(12))\n",
    "\n",
    "# Remote access to the dataset from the UCAR site\n",
    "ds = xr.open_dataset('https://thredds.ucar.edu/thredds/dodsC/grib'\n",
    "                     f'/NCEP/GFS/Global_onedeg/GFS_Global_onedeg_'\n",
    "                     f'{model_run_date:%Y%m%d}_{model_run_date:%H%M}.grib2')\n",
    "\n",
    "# Subset data to be just over the U.S. for plotting purposes\n",
    "ds = ds.sel(lat=slice(70,10), lon=slice(360-140, 360-60))"
   ]
  },
  {
   "cell_type": "markdown",
   "metadata": {},
   "source": [
    "### Plot Data\n",
    "\n",
    "Here we demonstrate how to overlay multiple contours on a single plot (with wind barbs still plotted).\n",
    "You'll want to be sure you use two unique variable names for each set of contours and set appropriate\n",
    "attributes to have each contour plot just a little differently (e.g., different colors and/or linestyles)."
   ]
  },
  {
   "cell_type": "code",
   "execution_count": null,
   "metadata": {},
   "outputs": [],
   "source": [
    "# Set the plot time with forecast hours\n",
    "plot_time = model_run_date + timedelta(hours=0)\n",
    "\n",
    "# Set attributes for plotting geopotential height contours\n",
    "hght = declarative.ContourPlot()\n",
    "hght.data = ds\n",
    "hght.field = 'Geopotential_height_isobaric'\n",
    "hght.level = 850 * units.hPa\n",
    "hght.time = plot_time\n",
    "hght.contours = range(0, 10000, 30)\n",
    "hght.clabels = True\n",
    "\n",
    "# Set attributes for plotting temperature contours in Celsius\n",
    "tmpc = declarative.ContourPlot()\n",
    "tmpc.data = ds\n",
    "tmpc.field = 'Temperature_isobaric'\n",
    "tmpc.level = 850 * units.hPa\n",
    "tmpc.time = plot_time\n",
    "tmpc.contours = range(-40, 41, 5)\n",
    "tmpc.clabels = True\n",
    "tmpc.linestyle = 'dashed'\n",
    "tmpc.linecolor = 'tab:red'\n",
    "tmpc.plot_units = 'degC'\n",
    "\n",
    "# Add wind barbds\n",
    "barbs = declarative.BarbPlot()\n",
    "barbs.data = ds\n",
    "barbs.time = plot_time\n",
    "barbs.field = ['u-component_of_wind_isobaric',\n",
    "               'v-component_of_wind_isobaric']\n",
    "barbs.level = 850 * units.hPa\n",
    "barbs.skip = (3, 3)\n",
    "barbs.plot_units = 'knot'\n",
    "\n",
    "# Set the attributes for the map\n",
    "# and put the contours on the map\n",
    "panel = declarative.MapPanel()\n",
    "panel.area = [-125, -74, 22, 52]\n",
    "panel.projection = 'lcc'\n",
    "panel.layers = ['states', 'coastline', 'borders']\n",
    "panel.title = f'850-hPa Geopotential Heights and Temperature (degC) at {plot_time}'\n",
    "panel.plots = [hght, tmpc, barbs]\n",
    "\n",
    "# Set the attributes for the panel\n",
    "# and put the panel in the figure\n",
    "pc = declarative.PanelContainer()\n",
    "pc.size = (15, 15)\n",
    "pc.panels = [panel]\n",
    "\n",
    "# Show the figure\n",
    "pc.show()"
   ]
  },
  {
   "cell_type": "code",
   "execution_count": null,
   "metadata": {},
   "outputs": [],
   "source": []
  }
 ],
 "metadata": {
  "kernelspec": {
   "display_name": "Python 3 (ipykernel)",
   "language": "python",
   "name": "python3"
  },
  "language_info": {
   "codemirror_mode": {
    "name": "ipython",
    "version": 3
   },
   "file_extension": ".py",
   "mimetype": "text/x-python",
   "name": "python",
   "nbconvert_exporter": "python",
   "pygments_lexer": "ipython3",
   "version": "3.11.3"
  }
 },
 "nbformat": 4,
 "nbformat_minor": 4
}
