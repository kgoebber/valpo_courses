{
 "cells": [
  {
   "cell_type": "markdown",
   "metadata": {},
   "source": [
    "# Wind Speed Calculation\n",
    "\n",
    "This notebook demonstrates using a MetPy calculation function to compute a wind speed, save it as a new varaible, and add it to the Dataset for plotting purposes."
   ]
  },
  {
   "cell_type": "markdown",
   "metadata": {},
   "source": [
    "## Import Packages"
   ]
  },
  {
   "cell_type": "code",
   "execution_count": null,
   "metadata": {},
   "outputs": [],
   "source": [
    "from datetime import datetime, timedelta, time\n",
    "\n",
    "import metpy.calc as mpcalc\n",
    "from metpy.plots import declarative\n",
    "from metpy.units import units\n",
    "import xarray as xr"
   ]
  },
  {
   "cell_type": "markdown",
   "metadata": {},
   "source": [
    "## Get Data"
   ]
  },
  {
   "cell_type": "code",
   "execution_count": null,
   "metadata": {},
   "outputs": [],
   "source": [
    "# Set the date/time of the model run for yesterday at 00 UTC\n",
    "yesterday = datetime.utcnow() - timedelta(days=1)\n",
    "date = datetime.combine(yesterday, time(0))\n",
    "\n",
    "# Remote access to the dataset from the UCAR site\n",
    "ds = xr.open_dataset('https://thredds.ucar.edu/thredds/dodsC/grib/NCEP/GFS/'\n",
    "                     f'Global_0p5deg_ana/GFS_Global_0p5deg_ana_{date:%Y%m%d_%H}00.grib2')\n",
    "\n",
    "# Set the plot time\n",
    "plot_time = date + timedelta(hours=0)\n",
    "\n",
    "# Subset data to be just over the U.S. for plotting purposes and for the plot_time\n",
    "ds = ds.metpy.sel(lat=slice(70,10), lon=slice(360-140, 360-60))"
   ]
  },
  {
   "cell_type": "markdown",
   "metadata": {},
   "source": [
    "## Perform Calculation\n",
    "\n",
    "1. Do the calculation using MetPy (not too hard).\n",
    "2. Add it to the dataarray.\n",
    "\n",
    "All MetPy Calculations can be found at <a href=\"https://unidata.github.io/MetPy/latest/api/generated/metpy.calc.html\" target=\"_blank\">https://unidata.github.io/MetPy/latest/api/generated/metpy.calc.html</a>\n",
    "\n",
    "Not all calculations work on grids, yet!\n",
    "\n",
    "<a href=\"https://unidata.github.io/MetPy/latest/api/generated/metpy.calc.wind_speed.html\" target=\"_blank\">Wind Speed Calculation in MetPy</a>\n",
    "\n",
    "We can add a new variable based on a simialr one, then update the values based on the calculation. This is easy for wind speed as it is a variant on a single component of the wind."
   ]
  },
  {
   "cell_type": "code",
   "execution_count": null,
   "metadata": {},
   "outputs": [],
   "source": [
    "# Isolate needed variables for calculations\n",
    "uwnd = ds['u-component_of_wind_isobaric'].metpy.sel(time=plot_time)\n",
    "vwnd = ds['v-component_of_wind_isobaric'].metpy.sel(time=plot_time)\n",
    "\n",
    "# Calculate Wind Speed, store in Dataset\n",
    "ds['wind_speed'] = mpcalc.wind_speed(uwnd, vwnd)"
   ]
  },
  {
   "cell_type": "markdown",
   "metadata": {},
   "source": [
    "### Plot Data"
   ]
  },
  {
   "cell_type": "code",
   "execution_count": null,
   "metadata": {},
   "outputs": [],
   "source": [
    "# Set attributes for plotting contours\n",
    "cfill = declarative.FilledContourPlot()\n",
    "cfill.data = ds\n",
    "cfill.field = 'wind_speed'\n",
    "cfill.level = 300 * units.hPa\n",
    "cfill.time = None # We subset for time already\n",
    "cfill.contours = list(range(10, 201, 20))\n",
    "cfill.colormap = 'BuPu'\n",
    "cfill.colorbar = 'horizontal'\n",
    "cfill.plot_units = 'knot'\n",
    "\n",
    "cntr2 = declarative.ContourPlot()\n",
    "cntr2.data = ds\n",
    "cntr2.field = 'Geopotential_height_isobaric'\n",
    "cntr2.level = 300 * units.hPa\n",
    "cntr2.time = plot_time\n",
    "cntr2.contours = list(range(0, 10000, 120))\n",
    "cntr2.linecolor = 'black'\n",
    "cntr2.linestyle = 'solid'\n",
    "cntr2.clabels = True\n",
    "cntr2.smooth_field = 4\n",
    "\n",
    "# Set the attributes for the map\n",
    "# and put the contours on the map\n",
    "panel = declarative.MapPanel()\n",
    "panel.area = [-125, -74, 22, 52]\n",
    "panel.projection = 'lcc'\n",
    "panel.layers = ['states', 'coastline', 'borders']\n",
    "panel.title = f'{cfill.level.m}-hPa Heights and Wind Speed at {plot_time}'\n",
    "panel.plots = [cfill, cntr2]\n",
    "\n",
    "# Set the attributes for the panel\n",
    "# and put the panel in the figure\n",
    "pc = declarative.PanelContainer()\n",
    "pc.size = (15, 15)\n",
    "pc.panels = [panel]\n",
    "\n",
    "# Show the figure\n",
    "pc.show()"
   ]
  },
  {
   "cell_type": "code",
   "execution_count": null,
   "metadata": {},
   "outputs": [],
   "source": []
  }
 ],
 "metadata": {
  "kernelspec": {
   "display_name": "Python 3 (ipykernel)",
   "language": "python",
   "name": "python3"
  },
  "language_info": {
   "codemirror_mode": {
    "name": "ipython",
    "version": 3
   },
   "file_extension": ".py",
   "mimetype": "text/x-python",
   "name": "python",
   "nbconvert_exporter": "python",
   "pygments_lexer": "ipython3",
   "version": "3.11.5"
  }
 },
 "nbformat": 4,
 "nbformat_minor": 4
}
