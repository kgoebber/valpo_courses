{
 "cells": [
  {
   "cell_type": "markdown",
   "metadata": {},
   "source": [
    "# Archive Surface Data and Plotting\n",
    "This notebook demonstrates reading surface data and plotting it using MetPy's declarative syntax."
   ]
  },
  {
   "cell_type": "code",
   "execution_count": null,
   "metadata": {},
   "outputs": [],
   "source": [
    "from datetime import datetime, timedelta\n",
    "from io import StringIO\n",
    "\n",
    "import cartopy.crs as ccrs\n",
    "from metpy.io import metar\n",
    "from metpy.plots import declarative\n",
    "from metpy.units import units\n",
    "import pandas as pd"
   ]
  },
  {
   "cell_type": "markdown",
   "metadata": {},
   "source": [
    "### Read Data\n",
    "\n",
    "We bring in surface data that is in METAR format and store it for approximately two weeks in `/data/ldmdata/surface/sao` and the format of the filenames are `YYYYMMDDHH_sao.wmo` where `YYYY` is the year, `MM` is the month, `DD` is the day, and `HH` is the hour. Or there are pre-decoded files located in `/data/ldmdata/surface/csv` and can be read in using the Pandas module."
   ]
  },
  {
   "cell_type": "code",
   "execution_count": null,
   "metadata": {},
   "outputs": [],
   "source": [
    "date = datetime(2015, 5, 1, 0)\n",
    "\n",
    "dt = timedelta(minutes=20)\n",
    "sdate = date - dt\n",
    "edate = date + dt\n",
    "data_url = ('http://mesonet.agron.iastate.edu/cgi-bin/request/asos.py?data=all&tz=Etc/UTC&format=comma&latlon=yes&'\n",
    "            f'year1={sdate.year}&month1={sdate.month}&day1={sdate.day}&hour1={sdate.hour}&minute1={sdate.minute}&'\n",
    "            f'year2={edate.year}&month2={edate.month}&day2={edate.day}&hour2={edate.hour}&minute2={edate.minute}')\n",
    "data = pd.read_csv(data_url, skiprows=5, na_values=['M'], low_memory=False).replace('T', 0.00001).groupby('station').tail(1)\n",
    "df = metar.parse_metar_file(StringIO('\\n'.join(val for val in data.metar)), year=date.year, month=date.month)\n",
    "\n",
    "df['tmpf'] = (df.air_temperature.values * units.degC).to('degF')\n",
    "df['dwpf'] = (df.dew_point_temperature.values * units.degC).to('degF')"
   ]
  },
  {
   "cell_type": "markdown",
   "metadata": {},
   "source": [
    "### Plot Data"
   ]
  },
  {
   "cell_type": "code",
   "execution_count": null,
   "metadata": {},
   "outputs": [],
   "source": [
    "mslp_formatter = lambda v: format(v*10, '.0f')[-3:]\n",
    "\n",
    "# Plot desired data\n",
    "obs = declarative.PlotObs()\n",
    "obs.data = df\n",
    "obs.time = date\n",
    "obs.time_window = timedelta(minutes=15)\n",
    "obs.level = None\n",
    "obs.fields = ['cloud_coverage', 'tmpf', 'dwpf',\n",
    "              'air_pressure_at_sea_level', 'current_wx1_symbol']\n",
    "obs.locations = ['C', 'NW', 'SW', 'NE', 'W']\n",
    "obs.formats = ['sky_cover', None, None, mslp_formatter, 'current_weather']\n",
    "obs.colors = ['black', 'tab:red', 'tab:green', 'black', 'tab:blue']\n",
    "obs.reduce_points = .25\n",
    "obs.vector_field = ['eastward_wind', 'northward_wind']\n",
    "\n",
    "# Panel for plot with Map features\n",
    "panel = declarative.MapPanel()\n",
    "panel.layout = (1, 1, 1)\n",
    "panel.projection = ccrs.LambertConformal(central_longitude=-90,\n",
    "                                         standard_parallels=(30, 60))\n",
    "panel.area = 'in+'\n",
    "panel.layers = ['states', 'coastline']\n",
    "panel.left_title = 'Surface Observations'\n",
    "panel.right_title = f'Valid Time: {date:%Y-%m-%d %H} UTC' \n",
    "panel.plots = [obs]\n",
    "\n",
    "# Bringing it all together\n",
    "pc = declarative.PanelContainer()\n",
    "pc.size = (10, 10)\n",
    "pc.panels = [panel]\n",
    "\n",
    "pc.show()"
   ]
  },
  {
   "cell_type": "code",
   "execution_count": null,
   "metadata": {},
   "outputs": [],
   "source": []
  }
 ],
 "metadata": {
  "kernelspec": {
   "display_name": "Python 3 (ipykernel)",
   "language": "python",
   "name": "python3"
  },
  "language_info": {
   "codemirror_mode": {
    "name": "ipython",
    "version": 3
   },
   "file_extension": ".py",
   "mimetype": "text/x-python",
   "name": "python",
   "nbconvert_exporter": "python",
   "pygments_lexer": "ipython3",
   "version": "3.10.5"
  }
 },
 "nbformat": 4,
 "nbformat_minor": 4
}
