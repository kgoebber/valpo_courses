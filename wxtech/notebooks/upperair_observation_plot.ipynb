{
 "cells": [
  {
   "cell_type": "markdown",
   "metadata": {},
   "source": [
    "# Upperair Observation Plotting"
   ]
  },
  {
   "cell_type": "code",
   "execution_count": null,
   "metadata": {},
   "outputs": [],
   "source": [
    "from datetime import datetime\n",
    "\n",
    "import cartopy.crs as ccrs\n",
    "from metpy.io import add_station_lat_lon\n",
    "from metpy.plots import declarative\n",
    "from metpy.units import units\n",
    "from siphon.simplewebservice.iastate import IAStateUpperAir\n",
    "import pandas as pd"
   ]
  },
  {
   "cell_type": "markdown",
   "metadata": {},
   "source": [
    "### Read Data"
   ]
  },
  {
   "cell_type": "code",
   "execution_count": null,
   "metadata": {},
   "outputs": [],
   "source": [
    "# Set date for desired UPA data\n",
    "date = datetime(2021, 12, 31, 0)\n",
    "\n",
    "# Request data using Siphon request for data from Iowa State Archive\n",
    "df = IAStateUpperAir.request_all_data(date)"
   ]
  },
  {
   "cell_type": "code",
   "execution_count": null,
   "metadata": {},
   "outputs": [],
   "source": [
    "df = add_station_lat_lon(df, 'station').dropna(subset=['latitude', 'longitude'])\n",
    "df = df[df.station != 'KVER']"
   ]
  },
  {
   "cell_type": "markdown",
   "metadata": {},
   "source": [
    "Upperair Observation Common Units:\n",
    "\n",
    "`{'pressure': 'hPa',\n",
    " 'height': 'meter',\n",
    " 'temperature': 'degC',\n",
    " 'dewpoint': 'degC',\n",
    " 'direction': 'degrees',\n",
    " 'speed': 'knot',\n",
    " 'u_wind': 'knot',\n",
    " 'v_wind': 'knot',\n",
    " 'station': None,\n",
    " 'time': None}`"
   ]
  },
  {
   "cell_type": "markdown",
   "metadata": {},
   "source": [
    "### Calculate Dewpoint Depression\n",
    "\n",
    "Dewpoint depression is a derived quantity that needs to be calculated from the temperature and dewpoint at each observation point. The calculation is simple,\n",
    "\n",
    "DP = Temperature - Dewpoint\n",
    "\n",
    "and then we just need to save the difference to a new variable name and store within our DataFrame."
   ]
  },
  {
   "cell_type": "code",
   "execution_count": null,
   "metadata": {},
   "outputs": [],
   "source": [
    "df['dewpoint_depression'] = df['temperature'] - df['dewpoint']"
   ]
  },
  {
   "cell_type": "markdown",
   "metadata": {},
   "source": [
    "### Plot Upperair Map"
   ]
  },
  {
   "cell_type": "code",
   "execution_count": null,
   "metadata": {},
   "outputs": [],
   "source": [
    "# Set a format specifier for the geoptential height\n",
    "# This formatter takes a value 9300 -> 930\n",
    "# Good for 500-hPa and 300-hPa Observations\n",
    "height_format = lambda v: format(v, '.0f')[:-1]\n",
    "\n",
    "# Set a format specifier for the geoptential height\n",
    "# This formatter takes a value 1576 -> 576\n",
    "# Good for 700-hPa, 850-hPa, and 925-hPa Observations\n",
    "# height_format = lambda v: format(v, '.0f')[1:]\n",
    "\n",
    "# Plot desired data\n",
    "obs = declarative.PlotObs()\n",
    "obs.data = df\n",
    "obs.time = date\n",
    "obs.level = 500 * units.hPa\n",
    "obs.fields = ['temperature', 'dewpoint_depression', 'height']\n",
    "obs.locations = ['NW', 'SW', 'NE']\n",
    "obs.formats = [None, None, height_format]\n",
    "obs.vector_field = ['u_wind', 'v_wind']\n",
    "\n",
    "# Panel for plot with Map features\n",
    "panel = declarative.MapPanel()\n",
    "panel.layout = (1, 1, 1)\n",
    "panel.projection = 'lcc'\n",
    "panel.area = [-124, -72, 24, 50]\n",
    "panel.layers = ['states', 'coastline']\n",
    "panel.left_title = (f'{obs.level.m}-hPa Observations')\n",
    "panel.right_title = (f'Valid: {date:%Y-%m-%d %H00} UTC')\n",
    "panel.plots = [obs]\n",
    "\n",
    "# Bringing it all together\n",
    "pc = declarative.PanelContainer()\n",
    "pc.size = (15, 12)\n",
    "pc.panels = [panel]\n",
    "\n",
    "#pc.save(f'{obs.level.m}hPa_observations_{date:%Y%m%d%H}.png', dpi=150, bbox_inches='tight')\n",
    "pc.show()"
   ]
  },
  {
   "cell_type": "code",
   "execution_count": null,
   "metadata": {},
   "outputs": [],
   "source": []
  }
 ],
 "metadata": {
  "kernelspec": {
   "display_name": "Python 3 (ipykernel)",
   "language": "python",
   "name": "python3"
  },
  "language_info": {
   "codemirror_mode": {
    "name": "ipython",
    "version": 3
   },
   "file_extension": ".py",
   "mimetype": "text/x-python",
   "name": "python",
   "nbconvert_exporter": "python",
   "pygments_lexer": "ipython3",
   "version": "3.10.5"
  }
 },
 "nbformat": 4,
 "nbformat_minor": 4
}
