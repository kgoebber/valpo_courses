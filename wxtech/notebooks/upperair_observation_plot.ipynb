{
 "cells": [
  {
   "cell_type": "markdown",
   "metadata": {},
   "source": [
    "# Upperair Observation Plotting\n",
    "\n",
    "This notebook demonstrates reading surface data and plotting it using MetPy's declarative syntax.\n",
    "\n",
    "To make a plot of surface observations requires three elements\n",
    "* `PlotObs()` to specify the observations to be plotted\n",
    "* `MapPanel()` to specify the characteristics of the map to plot the observations on\n",
    "* `PanelContainer()` to collect one or more panels.\n",
    "\n",
    "So we are using the same method to plot upperair observations that we used to plot surface observations: `PlotObs()`. If you need a refresher on how to set up the parameters for `PlotObs`, please refer to detailed description [here](../../appendix/metpy_declarative_plotobs.md).\n",
    "\n",
    "One of the main differences will be that we’ll need a different data source."
   ]
  },
  {
   "cell_type": "markdown",
   "metadata": {},
   "source": [
    "## Import Modules\n",
    "\n",
    "Here we import two new pieces to help us read and process upperair observation data. A new function to help get us latitude and longitude points for each upperair observation station. This helper function comes from the I/O module in metpy and is named `add_station_lat_lon`. We'll also use a new library, <a href=\"https://unidata.github.io/siphon/latest/\" target=\"_blank\">Siphon</a>, to be able to access and read remote upperair observation data."
   ]
  },
  {
   "cell_type": "code",
   "execution_count": null,
   "metadata": {},
   "outputs": [],
   "source": [
    "from datetime import datetime\n",
    "\n",
    "from metpy.io import add_station_lat_lon\n",
    "from metpy.plots import declarative\n",
    "from metpy.units import units\n",
    "from siphon.simplewebservice.iastate import IAStateUpperAir"
   ]
  },
  {
   "cell_type": "markdown",
   "metadata": {},
   "source": [
    "## Read Data\n",
    "\n",
    "There is an easy way to access upperair data from Iowa State that has data from 1974 to yesterday that is easily accessible in a Python framework. This requires a different Python module called Siphon (also developed by Unidata). With the use of functionality from Siphon, all we need to provide is the date and time (in UTC) for the observations we wish to obtain. So we can use our favoriate `datetime` module to specifically specify the year, month, day, and hour of our observations.\n",
    "\n",
    ":::{note}\n",
    "For upperair observations we *at most* have them only twice in a given day, at 00 UTC and 12 UTC. So you'll only want to put in an hour of `0` or `12` when accessing upperair observations.\n",
    ":::"
   ]
  },
  {
   "cell_type": "code",
   "execution_count": null,
   "metadata": {},
   "outputs": [],
   "source": [
    "# Set date for desired UPA data\n",
    "date = datetime(2021, 12, 31, 0)\n",
    "\n",
    "# Request data using Siphon request for data from Iowa State Archive\n",
    "df = IAStateUpperAir.request_all_data(date)"
   ]
  },
  {
   "cell_type": "markdown",
   "metadata": {},
   "source": [
    "Now we need to process our data just a little bit. First we use our helper function to add station latitude and longitude values to our DataFrame, then we take out the station called 'KVER' because there is not an upperair station at that location (it is misidentified within the dataset)."
   ]
  },
  {
   "cell_type": "code",
   "execution_count": null,
   "metadata": {},
   "outputs": [],
   "source": [
    "# Add lat/long data and drop stations for which we don't have lat/lons\n",
    "df = add_station_lat_lon(df, 'station').dropna(subset=['latitude', 'longitude'])\n",
    "\n",
    "# Eliminate the station KVER\n",
    "df = df[df.station != 'KVER']"
   ]
  },
  {
   "cell_type": "code",
   "execution_count": null,
   "metadata": {},
   "outputs": [],
   "source": [
    "# Print the list of variables available from the dataset.\n",
    "print(list(df.columns))"
   ]
  },
  {
   "cell_type": "markdown",
   "metadata": {},
   "source": [
    ":::{note}\n",
    "Assumed Upperair Observation Units:\n",
    "`{'pressure': 'hPa',\n",
    " 'height': 'meter',\n",
    " 'temperature': 'degC',\n",
    " 'dewpoint': 'degC',\n",
    " 'direction': 'degrees',\n",
    " 'speed': 'knot',\n",
    " 'u_wind': 'knot',\n",
    " 'v_wind': 'knot',\n",
    " 'station': None,\n",
    " 'time': None}`\n",
    " :::"
   ]
  },
  {
   "cell_type": "markdown",
   "metadata": {},
   "source": [
    "### Calculate Dewpoint Depression\n",
    "\n",
    "Dewpoint depression (DD) is a quantity that needs to be calculated from the temperature and dewpoint at each observation point. The calculation is simple,\n",
    "\n",
    "DD = Temperature - Dewpoint\n",
    "\n",
    "and then we just need to save the difference to a new variable name and store within our DataFrame."
   ]
  },
  {
   "cell_type": "code",
   "execution_count": null,
   "metadata": {},
   "outputs": [],
   "source": [
    "df['dewpoint_depression'] = df['temperature'] - df['dewpoint']"
   ]
  },
  {
   "cell_type": "markdown",
   "metadata": {},
   "source": [
    "## Plot Upperair Map\n",
    "\n",
    "Now that we have our data, we are ready to go about plotting it on a map.\n",
    "\n",
    "Here we demonstrate our use of the Lambert Conic Conformal projection that has been incorporated into the declarative syntax, `'lcc'`. Additionally, we'll use a `lambda` to format the heights into the appropriate three-digit format and set an appropriate extent in the for the map we are desiring to plot."
   ]
  },
  {
   "cell_type": "markdown",
   "metadata": {},
   "source": [
    "### Formatting Heights\n",
    "As you learned earlier in this packet, upperair geopotential height observations are plotted in a particular format that changes depending on what level is being plotted. To plot the height value in the appropriate format you’ll need to specify a format. Here are the code snippets for each common level:\n",
    "\n",
    "925, 850, or 700 hPa: `hght_format = lambda v: format(v, '03.0f')[1:]`\n",
    "\n",
    "500 or 300 hPa: `hght_format = lambda v: format(v, '03.0f')[:-1]`\n",
    "\n",
    "250 hPa and above: `hght_format = lambda v: format(v, '03.0f')[1:-1]`\n",
    "\n",
    ":::{note}\n",
    "You'll need to choose the appropriate `height_format` variable depending on which level you are plotting. Two examples are given in this notebook.\n",
    ":::"
   ]
  },
  {
   "cell_type": "markdown",
   "metadata": {},
   "source": [
    "### Filtering Observations\n",
    "\n",
    "The `reduce_points` parameter is used to thin the data out, so that you can read the observations that are plotted without interference from other observations. Setting filter to a positive value will reduce the number of overlapping observations, with higher numbers produce less chance of an overlap to occur. By default, the attribute is set to zero, which will cause no filtering of observations.\n",
    "\n",
    ":::{note}\n",
    "For an upperair map, since there are so few observations, `reduce_points` is typically set to zero.\n",
    ":::\n",
    "\n",
    "### Setting Titles\n",
    "\n",
    "Setting some sort of title is a very important to creating a good, self-describing plot. By setting the title you specify to others what and who plotted this map. Any of the three options can be set with a string (or formatted string). A generic title will be generated if this attribute is not set. The three options allow you to place titles in up to three different locations (center, left, and right). Below contains a demonstration of using a combination of `right_title` and `left_title` to make a more readable set of titles for the map.\n",
    "\n",
    "### The Payoff Plot\n"
   ]
  },
  {
   "cell_type": "code",
   "execution_count": null,
   "metadata": {},
   "outputs": [],
   "source": [
    "# Set a format specifier for the geoptential height\n",
    "# This formatter takes a value 9300 -> 930\n",
    "# Good for 500-hPa and 300-hPa Observations\n",
    "height_format = lambda v: format(v, '.0f')[:-1]\n",
    "\n",
    "# Set a format specifier for the geoptential height\n",
    "# This formatter takes a value 1576 -> 576\n",
    "# Good for 700-hPa, 850-hPa, and 925-hPa Observations\n",
    "# height_format = lambda v: format(v, '.0f')[1:]\n",
    "\n",
    "# Plot desired data\n",
    "obs = declarative.PlotObs()\n",
    "obs.data = df\n",
    "obs.time = date\n",
    "obs.level = 500 * units.hPa\n",
    "obs.fields = ['temperature', 'dewpoint_depression', 'height']\n",
    "obs.locations = ['NW', 'SW', 'NE']\n",
    "obs.formats = [None, None, height_format]\n",
    "obs.vector_field = ['u_wind', 'v_wind']\n",
    "\n",
    "# Panel for plot with Map features\n",
    "panel = declarative.MapPanel()\n",
    "panel.layout = (1, 1, 1)\n",
    "panel.projection = 'lcc'\n",
    "panel.area = [-124, -72, 24, 50]\n",
    "panel.layers = ['states', 'coastline']\n",
    "panel.left_title = f'{obs.level.m}-hPa Observations'\n",
    "panel.right_title = f'Valid: {date:%Y-%m-%d %H00} UTC'\n",
    "panel.plots = [obs]\n",
    "\n",
    "# Bringing it all together\n",
    "pc = declarative.PanelContainer()\n",
    "pc.size = (15, 12)\n",
    "pc.panels = [panel]\n",
    "\n",
    "#pc.save(f'{obs.level.m}hPa_observations_{date:%Y%m%d%H}.png', dpi=150, bbox_inches='tight')\n",
    "pc.show()"
   ]
  },
  {
   "cell_type": "code",
   "execution_count": null,
   "metadata": {},
   "outputs": [],
   "source": []
  }
 ],
 "metadata": {
  "kernelspec": {
   "display_name": "Python 3 (ipykernel)",
   "language": "python",
   "name": "python3"
  },
  "language_info": {
   "codemirror_mode": {
    "name": "ipython",
    "version": 3
   },
   "file_extension": ".py",
   "mimetype": "text/x-python",
   "name": "python",
   "nbconvert_exporter": "python",
   "pygments_lexer": "ipython3",
   "version": "3.11.5"
  }
 },
 "nbformat": 4,
 "nbformat_minor": 4
}
