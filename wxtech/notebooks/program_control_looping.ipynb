{
 "cells": [
  {
   "cell_type": "markdown",
   "metadata": {},
   "source": [
    "# Looping for Repetitive Tasks\n",
    "\n",
    "There are many times when you'll want to do a repetative task (e.g., perform a calculation 100 or 1000 times) and using programming is a way to make that task more effecient. Iteration is a key component to any programming language due to the need to process data in a time effecient manner and Python offeres two different methods for looping (iterating) over a series of values: `for` loops and `while` loops."
   ]
  },
  {
   "cell_type": "markdown",
   "metadata": {},
   "source": [
    "## For Loops\n",
    "\n",
    "In Python, the `for` loop is the most extensible method for iterating over an object.\n",
    "You are not relegated to just looping over a series of integer values,\n",
    "but can loop over a mixed list or other iterable object (e.g., dictionary keys).\n",
    "The construct of a `for` loop is:\n",
    "\n",
    "```python\n",
    "for var in iter_obj:\n",
    "    [code block]\n",
    "```\n",
    "\n",
    "Again, the syntatical structure of Python using the color at the end of the\n",
    "`for` loop line and everything that you want done with each cycle of the loop\n",
    "needs to be indented. \n",
    "\n",
    "Common Iterable Objects:\n",
    "* `range()` function\n",
    "* List\n",
    "* Tuple\n",
    "* Dictionary Keys\n",
    "\n",
    ":::{note}\n",
    "A common way to create a quick for loop over a set of sequential values is to\n",
    "set up a range of values using the built-in range function. One note is that the\n",
    "range function is inclusive of the first value and exclusive of the second.\n",
    "\n",
    "```python\n",
    "range(0, 10) -> [0, 1, 2, 3, 4 ,5 , 6, 7, 8, 9]\n",
    "```\n",
    ":::\n",
    "\n",
    "So how does the loop work?\n",
    "\n",
    "For each element in the iterable object (e.g., `[0, 1, 2, 3, 4]`) the variable `var`,\n",
    "which is defined as the looping variable, assumes the values in sequence. So initially,\n",
    "`var` will have the value of `0`, it holds that while working through all of the code\n",
    "within the loop, then once you hit the end of the loop you go back to the beginning and\n",
    "`var` takes on the next value. This continues until all values in the iterable object\n",
    "are exhausted.\n",
    "\n",
    "Let's explore an example to see how it works...\n",
    "\n",
    "```python\n",
    "for var in [0, 1, 2, 3, 4]:\n",
    "    print(var)\n",
    "    if var < 1:\n",
    "        print(f'{var} is less than 1')\n",
    "    else:\n",
    "        print(f'{var} is greater than or equal to 1')\n",
    "print('Out of loop')\n",
    "```\n",
    "Output:\n",
    "```\n",
    "0\n",
    "0 is less than 1\n",
    "1\n",
    "1 is greater than or equal to 1\n",
    "2\n",
    "2 is greater than or equal to 1\n",
    "3\n",
    "3 is greater than or equal to 1\n",
    "4\n",
    "4 is greater than or equal to 1\n",
    "Out of loop\n",
    "```"
   ]
  },
  {
   "cell_type": "code",
   "execution_count": null,
   "metadata": {},
   "outputs": [],
   "source": [
    "from datetime import datetime, timedelta"
   ]
  },
  {
   "cell_type": "code",
   "execution_count": null,
   "metadata": {},
   "outputs": [],
   "source": [
    "# For loop example 1\n",
    "\n",
    "for i in range(0, 10):\n",
    "    print(f'The value of i is {i}')\n",
    "\n",
    "print()\n",
    "print('I am now out of the loop!')"
   ]
  },
  {
   "cell_type": "code",
   "execution_count": null,
   "metadata": {},
   "outputs": [],
   "source": [
    "# For loop example 2\n",
    "\n",
    "for time in [1215, 1245, 1315, 1345, 1415]:\n",
    "    print(time)"
   ]
  },
  {
   "cell_type": "code",
   "execution_count": null,
   "metadata": {},
   "outputs": [],
   "source": [
    "# For loop example 3\n",
    "\n",
    "for var in ['Kevin', 1859, 2.5, 'Keaton']:\n",
    "    print(f'The varible is {var}')"
   ]
  },
  {
   "cell_type": "markdown",
   "metadata": {},
   "source": [
    "## While Loops\n",
    "\n",
    "There may be times you want to continue looping until a condition is met. Here we\n",
    "have a simple example that starts a loop at zero and goes to 11. Basically we are\n",
    "combining looping with testing the truth value of a statement. As long as the statement\n",
    "remains `True`, the loop will continue going. This is why it is important to ensure\n",
    "that the looping variable changes in some manner that can be eventually evaluated\n",
    "as `False`, so that you don't create an infinite loop! "
   ]
  },
  {
   "cell_type": "code",
   "execution_count": null,
   "metadata": {},
   "outputs": [],
   "source": [
    "# While loop example\n",
    "\n",
    "# Set the starting loop value\n",
    "inc = 0\n",
    "\n",
    "# Check the value compaired to max value\n",
    "while inc < 12:\n",
    "    # Print current increment value\n",
    "    print(inc)\n",
    "    # Update value\n",
    "    inc += 1\n"
   ]
  },
  {
   "cell_type": "code",
   "execution_count": null,
   "metadata": {},
   "outputs": [],
   "source": []
  }
 ],
 "metadata": {
  "kernelspec": {
   "display_name": "Python 3 (ipykernel)",
   "language": "python",
   "name": "python3"
  },
  "language_info": {
   "codemirror_mode": {
    "name": "ipython",
    "version": 3
   },
   "file_extension": ".py",
   "mimetype": "text/x-python",
   "name": "python",
   "nbconvert_exporter": "python",
   "pygments_lexer": "ipython3",
   "version": "3.10.5"
  }
 },
 "nbformat": 4,
 "nbformat_minor": 4
}
