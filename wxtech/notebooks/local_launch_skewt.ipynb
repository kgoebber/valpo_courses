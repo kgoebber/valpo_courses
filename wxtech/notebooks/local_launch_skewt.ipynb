{
 "cells": [
  {
   "cell_type": "markdown",
   "metadata": {},
   "source": [
    "# Plotting a Skew-T from Local Launch Data\n",
    "\n",
    "This notebook demonstrates reading in one of our launch file datasets and plots the sounding using MetPy."
   ]
  },
  {
   "cell_type": "code",
   "execution_count": null,
   "metadata": {},
   "outputs": [],
   "source": [
    "from datetime import datetime\n",
    "\n",
    "import matplotlib.pyplot as plt\n",
    "import metpy.calc as mpcalc\n",
    "from metpy.plots import SkewT\n",
    "from metpy.units import units, pandas_dataframe_to_unit_arrays\n",
    "import numpy as np\n",
    "from siphon.simplewebservice.wyoming import WyomingUpperAir"
   ]
  },
  {
   "cell_type": "markdown",
   "metadata": {},
   "source": [
    "### Reading Local Data\n",
    "\n",
    "Our radiosonde launch system provides data in a number of formats. At the top of this notebook there is a function that is set up to ready the SHARPPY ready file format that is available on our sounding page at http://bergeron.valpo.edu/soundings/. To use this data, select the appropriate sounding from the drop down menus near the top of the page, then click on the \"SharpPy Ready File\", this will open a new window, copy and past the full web address into the read function below."
   ]
  },
  {
   "cell_type": "code",
   "execution_count": null,
   "metadata": {},
   "outputs": [],
   "source": [
    "def read_SHARPPY(filename):\n",
    "    import pandas as pd\n",
    "\n",
    "    df = pd.read_csv(filename, skiprows=6, skipfooter=1,\n",
    "                     names=['pressure','height','temperature','dewpoint','direction','speed'],\n",
    "                     engine='python')\n",
    "    df['u_wind'], df['v_wind'] = mpcalc.wind_components(df['speed'].values * units.knots,\n",
    "                                                        df['direction'].values * units.degrees)\n",
    "\n",
    "    df.units = dict(pressure='hPa', height='meter', temperature='degC', dewpoint='degC',\n",
    "                    direction='degrees', speed='knot', u_wind='knot', v_wind='knot')\n",
    "    return df"
   ]
  },
  {
   "cell_type": "markdown",
   "metadata": {},
   "source": [
    "### Process Data"
   ]
  },
  {
   "cell_type": "code",
   "execution_count": null,
   "metadata": {},
   "outputs": [],
   "source": [
    "# Set station and date/time for plotting purposes\n",
    "station = 'VUM'\n",
    "date = datetime(2019, 3, 5, 10, 57)\n",
    "launch_number = 1\n",
    "\n",
    "# Get back similar dataframe to what you get from the Wyoming archive\n",
    "df2 = read_SHARPPY('http://bergeron.valpo.edu/soundings/launches/'\n",
    "                   f'{date:%Y%m%d}_{launch_number:02d}/{date:%Y%m%d}_{launch_number:02d}_SHARPPY.txt')\n",
    "\n",
    "# Get united arrays from our dataframe\n",
    "data2 = pandas_dataframe_to_unit_arrays(df2)\n",
    "\n",
    "# Isolate united arrays for calculation and plotting\n",
    "p = data2['pressure']\n",
    "T = data2['temperature']\n",
    "Td = data2['dewpoint']\n",
    "u = data2['u_wind']\n",
    "v = data2['v_wind']"
   ]
  },
  {
   "cell_type": "markdown",
   "metadata": {},
   "source": [
    "### Make the skew-T Plot"
   ]
  },
  {
   "cell_type": "code",
   "execution_count": null,
   "metadata": {},
   "outputs": [],
   "source": [
    "fig = plt.figure(figsize=(10, 10))\n",
    "\n",
    "skew = SkewT(fig, rotation=45)\n",
    "\n",
    "# Plot the data using normal plotting functions, in this case using\n",
    "# log scaling in Y, as dictated by the typical meteorological plot\n",
    "skew.plot(p, T, 'r')\n",
    "skew.plot(p, Td, 'g')\n",
    "\n",
    "# Create a slice variable to help reduce the total\n",
    "# number of wind barbs\n",
    "wind_slice = slice(None, None, 15)\n",
    "skew.plot_barbs(p[wind_slice], u[wind_slice], v[wind_slice], y_clip_radius=0.03)\n",
    "\n",
    "# Set sensible axis limits\n",
    "skew.ax.set_ylim(1000, 100)\n",
    "skew.ax.set_xlim(-40, 30)\n",
    "\n",
    "# Add the relevant special lines\n",
    "skew.plot_dry_adiabats(t0=np.arange(233,555,10)*units.K)\n",
    "skew.plot_moist_adiabats(color='tab:green')\n",
    "skew.plot_mixing_lines(color='tab:blue')\n",
    "\n",
    "# Plot some titles\n",
    "plt.title('Station: K{}'.format(station), loc='left')\n",
    "plt.title('Skew-T/Log-p', loc='center')\n",
    "plt.title('{} UTC'.format(date), loc='right')\n",
    "\n",
    "# Show the plot\n",
    "#plt.savefig('KVUM_20190305_1057.png', bbox_inches='tight', dpi=150)\n",
    "plt.show()"
   ]
  },
  {
   "cell_type": "code",
   "execution_count": null,
   "metadata": {},
   "outputs": [],
   "source": []
  }
 ],
 "metadata": {
  "kernelspec": {
   "display_name": "Python 3",
   "language": "python",
   "name": "python3"
  },
  "language_info": {
   "codemirror_mode": {
    "name": "ipython",
    "version": 3
   },
   "file_extension": ".py",
   "mimetype": "text/x-python",
   "name": "python",
   "nbconvert_exporter": "python",
   "pygments_lexer": "ipython3",
   "version": "3.8.6"
  }
 },
 "nbformat": 4,
 "nbformat_minor": 4
}
