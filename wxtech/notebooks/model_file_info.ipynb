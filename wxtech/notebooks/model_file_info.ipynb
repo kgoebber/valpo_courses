{
 "cells": [
  {
   "cell_type": "markdown",
   "metadata": {},
   "source": [
    "# Model Output Contents\n",
    "\n",
    "This notebook demonstrates how to gain access to a gridded file and inspect the contents of the file (e.g., what variables are contained within the file)."
   ]
  },
  {
   "cell_type": "code",
   "execution_count": null,
   "metadata": {},
   "outputs": [],
   "source": [
    "from datetime import datetime\n",
    "\n",
    "from metpy.plots import declarative\n",
    "import xarray as xr\n",
    "\n",
    "\n",
    "date = datetime(2023, 2, 8, 0)\n",
    "\n",
    "ds = xr.open_dataset('https://thredds.ucar.edu/thredds/dodsC/grib'\n",
    "                     f'/NCEP/GFS/Global_onedeg/GFS_Global_onedeg_'\n",
    "                     f'{date:%Y%m%d}_{date:%H%M}.grib2')"
   ]
  },
  {
   "cell_type": "markdown",
   "metadata": {},
   "source": [
    "### List File Contents\n",
    "\n",
    "We can quickly and easily list the variable names that are contained within our model output files. This listing will contain both dimension variables (e.g., time, latitude, and longitude) as well as the variables that we might wish to plot (e.g., Temperature_isobaric). Non-dimension variables are capitalized if accessing data through a THREDDS server (a very common way for accessing these data)."
   ]
  },
  {
   "cell_type": "code",
   "execution_count": null,
   "metadata": {},
   "outputs": [],
   "source": [
    "list(ds.variables)"
   ]
  },
  {
   "cell_type": "markdown",
   "metadata": {},
   "source": [
    "### Access Variable Specifics\n",
    "\n",
    "There are two methods to access our variables:\n",
    "\n",
    "Dot Method:\n",
    "```python\n",
    "ds.Geopotential_height_isobaric\n",
    "```\n",
    "\n",
    "or\n",
    "\n",
    "Dictionary Method:\n",
    "```python\n",
    "ds['Geopotential_height_isobaric']\n",
    "```\n",
    "\n",
    "Both methods are equivalent and as long as there are no spaces or dashed in the name of a variable, either method will work. If there is a space or a dash, then only the dictionary method will work.\n",
    "\n",
    "For example, the wind components (e.g., u-component_of_wind_isobaric) must use the dictionary method because of the dash in the name of the variable."
   ]
  },
  {
   "cell_type": "code",
   "execution_count": null,
   "metadata": {},
   "outputs": [],
   "source": [
    "ds.Geopotential_height_isobaric"
   ]
  },
  {
   "cell_type": "code",
   "execution_count": null,
   "metadata": {},
   "outputs": [],
   "source": [
    "ds.lat"
   ]
  },
  {
   "cell_type": "code",
   "execution_count": null,
   "metadata": {},
   "outputs": [],
   "source": []
  }
 ],
 "metadata": {
  "kernelspec": {
   "display_name": "Python 3 (ipykernel)",
   "language": "python",
   "name": "python3"
  },
  "language_info": {
   "codemirror_mode": {
    "name": "ipython",
    "version": 3
   },
   "file_extension": ".py",
   "mimetype": "text/x-python",
   "name": "python",
   "nbconvert_exporter": "python",
   "pygments_lexer": "ipython3",
   "version": "3.10.5"
  }
 },
 "nbformat": 4,
 "nbformat_minor": 4
}
