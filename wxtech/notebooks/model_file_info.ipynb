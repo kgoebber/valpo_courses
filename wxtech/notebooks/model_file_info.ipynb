{
 "cells": [
  {
   "cell_type": "markdown",
   "metadata": {},
   "source": [
    "# Model Output Contents\n",
    "\n",
    "On surface maps we plotted temperature, dewpoint temperature, mean\n",
    "sea-level pressure, wind speed and direction, and current weather\n",
    "symbols, which are all typical values recorded by Automated Surface\n",
    "Observing Stations (ASOS) and are standardized. For model output, there\n",
    "are not a common set of data or naming convention used for variables between\n",
    "different types of data (e.g., GFS, NARR, NCEP-NCAR Reanalysis). There\n",
    "are small differences between the different models and for that reason\n",
    "we need a method to find out what variables are available in contained\n",
    "within each file. This is particularly easy in the\n",
    "Jupyter Notebook environment if we use the `xarray` module.\n",
    "\n",
    "Here we'll demonstrate how to gain access to a gridded file and inspect\n",
    "the contents of the file (e.g., what variables are contained within the file),\n",
    "all of which can be completed in a standard Jupyter Notebook."
   ]
  },
  {
   "cell_type": "code",
   "execution_count": null,
   "metadata": {},
   "outputs": [],
   "source": [
    "from datetime import datetime, time, timedelta\n",
    "\n",
    "from metpy.plots import declarative\n",
    "import xarray as xr\n",
    "\n",
    "yesterday = datetime.utcnow() - timedelta(days=1)\n",
    "date = datetime.combine(yesterday, time(0))\n",
    "\n",
    "# Access the 1 Degree GFS from the Unidata THREDDS server\n",
    "ds = xr.open_dataset('https://thredds.ucar.edu/thredds/dodsC/grib'\n",
    "                     f'/NCEP/GFS/Global_onedeg/GFS_Global_onedeg_'\n",
    "                     f'{date:%Y%m%d}_{date:%H%M}.grib2')"
   ]
  },
  {
   "cell_type": "markdown",
   "metadata": {},
   "source": [
    "## List File Contents\n",
    "\n",
    "We can quickly and easily list the variable names that are contained within our model output files. This listing will contain both dimension variables (e.g., time, latitude, and longitude) as well as the variables that we might wish to plot (e.g., Temperature_isobaric). Non-dimension variables are capitalized if accessing data through a THREDDS server (a very common way for accessing these data)."
   ]
  },
  {
   "cell_type": "code",
   "execution_count": null,
   "metadata": {
    "tags": [
     "output_scroll"
    ]
   },
   "outputs": [],
   "source": [
    "list(ds.variables)"
   ]
  },
  {
   "cell_type": "markdown",
   "metadata": {},
   "source": [
    "What did you find?<br><br><br><br>"
   ]
  },
  {
   "cell_type": "markdown",
   "metadata": {},
   "source": [
    "## Access Variable Specifics\n",
    "\n",
    "Let's look at a single variable: Geopotential_height_isobaric, which is\n",
    "the variable for heights of pressure surfaces (i.e., what we typically\n",
    "plot on maps). Type the following into a new cell and run it.\n",
    "\n",
    "There are two methods to access our variables:\n",
    "\n",
    "Dot Method:\n",
    "```python\n",
    "ds.Geopotential_height_isobaric\n",
    "```\n",
    "\n",
    "or\n",
    "\n",
    "Dictionary-like Method:\n",
    "```python\n",
    "ds['Geopotential_height_isobaric']\n",
    "```\n",
    "\n",
    "Both methods are equivalent and as long as there are no spaces or dashed in\n",
    "the name of a variable, either method will work. If there is a space or a dash,\n",
    "then only the dictionary method will work.\n",
    "\n",
    "For example, the wind components (e.g., u-component_of_wind_isobaric) must use\n",
    "the dictionary method because of the dash in the name of the variable.\n",
    "\n",
    "The output in a Jupyter Notebook will have an HTML representation that you can\n",
    "interact with. For example, click on the triangle icons to expand or minimize\n",
    "information about different aspects of the data contained within that file\n",
    "for that variable."
   ]
  },
  {
   "cell_type": "code",
   "execution_count": null,
   "metadata": {},
   "outputs": [],
   "source": [
    "# Information about the Geopotential_height_isobaric variable\n",
    "ds.Geopotential_height_isobaric"
   ]
  },
  {
   "cell_type": "markdown",
   "metadata": {},
   "source": [
    "What units of Geopotential Height?<br><br><br><br>\n",
    "\n",
    "How many available forecast hours are there?<br><br><br><br>\n",
    "\n",
    "How many vertical levels are there?<br><br><br><br>"
   ]
  },
  {
   "cell_type": "code",
   "execution_count": null,
   "metadata": {},
   "outputs": [],
   "source": [
    "# Information about the Geopotential_height_isobaric variable\n",
    "# This example uses the dictionary-like method for accessing\n",
    "# the varaible.\n",
    "ds['u-component_of_wind_isobaric']"
   ]
  },
  {
   "cell_type": "markdown",
   "metadata": {},
   "source": [
    "You will ALWAYS want to check the gridded file to know what different\n",
    "variables are called and know some of the basic information about the\n",
    "variable (e.g., how many vertical level, what units they are in, etc.).\n",
    "Use the information on this page to help you out!"
   ]
  },
  {
   "cell_type": "markdown",
   "metadata": {},
   "source": []
  },
  {
   "cell_type": "markdown",
   "metadata": {},
   "source": []
  }
 ],
 "metadata": {
  "kernelspec": {
   "display_name": "Python 3 (ipykernel)",
   "language": "python",
   "name": "python3"
  },
  "language_info": {
   "codemirror_mode": {
    "name": "ipython",
    "version": 3
   },
   "file_extension": ".py",
   "mimetype": "text/x-python",
   "name": "python",
   "nbconvert_exporter": "python",
   "pygments_lexer": "ipython3",
   "version": "3.11.3"
  }
 },
 "nbformat": 4,
 "nbformat_minor": 4
}
