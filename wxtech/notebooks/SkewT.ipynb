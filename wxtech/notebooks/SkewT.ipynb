{
 "cells": [
  {
   "cell_type": "markdown",
   "metadata": {},
   "source": [
    "# Visulalizing and Calculating Parameters on a Skew-T\n",
    "\n",
    "A powerful tool is being developed that will have the same functionality as GEMPAK, but be done in the Python programming langauage. One example of this is the ability to plot Skew-Ts using the Python module [MetPy](https://unidata.github.io/MetPy/latest/index.html). However, there is greatly functionality than that contained in GEMPAK, as you can use MetPy to calculate a whole host of variables from the data plotted on the Skew-T (e.g., CAPE, CIN, LCL, LFC, EL). This notebook is a brief introduction to how that can be done.\n",
    "\n",
    "To plot a skew-T, you need to specify the date and time (in UTC) and choose an upper-air station location. The locations of current sounding sites can be found at http://weather.rap.ucar.edu/upper"
   ]
  },
  {
   "cell_type": "markdown",
   "metadata": {},
   "source": [
    "### Import Packages"
   ]
  },
  {
   "cell_type": "code",
   "execution_count": null,
   "metadata": {},
   "outputs": [],
   "source": [
    "from datetime import datetime\n",
    "\n",
    "import matplotlib.pyplot as plt\n",
    "import metpy.calc as mpcalc\n",
    "from metpy.plots import SkewT\n",
    "from metpy.units import units, pandas_dataframe_to_unit_arrays\n",
    "import numpy as np\n",
    "from siphon.simplewebservice.wyoming import WyomingUpperAir"
   ]
  },
  {
   "cell_type": "markdown",
   "metadata": {},
   "source": [
    "### Get Data"
   ]
  },
  {
   "cell_type": "code",
   "execution_count": null,
   "metadata": {},
   "outputs": [],
   "source": [
    "# Set date that you want\n",
    "# Data goes back to the 1970's\n",
    "date = datetime(2007, 5, 4, 18)\n",
    "\n",
    "# Set station ID, there are different stations back in the day\n",
    "# Current station IDs found at http://weather.rap.ucar.edu/upper\n",
    "station = 'DDC'\n",
    "\n",
    "# Use Siphon module to grab data from remote server\n",
    "df = WyomingUpperAir.request_data(date, station)"
   ]
  },
  {
   "cell_type": "code",
   "execution_count": null,
   "metadata": {},
   "outputs": [],
   "source": [
    "# Create dictionary of unit arrays\n",
    "data = pandas_dataframe_to_unit_arrays(df)\n",
    "\n",
    "# Isolate united arrays from dictionary to individual variables\n",
    "p = data['pressure']\n",
    "T = data['temperature']\n",
    "Td = data['dewpoint']\n",
    "u = data['u_wind']\n",
    "v = data['v_wind']"
   ]
  },
  {
   "cell_type": "markdown",
   "metadata": {},
   "source": [
    "### Plot Skew-T"
   ]
  },
  {
   "cell_type": "code",
   "execution_count": null,
   "metadata": {},
   "outputs": [],
   "source": [
    "# Plot a skew-T image\n",
    "\n",
    "fig = plt.figure(figsize=(10, 10))\n",
    "\n",
    "skew = SkewT(fig, rotation=45)\n",
    "\n",
    "# Plot the data using normal plotting functions, in this case using\n",
    "# log scaling in Y, as dictated by the typical meteorological plot\n",
    "skew.plot(p, T, 'r')\n",
    "skew.plot(p, Td, 'g')\n",
    "\n",
    "# Plot wind barbs, skipping every other one\n",
    "skew.plot_barbs(p[::2], u[::2], v[::2], y_clip_radius=0.03)\n",
    "\n",
    "# Set sensible axis limits\n",
    "skew.ax.set_ylim(1000, 100)\n",
    "skew.ax.set_xlim(-40, 50)\n",
    "\n",
    "# Add the relevant special lines\n",
    "skew.plot_dry_adiabats(t0=np.arange(233,555,10)*units.K)\n",
    "skew.plot_moist_adiabats(colors='tab:green')\n",
    "skew.plot_mixing_lines(colors='tab:blue', linestyle='dotted')\n",
    "\n",
    "# Plot some titles\n",
    "plt.title(f'Station: K{station}', loc='left')\n",
    "plt.title('Skew-T/Log-p', loc='center')\n",
    "plt.title(f'{date} UTC', loc='right')\n",
    "\n",
    "# Show the plot\n",
    "#plt.savefig('skewt_image.png', bbox_inches='tight', dpi=150)\n",
    "plt.show()"
   ]
  },
  {
   "cell_type": "code",
   "execution_count": null,
   "metadata": {},
   "outputs": [],
   "source": []
  }
 ],
 "metadata": {
  "kernelspec": {
   "display_name": "Python 3 (ipykernel)",
   "language": "python",
   "name": "python3"
  },
  "language_info": {
   "codemirror_mode": {
    "name": "ipython",
    "version": 3
   },
   "file_extension": ".py",
   "mimetype": "text/x-python",
   "name": "python",
   "nbconvert_exporter": "python",
   "pygments_lexer": "ipython3",
   "version": "3.10.5"
  }
 },
 "nbformat": 4,
 "nbformat_minor": 4
}
