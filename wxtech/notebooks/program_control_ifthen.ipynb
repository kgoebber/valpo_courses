{
 "cells": [
  {
   "cell_type": "markdown",
   "metadata": {},
   "source": [
    "# If-Then Statements\n",
    "\n",
    "There will be times when we only want to do things only when certain conditions are met.\n",
    "In order to facilitate this within a programming language we need a way for the program\n",
    "to know the \"truthiness\" of a statement.\n",
    "\n",
    "If statements are used for when you want your code to be able to make a choice based on\n",
    "some condition. This will allow your code to be more flexible to create a wider variety\n",
    "of outcomes from running that same code.\n",
    "\n",
    "The manner in which these statements work is by testing a truth value of a statment.\n",
    "If the statement is true, then the code within the if statement will be executed."
   ]
  },
  {
   "cell_type": "markdown",
   "metadata": {},
   "source": [
    "## Logical Operators\n",
    "\n",
    "In order test values we need a set of operators that can help the computer determine the \"truthiness\". Here are the list of the most common logical operators used in Python.\n",
    "\n",
    "| symbol | meaning|\n",
    "| :-: | :-: |\n",
    "| < | less than |\n",
    "| <= | less than or equal |\n",
    "| > | greater than |\n",
    "| >= | greater than or equal |\n",
    "| == | equal to |\n",
    "| != | not equal to |\n",
    "| `and` | |\n",
    "| `or` | |\n",
    "| `not` | |\n",
    "| \\| | bitwise or |\n",
    "| & | bitwise and |\n",
    "\n",
    "The non-bitwise `and`, `or`, and `not` evaluate the truthiness of the statements it is comparing, whereas the `&` and `|` operators work on the byte representations of any value to assess its truthiness. More likely than not, it will be best to use the non-bitwise versions.\n",
    "\n",
    "**NOTE: zero or empty objects are `False`, all other values and non-empty objects are `True`)**\n",
    "\n",
    "Let's test out the operators..."
   ]
  },
  {
   "cell_type": "code",
   "execution_count": null,
   "metadata": {},
   "outputs": [],
   "source": [
    "# Examine truthiness of statement\n",
    "print(5 < 10)"
   ]
  },
  {
   "cell_type": "markdown",
   "metadata": {},
   "source": [
    "## If, Else If, Else Statements\n",
    "\n",
    "At a minimum you must include a single `if` call, but can then include any number of `elif` statements to check other possibilities, and then a single concluding `else` statement can be used as a catch-all for the if statement (with no need to have any `elif`s to have an `else`). Here is a full example of using `if`, `elif`, and `else` in a single if statement. Notice that at the end of each line contain a part of the if construct there is a colon (`:`), that is the important character for the Python interpreter to know it has reached the end of the logical statment and it should be evaluted to determine its truithiness. Also note that the `else` statement does not contain any logical condition as it only gets executed if each test before it results in a `False` designation.\n",
    "\n",
    "\n",
    "```python\n",
    "a = 5\n",
    "b = 10\n",
    "\n",
    "if a < b:\n",
    "    print(a)\n",
    "elif a == b:\n",
    "    print('a and b are equal')\n",
    "else:\n",
    "    print(b)\n",
    "```\n",
    "Output:\n",
    "```\n",
    "5\n",
    "```\n",
    "\n",
    "**NOTE:** Another key element of Python is that is is an indented language, so everything within the `if` statment and any `elif` or `else` statments must be indented the same amount. The standard indent is four spaces long."
   ]
  },
  {
   "cell_type": "markdown",
   "metadata": {},
   "source": [
    "### if statment construct - stand alone\n",
    "\n",
    "Here is the construct of a simple if statment where you are looking to test\n",
    "a single conditional element (e.g., 5 < 10) to then choose to take a specific\n",
    "action (whatever is in the code block indented with the if statement) if it\n",
    "is `True`.\n",
    "```python\n",
    "if condition:\n",
    "    [code block]\n",
    "```"
   ]
  },
  {
   "cell_type": "code",
   "execution_count": null,
   "metadata": {},
   "outputs": [],
   "source": [
    "# If-Then Statement Example 1\n",
    "from datetime import datetime, timedelta\n",
    "\n",
    "current_date = datetime.utcnow()\n",
    "print(f'Original Time: {current_date}')\n",
    "\n",
    "minute = current_date.minute\n",
    "\n",
    "if minute < 15:\n",
    "    current_date -= timedelta(hours=1)\n",
    "print(f'Time after If-Statement: {current_date}')"
   ]
  },
  {
   "cell_type": "markdown",
   "metadata": {},
   "source": [
    "### if-else construct\n",
    "If you want to test one conditional, but if it is `False`, always do something else,\n",
    "then the `if`-`else` construct is for you! Note that in the `else` there is no\n",
    "conditional statement as it is a catch-all and will always be executed if the\n",
    "initial conditional is `False`.\n",
    "\n",
    "```python\n",
    "if condition:\n",
    "    [code block]\n",
    "else:\n",
    "    [default code block]\n",
    "```"
   ]
  },
  {
   "cell_type": "code",
   "execution_count": null,
   "metadata": {},
   "outputs": [],
   "source": []
  },
  {
   "cell_type": "markdown",
   "metadata": {},
   "source": [
    "### if-elif-else construct\n",
    "The full complement of an if statement can contain one `if`, any number of `elif`s,\n",
    "and an `else` statment. Again, once a `True` condition is found it will run the\n",
    "code block associated with that condition and then move on in the program after\n",
    "the if statment.\n",
    "\n",
    "```python\n",
    "if condition1:\n",
    "    [code block one]\n",
    "elif condition2:\n",
    "    [code block two]\n",
    "elif condition3:\n",
    "    [code block three]\n",
    "else:\n",
    "    [default code block]\n",
    "```"
   ]
  },
  {
   "cell_type": "code",
   "execution_count": null,
   "metadata": {},
   "outputs": [],
   "source": [
    "# if-elif-else statement\n",
    "\n",
    "grade = 75\n",
    "\n",
    "if grade >= 85:\n",
    "    print('You got a great score')\n",
    "elif grade >=70:\n",
    "    print('You got a good score')\n",
    "else:\n",
    "    print(\"Let's work together to improve your score on a future assignment.\")"
   ]
  },
  {
   "cell_type": "code",
   "execution_count": null,
   "metadata": {},
   "outputs": [],
   "source": []
  }
 ],
 "metadata": {
  "kernelspec": {
   "display_name": "Python 3 (ipykernel)",
   "language": "python",
   "name": "python3"
  },
  "language_info": {
   "codemirror_mode": {
    "name": "ipython",
    "version": 3
   },
   "file_extension": ".py",
   "mimetype": "text/x-python",
   "name": "python",
   "nbconvert_exporter": "python",
   "pygments_lexer": "ipython3",
   "version": "3.10.5"
  }
 },
 "nbformat": 4,
 "nbformat_minor": 4
}
