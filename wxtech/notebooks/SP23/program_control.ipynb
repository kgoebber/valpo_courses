{
 "cells": [
  {
   "cell_type": "code",
   "execution_count": null,
   "metadata": {},
   "outputs": [],
   "source": [
    "from datetime import datetime, timedelta"
   ]
  },
  {
   "cell_type": "markdown",
   "metadata": {},
   "source": [
    "## If-Then Statements\n",
    "\n",
    "If statements are used for when you want your code to be able to make a choice based on some condition. This will allow your code to be more flexible to create a wider variety of outcomes from running that same code.\n",
    "\n",
    "The manner in which these statements work is by testing a truth value of a statment. If the statement is true, then the code within the if statement will be executed."
   ]
  },
  {
   "cell_type": "code",
   "execution_count": null,
   "metadata": {},
   "outputs": [],
   "source": [
    "# Examine truthiness of statement\n",
    "print(5 < 10)"
   ]
  },
  {
   "cell_type": "code",
   "execution_count": null,
   "metadata": {},
   "outputs": [],
   "source": [
    "# If-Then Statement Example 1\n",
    "\n",
    "current_date = datetime.utcnow()\n",
    "print(f'Original Time: {current_date}')\n",
    "\n",
    "minute = current_date.minute\n",
    "\n",
    "if minute < 15:\n",
    "    current_date -= timedelta(hours=1)\n",
    "print(f'Time after If-Statement: {current_date}')"
   ]
  },
  {
   "cell_type": "code",
   "execution_count": null,
   "metadata": {},
   "outputs": [],
   "source": [
    "# if-elif-else statement\n",
    "\n",
    "grade = 75\n",
    "\n",
    "if grade >= 85:\n",
    "    print('You got a great score')\n",
    "elif grade >=70:\n",
    "    print('You got a good score')\n",
    "else:\n",
    "    print(\"Let's work together to improve your score on a future assignment.\")"
   ]
  },
  {
   "cell_type": "markdown",
   "metadata": {},
   "source": [
    "## Looping (For Loops)\n",
    "\n",
    "Using a for loop allows your code to perform a repeated task with one (or more) variables changing with each iteration.\n",
    "\n",
    "The for loop is extensible to be able to loop over any set of values or mix of values. A common way to do so is to set up a range of values using the built-in range function. One note is that the range function is inclusive of the first value and exclusive of the second.\n",
    "\n",
    "```python\n",
    "range(0, 10) -> [0, 1, 2, 3, 4 ,5 , 6, 7, 8, 9]\n",
    "```"
   ]
  },
  {
   "cell_type": "code",
   "execution_count": null,
   "metadata": {},
   "outputs": [],
   "source": [
    "# For loop example 1\n",
    "\n",
    "for i in range(0, 10):\n",
    "    print(f'The value of i is {i}')\n",
    "\n",
    "print()\n",
    "print('I am now out of the loop!')"
   ]
  },
  {
   "cell_type": "code",
   "execution_count": null,
   "metadata": {},
   "outputs": [],
   "source": [
    "# For loop example 2\n",
    "\n",
    "for time in [1215, 1245, 1315, 1345, 1415]:\n",
    "    print(time)"
   ]
  },
  {
   "cell_type": "code",
   "execution_count": null,
   "metadata": {},
   "outputs": [],
   "source": [
    "# For loop example 3\n",
    "\n",
    "for var in ['Kevin', 1859, 2.5, 'Keaton']:\n",
    "    print(f'The varible is {var}')"
   ]
  },
  {
   "cell_type": "markdown",
   "metadata": {},
   "source": [
    "## Looping (While Loops)\n",
    "\n",
    "There may be times you want to continue looping until a condition is met. Here we have a simple example that starts a loop at zero and goes to 11. Basically we are combining looping with testing the truth value of a statement. As long as the statement remains true, the loop will continue going. This is why it is important to ensure that the looping variable changes in some manner that can be eventually evaluated as False, so that you don't create an infinite loop! "
   ]
  },
  {
   "cell_type": "code",
   "execution_count": null,
   "metadata": {},
   "outputs": [],
   "source": [
    "# While loop example\n",
    "\n",
    "# Set the starting loop value\n",
    "inc = 0\n",
    "\n",
    "# Check the value compaired to max value\n",
    "while inc < 12:\n",
    "    # Print current increment value\n",
    "    print(inc)\n",
    "    # Update value\n",
    "    inc += 1\n"
   ]
  },
  {
   "cell_type": "code",
   "execution_count": null,
   "metadata": {},
   "outputs": [],
   "source": []
  }
 ],
 "metadata": {
  "kernelspec": {
   "display_name": "Python 3 (ipykernel)",
   "language": "python",
   "name": "python3"
  },
  "language_info": {
   "codemirror_mode": {
    "name": "ipython",
    "version": 3
   },
   "file_extension": ".py",
   "mimetype": "text/x-python",
   "name": "python",
   "nbconvert_exporter": "python",
   "pygments_lexer": "ipython3",
   "version": "3.10.5"
  }
 },
 "nbformat": 4,
 "nbformat_minor": 4
}
