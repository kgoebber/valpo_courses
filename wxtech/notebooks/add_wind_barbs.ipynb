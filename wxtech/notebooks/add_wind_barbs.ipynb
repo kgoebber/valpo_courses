{
 "cells": [
  {
   "cell_type": "markdown",
   "metadata": {},
   "source": [
    "# Contour Plotting with Wind Barbs\n",
    "\n",
    "This notebook demonstrates plotting gridded data wind components as\n",
    "wind barbs along with contours. We'll continue to use 500-hPa as an\n",
    "example level for plotting purposes."
   ]
  },
  {
   "cell_type": "markdown",
   "metadata": {},
   "source": [
    "## Import Packages\n",
    "\n",
    "Here we bring in the needed Python modules to be able to plot contours using the computer. Note that there are fewer needed for this particular plotting scenario."
   ]
  },
  {
   "cell_type": "code",
   "execution_count": null,
   "metadata": {},
   "outputs": [],
   "source": [
    "from datetime import datetime, timedelta, time\n",
    "\n",
    "from metpy.plots import declarative\n",
    "from metpy.units import units\n",
    "import xarray as xr"
   ]
  },
  {
   "cell_type": "markdown",
   "metadata": {},
   "source": [
    "## Get Data\n",
    "\n",
    "Here we are using current data to demonstrate contour plotting with wind barbs. If you have a different data source you would like to use, simply change out the call to remote data in the `open_dataset` function to be appropriate for the local or remote data you would like to access. Future chapters will demonstrate different data sources that can be commonly used. Here we'll use the GFS data from the Unidata THREDDS server."
   ]
  },
  {
   "cell_type": "code",
   "execution_count": null,
   "metadata": {},
   "outputs": [],
   "source": [
    "# Set the date/time of the model run\n",
    "# The following code will get you yesterday at 12 UTC\n",
    "yesterday = datetime.utcnow() - timedelta(days=1)\n",
    "model_run_date = datetime.combine(yesterday, time(12))\n",
    "\n",
    "# Remote access to the dataset from the UCAR site\n",
    "ds = xr.open_dataset('https://thredds.ucar.edu/thredds/dodsC/grib'\n",
    "                     f'/NCEP/GFS/Global_onedeg/GFS_Global_onedeg_'\n",
    "                     f'{model_run_date:%Y%m%d}_{model_run_date:%H%M}.grib2')\n",
    "\n",
    "# Subset data to be just over the U.S. for plotting purposes\n",
    "ds = ds.sel(lat=slice(70,10), lon=slice(360-140, 360-60))"
   ]
  },
  {
   "cell_type": "markdown",
   "metadata": {},
   "source": [
    "### Plot Data\n",
    "\n",
    "Here we demonstrate the use of `BarbPlot()`, in addition to still plotting contours of geopotential height, for plotting a vector from its components. For more details about all of the settings for plotting gridded data wind barbs checkout the {doc}`attribute descriptions <../../appendix/metpy_declarative_barbplot>` or head to the <a href=\"https://unidata.github.io/MetPy/latest/api/generated/metpy.plots.BarbPlot.html\" target=\"_blank\">MetPy `BarbPlot` Documentation</a>"
   ]
  },
  {
   "cell_type": "code",
   "execution_count": null,
   "metadata": {},
   "outputs": [],
   "source": [
    "# Set the plot time with forecast hours\n",
    "plot_time = model_run_date + timedelta(hours=0)\n",
    "\n",
    "# Set attributes for plotting contours\n",
    "cntr = declarative.ContourPlot()\n",
    "cntr.data = ds\n",
    "cntr.field = 'Geopotential_height_isobaric'\n",
    "cntr.level = 500 * units.hPa\n",
    "cntr.time = plot_time\n",
    "cntr.contours = range(0, 10000, 60)\n",
    "cntr.clabels = True\n",
    "\n",
    "# Add wind barbds\n",
    "barbs = declarative.BarbPlot()\n",
    "barbs.data = ds\n",
    "barbs.time = plot_time\n",
    "barbs.field = ['u-component_of_wind_isobaric',\n",
    "               'v-component_of_wind_isobaric']\n",
    "barbs.level = 500 * units.hPa\n",
    "barbs.skip = (3, 3)\n",
    "barbs.plot_units = 'knot'\n",
    "\n",
    "# Set the attributes for the map\n",
    "# and put the contours on the map\n",
    "panel = declarative.MapPanel()\n",
    "panel.area = [-125, -74, 22, 52]\n",
    "panel.projection = 'lcc'\n",
    "panel.layers = ['states', 'coastline', 'borders']\n",
    "panel.title = f'500-hPa Geopotential Heights at {plot_time}'\n",
    "panel.plots = [cntr, barbs]\n",
    "\n",
    "# Set the attributes for the panel\n",
    "# and put the panel in the figure\n",
    "pc = declarative.PanelContainer()\n",
    "pc.size = (15, 15)\n",
    "pc.panels = [panel]\n",
    "\n",
    "# Show the figure\n",
    "pc.show()"
   ]
  },
  {
   "cell_type": "code",
   "execution_count": null,
   "metadata": {},
   "outputs": [],
   "source": []
  }
 ],
 "metadata": {
  "kernelspec": {
   "display_name": "Python 3 (ipykernel)",
   "language": "python",
   "name": "python3"
  },
  "language_info": {
   "codemirror_mode": {
    "name": "ipython",
    "version": 3
   },
   "file_extension": ".py",
   "mimetype": "text/x-python",
   "name": "python",
   "nbconvert_exporter": "python",
   "pygments_lexer": "ipython3",
   "version": "3.11.5"
  }
 },
 "nbformat": 4,
 "nbformat_minor": 4
}
