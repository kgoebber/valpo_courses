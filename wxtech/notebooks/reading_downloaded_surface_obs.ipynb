{
 "cells": [
  {
   "cell_type": "markdown",
   "metadata": {},
   "source": [
    "# Using Archived Surface Data from Iowa State\n",
    "\n",
    "This notebook covers reading in a surface data file from the Iowa State archive that is obtained by running the Python script available in `valpo_courses/wxtech` called `download_archived_surface_data.py`"
   ]
  },
  {
   "cell_type": "code",
   "execution_count": null,
   "metadata": {},
   "outputs": [],
   "source": [
    "from datetime import datetime, timedelta\n",
    "\n",
    "import metpy.calc as mpcalc\n",
    "from metpy.plots import declarative, wx_code_to_numeric\n",
    "from metpy.units import units\n",
    "import pandas as pd"
   ]
  },
  {
   "cell_type": "code",
   "execution_count": null,
   "metadata": {},
   "outputs": [],
   "source": [
    "date = datetime(2015, 3, 15, 12)\n",
    "\n",
    "# Read in data downloaded from download_archived_surface_data.py script\n",
    "# Copy script from valpo_courses/wxtech to your work directory and run\n",
    "# If you are in your working directory from a terminal prompt, type\n",
    "#     cp ../valpo_courses/wxtech/download_archived_surface_data.py .\n",
    "\n",
    "# You'll need to modify the path of the file below, this is set up to work\n",
    "# with example data in the data directory, which has been downloaded using\n",
    "# the script mentioned above.\n",
    "df = pd.read_csv(f'../data/surface_data_{date:%Y%m%d}.csv', header=0,\n",
    "                 parse_dates=['valid'], na_values=['M'],\n",
    "                 low_memory=False)"
   ]
  },
  {
   "cell_type": "code",
   "execution_count": null,
   "metadata": {},
   "outputs": [],
   "source": [
    "list(df.keys())"
   ]
  },
  {
   "cell_type": "code",
   "execution_count": null,
   "metadata": {},
   "outputs": [],
   "source": [
    "mslp_formatter = lambda v: format(v*10, '.0f')[-3:]\n",
    "\n",
    "# Set some subset parameters to reduce number of\n",
    "# observations used for plotting\n",
    "\n",
    "# subset_lat via a northern and southern latitude\n",
    "subset_lat = ((df.lat < 50) & (df.lat > 20))\n",
    "# subset_lon via a eastern and western longitude\n",
    "subset_lon = ((df.lon < -70) & (df.lon > -100))\n",
    "\n",
    "plot_time = date\n",
    "\n",
    "# Plot desired data\n",
    "obs = declarative.PlotObs()\n",
    "# Use subsets to reduce number of points that can be used to be plotted\n",
    "obs.data = df[subset_lat & subset_lon]\n",
    "obs.time = plot_time\n",
    "# Note you may have to reduce the time_window if there\n",
    "# are too many observations \n",
    "obs.time_window = timedelta(minutes=15)\n",
    "obs.level = None\n",
    "obs.fields = ['cloud_cover', 'tmpf', 'dwpf',\n",
    "              'air_pressure_at_sea_level', 'current_wx1_symbol']\n",
    "obs.locations = ['C', 'NW', 'SW', 'NE', 'W']\n",
    "obs.formats = ['sky_cover', None, None, mslp_formatter, 'current_weather']\n",
    "obs.reduce_points = .75\n",
    "obs.vector_field = ['eastward_wind', 'northward_wind']\n",
    "\n",
    "# Panel for plot with Map features\n",
    "panel = declarative.MapPanel()\n",
    "panel.layout = (1, 1, 1)\n",
    "panel.projection = 'lcc'\n",
    "panel.area = 'in'\n",
    "panel.layers = ['states']\n",
    "panel.plots = [obs]\n",
    "\n",
    "# Bringing it all together\n",
    "pc = declarative.PanelContainer()\n",
    "pc.size = (10, 10)\n",
    "pc.panels = [panel]\n",
    "\n",
    "pc.show()"
   ]
  },
  {
   "cell_type": "code",
   "execution_count": null,
   "metadata": {},
   "outputs": [],
   "source": []
  }
 ],
 "metadata": {
  "kernelspec": {
   "display_name": "Python 3 (ipykernel)",
   "language": "python",
   "name": "python3"
  },
  "language_info": {
   "codemirror_mode": {
    "name": "ipython",
    "version": 3
   },
   "file_extension": ".py",
   "mimetype": "text/x-python",
   "name": "python",
   "nbconvert_exporter": "python",
   "pygments_lexer": "ipython3",
   "version": "3.8.12"
  }
 },
 "nbformat": 4,
 "nbformat_minor": 4
}
