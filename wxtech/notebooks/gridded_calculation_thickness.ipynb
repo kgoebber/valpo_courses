{
 "cells": [
  {
   "cell_type": "markdown",
   "metadata": {},
   "source": [
    "# Thickness Calculation\n",
    "\n",
    "This notebook demonstrates a simple calculation for 1000-500-hPa thickness by adding it to the DataArray."
   ]
  },
  {
   "cell_type": "markdown",
   "metadata": {},
   "source": [
    "## Import Packages"
   ]
  },
  {
   "cell_type": "code",
   "execution_count": null,
   "metadata": {},
   "outputs": [],
   "source": [
    "from datetime import datetime, timedelta\n",
    "\n",
    "from metpy.plots import declarative\n",
    "from metpy.units import units\n",
    "import numpy as np\n",
    "import xarray as xr"
   ]
  },
  {
   "cell_type": "markdown",
   "metadata": {},
   "source": [
    "## Get Data"
   ]
  },
  {
   "cell_type": "code",
   "execution_count": null,
   "metadata": {},
   "outputs": [],
   "source": [
    "# Set the date/time of the model run\n",
    "date = datetime(2017, 2, 24, 12)\n",
    "\n",
    "# Remote access to the dataset from the NCEI Archive\n",
    "ds = xr.open_dataset('https://www.ncei.noaa.gov/thredds/dodsC/model-gfs-g3-anl-files-old'\n",
    "                     f'/{date:%Y%m}/{date:%Y%m%d}/gfsanl_3_{date:%Y%m%d_%H}00_000.grb')\n",
    "\n",
    "# Subset data to be just over the U.S. for plotting purposes\n",
    "ds = ds.sel(lat=slice(70,10), lon=slice(360-140, 360-60))"
   ]
  },
  {
   "cell_type": "markdown",
   "metadata": {},
   "source": [
    "## A Simple Calculation\n",
    "\n",
    "1000-500-hPa Thickness = (Heights at 500 hPa) - (Heights at 1000 hPa)\n",
    "\n",
    "Easy to do subtraction with a data array and store it directly back into the dataset (ds). In order to do this well, we'll need to quantify the variable (e.g., attach units to the variable we're pulling from our Dataset. Then we'll do the calculation and dequantify it so we are back in a more native xarray DataArray format.\n",
    "                   "
   ]
  },
  {
   "cell_type": "code",
   "execution_count": null,
   "metadata": {},
   "outputs": [],
   "source": [
    "hght_500 = ds.Geopotential_height_isobaric.metpy.sel(time=date,\n",
    "    vertical=500 * units.hPa).metpy.quantify()\n",
    "hght_1000 = ds.Geopotential_height_isobaric.metpy.sel(time=date,\n",
    "    vertical=1000 * units.hPa).metpy.quantify()\n",
    "ds['thickness'] = (hght_500 - hght_1000).metpy.dequantify()"
   ]
  },
  {
   "cell_type": "markdown",
   "metadata": {},
   "source": [
    "## Plot Data\n",
    "\n",
    "```{Note}\n",
    "Since we subset by time, as well as by vertical level, when isolating the 500 and 1000-hPa geopotential heights above, we no longer need to subst by those dimensions when plotting. So we'll need to set the *level* and *time* attributes to `None`.\n",
    "```"
   ]
  },
  {
   "cell_type": "code",
   "execution_count": null,
   "metadata": {},
   "outputs": [],
   "source": [
    "# Set attributes for plotting contours\n",
    "cntr = declarative.ContourPlot()\n",
    "cntr.data = ds\n",
    "cntr.field = 'thickness'\n",
    "cntr.level = None\n",
    "cntr.time = None\n",
    "cntr.contours = list(range(0, 10000, 60))\n",
    "cntr.linecolor = 'red'\n",
    "cntr.linestyle = 'dashed'\n",
    "cntr.clabels = True\n",
    "\n",
    "cntr2 = declarative.ContourPlot()\n",
    "cntr2.data = ds\n",
    "cntr2.field = 'Geopotential_height_isobaric'\n",
    "cntr2.level = 500 * units.hPa\n",
    "cntr2.time = date\n",
    "cntr2.contours = range(0, 10000, 60)\n",
    "cntr2.linecolor = 'black'\n",
    "cntr2.linestyle = 'solid'\n",
    "cntr2.clabels = True\n",
    "\n",
    "# Set the attributes for the map\n",
    "# and put the contours on the map\n",
    "panel = declarative.MapPanel()\n",
    "panel.area = [-125, -74, 20, 55]\n",
    "panel.projection = 'lcc'\n",
    "panel.layers = ['states', 'coastline', 'borders']\n",
    "panel.left_title = f'1000-500-hPa Thickness at {date}'\n",
    "panel.right_title = f'Valid: {date:%Y-%d-%m %H:%M} UTC'\n",
    "panel.plots = [cntr, cntr2]\n",
    "\n",
    "# Set the attributes for the panel\n",
    "# and put the panel in the figure\n",
    "pc = declarative.PanelContainer()\n",
    "pc.size = (15, 15)\n",
    "pc.panels = [panel]\n",
    "\n",
    "# Show the figure\n",
    "pc.show()"
   ]
  },
  {
   "cell_type": "markdown",
   "metadata": {},
   "source": [
    "```{note}\n",
    "With this differencing and subsetting by time, we'll no longer\n",
    "have a time dimension in our variable, so we'll need to set the time\n",
    "attribute to None.\n",
    "```"
   ]
  },
  {
   "cell_type": "markdown",
   "metadata": {},
   "source": []
  }
 ],
 "metadata": {
  "kernelspec": {
   "display_name": "Python 3 (ipykernel)",
   "language": "python",
   "name": "python3"
  },
  "language_info": {
   "codemirror_mode": {
    "name": "ipython",
    "version": 3
   },
   "file_extension": ".py",
   "mimetype": "text/x-python",
   "name": "python",
   "nbconvert_exporter": "python",
   "pygments_lexer": "ipython3",
   "version": "3.11.5"
  }
 },
 "nbformat": 4,
 "nbformat_minor": 4
}
