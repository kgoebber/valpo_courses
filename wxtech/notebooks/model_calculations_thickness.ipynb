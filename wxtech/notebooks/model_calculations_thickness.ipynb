{
 "cells": [
  {
   "cell_type": "markdown",
   "metadata": {},
   "source": [
    "# MetPy Calculations\n",
    "\n",
    "This notebook demonstrates a simple calculation for 1000-500-hPa thickness by adding it to the DataArray."
   ]
  },
  {
   "cell_type": "markdown",
   "metadata": {},
   "source": [
    "### Import Packages"
   ]
  },
  {
   "cell_type": "code",
   "execution_count": null,
   "metadata": {},
   "outputs": [],
   "source": [
    "from datetime import datetime, timedelta\n",
    "\n",
    "import metpy.calc as mpcalc\n",
    "from metpy.plots import declarative\n",
    "from metpy.units import units\n",
    "import numpy as np\n",
    "import xarray as xr"
   ]
  },
  {
   "cell_type": "markdown",
   "metadata": {},
   "source": [
    "### Get Data"
   ]
  },
  {
   "cell_type": "code",
   "execution_count": null,
   "metadata": {},
   "outputs": [],
   "source": [
    "# Set the date/time of the model run\n",
    "date = datetime(2021, 1, 15, 0)\n",
    "\n",
    "# Remote access to the dataset from the UCAR site\n",
    "ds = xr.open_dataset('https://thredds.ucar.edu/thredds/dodsC/grib'\n",
    "                     f'/NCEP/GFS/Global_onedeg/GFS_Global_onedeg_{date:%Y%m%d}_{date:%H%M}.grib2')\n",
    "\n",
    "# Set the plot time with forecast hours\n",
    "plot_time = date + timedelta(hours=0)\n",
    "\n",
    "# Subset data to be just over the U.S. for plotting purposes and for the plot_time\n",
    "ds = ds.metpy.sel(lat=slice(70,10), lon=slice(360-150, 360-55))"
   ]
  },
  {
   "cell_type": "markdown",
   "metadata": {},
   "source": [
    "### A Simple Calculation\n",
    "\n",
    "1000-500-hPa Thickness = (Heights at 500 hPa) - (Heights at 1000 hPa)\n",
    "\n",
    "Easy to do subtraction with a data array and store it directly back into the dataset (ds). In order to do this well, we'll need to quantify the variable.\n",
    "                   "
   ]
  },
  {
   "cell_type": "code",
   "execution_count": null,
   "metadata": {},
   "outputs": [],
   "source": [
    "ds['thickness'] = (ds.Geopotential_height_isobaric.metpy.sel(time=plot_time, vertical=500 * units.hPa).metpy.quantify()\n",
    "                          - ds.Geopotential_height_isobaric.metpy.sel(time=plot_time, vertical=1000 * units.hPa).metpy.quantify())"
   ]
  },
  {
   "cell_type": "markdown",
   "metadata": {},
   "source": [
    "### Plot Data"
   ]
  },
  {
   "cell_type": "code",
   "execution_count": null,
   "metadata": {},
   "outputs": [],
   "source": [
    "# Set attributes for plotting contours\n",
    "cntr = declarative.ContourPlot()\n",
    "cntr.data = ds\n",
    "cntr.field = 'thickness'\n",
    "cntr.level = None\n",
    "cntr.time = None\n",
    "cntr.contours = list(range(0, 10000, 60))\n",
    "cntr.linecolor = 'red'\n",
    "cntr.linestyle = 'dashed'\n",
    "cntr.clabels = True\n",
    "\n",
    "cntr2 = declarative.ContourPlot()\n",
    "cntr2.data = ds\n",
    "cntr2.field = 'Geopotential_height_isobaric'\n",
    "cntr2.level = 500 * units.hPa\n",
    "cntr2.time = plot_time\n",
    "cntr2.contours = list(range(0, 10000, 60))\n",
    "cntr2.linecolor = 'black'\n",
    "cntr2.linestyle = 'solid'\n",
    "cntr2.clabels = True\n",
    "\n",
    "# Set the attributes for the map\n",
    "# and put the contours on the map\n",
    "panel = declarative.MapPanel()\n",
    "panel.area = [-125, -74, 20, 55]\n",
    "panel.projection = 'lcc'\n",
    "panel.layers = ['states', 'coastline', 'borders']\n",
    "panel.title = f'1000-500-hPa Thickness at {plot_time} by KHG'\n",
    "panel.plots = [cntr, cntr2]\n",
    "\n",
    "# Set the attributes for the panel\n",
    "# and put the panel in the figure\n",
    "pc = declarative.PanelContainer()\n",
    "pc.size = (15, 15)\n",
    "pc.panels = [panel]\n",
    "\n",
    "# Show the figure\n",
    "pc.show()"
   ]
  },
  {
   "cell_type": "markdown",
   "metadata": {},
   "source": [
    "### Scaling Data\n",
    "\n",
    "Since vorticity values are on the order of 10^-5 we want to scale them to fit common contouring values of whole numbers."
   ]
  },
  {
   "cell_type": "code",
   "execution_count": null,
   "metadata": {},
   "outputs": [],
   "source": [
    "# Set the plot time with forecast hours\n",
    "plot_time = date + timedelta(hours=0)\n",
    "\n",
    "# Set attributes for plotting contours\n",
    "cfill = declarative.FilledContourPlot()\n",
    "cfill.data = ds\n",
    "cfill.field = 'Absolute_vorticity_isobaric'\n",
    "cfill.level = 500 * units.hPa\n",
    "cfill.time = plot_time\n",
    "cfill.contours = list(range(-40, 41, 2))\n",
    "cfill.colormap = 'PuOr_r'\n",
    "cfill.colorbar = 'horizontal'\n",
    "cfill.scale = 1e5\n",
    "\n",
    "cntr2 = declarative.ContourPlot()\n",
    "cntr2.data = ds\n",
    "cntr2.field = 'Geopotential_height_isobaric'\n",
    "cntr2.level = 500 * units.hPa\n",
    "cntr2.time = plot_time\n",
    "cntr2.contours = list(range(0, 10000, 60))\n",
    "cntr2.linecolor = 'black'\n",
    "cntr2.linestyle = 'solid'\n",
    "cntr2.clabels = True\n",
    "\n",
    "# Set the attributes for the map\n",
    "# and put the contours on the map\n",
    "panel = declarative.MapPanel()\n",
    "panel.area = [-125, -74, 20, 55]\n",
    "panel.projection = 'lcc'\n",
    "panel.layers = ['states', 'coastline', 'borders']\n",
    "panel.title = f'{cfill.level.m}-hPa Abs. Vorticity at {plot_time} by KHG'\n",
    "panel.plots = [cfill, cntr2]\n",
    "\n",
    "# Set the attributes for the panel\n",
    "# and put the panel in the figure\n",
    "pc = declarative.PanelContainer()\n",
    "pc.size = (15, 15)\n",
    "pc.panels = [panel]\n",
    "\n",
    "# Show the figure\n",
    "pc.show()"
   ]
  },
  {
   "cell_type": "code",
   "execution_count": null,
   "metadata": {},
   "outputs": [],
   "source": []
  }
 ],
 "metadata": {
  "kernelspec": {
   "display_name": "Python 3",
   "language": "python",
   "name": "python3"
  },
  "language_info": {
   "codemirror_mode": {
    "name": "ipython",
    "version": 3
   },
   "file_extension": ".py",
   "mimetype": "text/x-python",
   "name": "python",
   "nbconvert_exporter": "python",
   "pygments_lexer": "ipython3",
   "version": "3.8.6"
  }
 },
 "nbformat": 4,
 "nbformat_minor": 4
}
