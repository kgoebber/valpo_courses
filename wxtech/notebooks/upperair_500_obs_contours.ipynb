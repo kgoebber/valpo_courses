{
 "cells": [
  {
   "cell_type": "markdown",
   "metadata": {},
   "source": [
    "# Upperair Obs with Contours\n",
    "\n",
    "Using the declarative syntax to plot upperair observations and overlay contours."
   ]
  },
  {
   "cell_type": "markdown",
   "metadata": {},
   "source": [
    "### Import Packages"
   ]
  },
  {
   "cell_type": "code",
   "execution_count": null,
   "metadata": {},
   "outputs": [],
   "source": [
    "from datetime import datetime, timedelta\n",
    "\n",
    "import cartopy.crs as ccrs\n",
    "from metpy.io import add_station_lat_lon\n",
    "from metpy.plots import declarative\n",
    "from metpy.units import units\n",
    "import numpy as np\n",
    "from siphon.simplewebservice.iastate import IAStateUpperAir\n",
    "import xarray as xr"
   ]
  },
  {
   "cell_type": "markdown",
   "metadata": {},
   "source": [
    "### Get Observations Data"
   ]
  },
  {
   "cell_type": "code",
   "execution_count": null,
   "metadata": {},
   "outputs": [],
   "source": [
    "# Set the date for data and plot\n",
    "date = datetime(2020, 12, 21, 12)\n",
    "\n",
    "# Request data using Siphon request for data from Iowa State Archive\n",
    "data = IAStateUpperAir.request_all_data(date)\n",
    "\n",
    "# Add lat/lon information to dataframe, drop missing station lat/lons\n",
    "data = add_station_lat_lon(data, data.station.name).dropna(subset=['latitude', 'longitude'])"
   ]
  },
  {
   "cell_type": "markdown",
   "metadata": {},
   "source": [
    "### Get Gridded Data"
   ]
  },
  {
   "cell_type": "code",
   "execution_count": null,
   "metadata": {},
   "outputs": [],
   "source": [
    "# Get GFS data for contouring\n",
    "ds = xr.open_dataset('https://thredds.ucar.edu/thredds/dodsC/grib/NCEP/GFS/'\n",
    "                     f'Global_onedeg_ana/GFS_Global_onedeg_ana_{date:%Y%m%d_%H%M}.grib2')\n",
    "\n",
    "# Subset data to be just over the CONUS\n",
    "ds = ds.sel(lat=slice(80, 10), lon=slice(360-140, 360-40))"
   ]
  },
  {
   "cell_type": "markdown",
   "metadata": {},
   "source": [
    "### Plot Obs and Contours"
   ]
  },
  {
   "cell_type": "code",
   "execution_count": null,
   "metadata": {},
   "outputs": [],
   "source": [
    "# Add point observations\n",
    "obs = declarative.PlotObs()\n",
    "obs.data = data\n",
    "obs.level = 500 * units.hPa\n",
    "obs.time = date\n",
    "obs.fields = ['temperature', 'dewpoint', 'height']\n",
    "obs.locations = ['NW', 'SW', 'ENE']\n",
    "obs.vector_field = ['u_wind', 'v_wind']\n",
    "obs.vector_field_length = 8\n",
    "\n",
    "# Add contours of geopotential height\n",
    "cntr = declarative.ContourPlot()\n",
    "cntr.data = ds\n",
    "cntr.level = obs.level\n",
    "cntr.field = 'Geopotential_height_isobaric'\n",
    "cntr.clabels = True\n",
    "cntr.contours = list(range(0, 10000, 60))\n",
    "\n",
    "# Set map panel features\n",
    "panel = declarative.MapPanel()\n",
    "panel.projection = 'lcc'\n",
    "panel.area = [-125, -65, 22, 55]\n",
    "panel.layers = ['ocean', 'lakes', 'land', 'states', 'borders', 'coastline']\n",
    "panel.title = f'500-hPa Observations and Geopotential Heights Valid at {date}'\n",
    "panel.plots = [obs, cntr]\n",
    "\n",
    "# Add map panel to figure\n",
    "pc = declarative.PanelContainer()\n",
    "pc.size = (20, 20)\n",
    "pc.panels = [panel]\n",
    "\n",
    "pc.show()"
   ]
  },
  {
   "cell_type": "code",
   "execution_count": null,
   "metadata": {},
   "outputs": [],
   "source": []
  }
 ],
 "metadata": {
  "kernelspec": {
   "display_name": "Python 3",
   "language": "python",
   "name": "python3"
  },
  "language_info": {
   "codemirror_mode": {
    "name": "ipython",
    "version": 3
   },
   "file_extension": ".py",
   "mimetype": "text/x-python",
   "name": "python",
   "nbconvert_exporter": "python",
   "pygments_lexer": "ipython3",
   "version": "3.8.6"
  }
 },
 "nbformat": 4,
 "nbformat_minor": 4
}
