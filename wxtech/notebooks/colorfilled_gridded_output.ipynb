{
 "cells": [
  {
   "cell_type": "markdown",
   "metadata": {},
   "source": [
    "# Color-filled Gridded Output\n",
    "\n",
    "This notebook creates an example of overlaying color-filled contours and regular contours over the CONUS."
   ]
  },
  {
   "cell_type": "markdown",
   "metadata": {},
   "source": [
    "### Import Needed Packages"
   ]
  },
  {
   "cell_type": "code",
   "execution_count": null,
   "metadata": {},
   "outputs": [],
   "source": [
    "from datetime import datetime, timedelta\n",
    "import warnings\n",
    "warnings.filterwarnings('ignore', category=FutureWarning)\n",
    "\n",
    "from metpy.plots import declarative\n",
    "from metpy.units import units\n",
    "import xarray as xr"
   ]
  },
  {
   "cell_type": "markdown",
   "metadata": {},
   "source": [
    "### Get Data"
   ]
  },
  {
   "cell_type": "code",
   "execution_count": null,
   "metadata": {},
   "outputs": [],
   "source": [
    "# Set the date/time of the model run\n",
    "date = datetime(2022, 2, 10, 0)\n",
    "\n",
    "# Remote access to the dataset from the UCAR site\n",
    "ds = xr.open_dataset('https://thredds.ucar.edu/thredds/dodsC/grib'\n",
    "                     f'/NCEP/GFS/Global_onedeg/GFS_Global_onedeg_{date:%Y%m%d}_{date:%H%M}.grib2')\n",
    "\n",
    "# Subset data to be just over the U.S. for plotting purposes\n",
    "ds = ds.sel(lat=slice(70,10), lon=slice(360-150, 360-55)).metpy.parse_cf()"
   ]
  },
  {
   "cell_type": "markdown",
   "metadata": {},
   "source": [
    "### Plot Data"
   ]
  },
  {
   "cell_type": "code",
   "execution_count": null,
   "metadata": {},
   "outputs": [],
   "source": [
    "# Set the plot time with forecast hours\n",
    "plot_time = date + timedelta(hours=0)\n",
    "\n",
    "# Set attributes for plotting contours\n",
    "cntr = declarative.ContourPlot()\n",
    "cntr.data = ds\n",
    "cntr.field = 'Pressure_reduced_to_MSL_msl'\n",
    "cntr.level = None\n",
    "cntr.time = plot_time\n",
    "cntr.contours = list(range(0, 2000, 4))\n",
    "cntr.clabels = True\n",
    "cntr.plot_units = 'hPa'\n",
    "\n",
    "# Set attributes for plotting filled contours\n",
    "cfill = declarative.FilledContourPlot()\n",
    "cfill.data = ds\n",
    "cfill.field = 'Temperature_height_above_ground'\n",
    "cfill.level = 2 * units.m\n",
    "cfill.time = plot_time\n",
    "cfill.contours = list(range(-38, 103, 2))\n",
    "cfill.colormap = 'coolwarm'\n",
    "cfill.colorbar = 'horizontal'\n",
    "cfill.plot_units = 'degF'\n",
    "\n",
    "# Set attributes for plotting wind barbs\n",
    "barbs = declarative.BarbPlot()\n",
    "barbs.data = ds\n",
    "barbs.time = plot_time\n",
    "barbs.field = ['u-component_of_wind_height_above_ground',\n",
    "               'v-component_of_wind_height_above_ground']\n",
    "barbs.level = 10 * units.m\n",
    "barbs.skip = (2, 2)\n",
    "barbs.plot_units = 'knot'\n",
    "\n",
    "# Set the attributes for the map\n",
    "# and put the contours on the map\n",
    "panel = declarative.MapPanel()\n",
    "panel.area = [-125, -74, 20, 55]\n",
    "panel.projection = 'lcc'\n",
    "panel.layers = ['states', 'coastline', 'borders']\n",
    "panel.title = f'MSLP (hPa) and TMPF at {plot_time} by KHG'\n",
    "panel.plots = [cntr, cfill, barbs]\n",
    "\n",
    "# Set the attributes for the panel\n",
    "# and put the panel in the figure\n",
    "pc = declarative.PanelContainer()\n",
    "pc.size = (15, 15)\n",
    "pc.panels = [panel]\n",
    "\n",
    "# Show the figure\n",
    "pc.show()"
   ]
  },
  {
   "cell_type": "code",
   "execution_count": null,
   "metadata": {},
   "outputs": [],
   "source": []
  }
 ],
 "metadata": {
  "kernelspec": {
   "display_name": "Python 3 (ipykernel)",
   "language": "python",
   "name": "python3"
  },
  "language_info": {
   "codemirror_mode": {
    "name": "ipython",
    "version": 3
   },
   "file_extension": ".py",
   "mimetype": "text/x-python",
   "name": "python",
   "nbconvert_exporter": "python",
   "pygments_lexer": "ipython3",
   "version": "3.8.12"
  }
 },
 "nbformat": 4,
 "nbformat_minor": 4
}
