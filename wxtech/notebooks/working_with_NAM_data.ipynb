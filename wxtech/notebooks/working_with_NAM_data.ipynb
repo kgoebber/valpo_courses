{
 "cells": [
  {
   "cell_type": "markdown",
   "id": "679e62fd-f6c0-4281-94e5-28002fd67d8c",
   "metadata": {},
   "source": [
    "# Working with NAM Data\n",
    "\n",
    "This notebook demonstrates plotting gridded NAM data, which has the complication\n",
    "of having winds that are in grid relative coordinates and NOT earth relative.\n",
    "This will entail the need to use some MetPy functionality to easy the plotting\n",
    "of NAM winds."
   ]
  },
  {
   "cell_type": "code",
   "execution_count": null,
   "id": "f4618cf2-539d-4e7a-80ff-462ad21334aa",
   "metadata": {},
   "outputs": [],
   "source": [
    "from datetime import datetime, timedelta, time\n",
    "\n",
    "from metpy.plots import declarative\n",
    "from metpy.units import units\n",
    "import xarray as xr"
   ]
  },
  {
   "cell_type": "markdown",
   "id": "0478555c-9b96-4217-98eb-92a669ee06e9",
   "metadata": {},
   "source": [
    "## Get Data\n",
    "\n",
    "Here we are using current data to demonstrate contour plotting with wind barbs. If you have a different data source you would like to use, simply change out the call to remote data in the `open_dataset` function to be appropriate for the local or remote data you would like to access. Future chapters will demonstrate different data sources that can be commonly used. Here we'll use the NAM data from the Unidata THREDDS server."
   ]
  },
  {
   "cell_type": "code",
   "execution_count": null,
   "id": "92c64e39-4c72-4da7-9d96-b36917078751",
   "metadata": {},
   "outputs": [],
   "source": [
    "# Set the date/time of the model run\n",
    "# The following code will get you yesterday at 12 UTC\n",
    "yesterday = datetime.utcnow() - timedelta(days=1)\n",
    "model_run_date = datetime.combine(yesterday, time(12))\n",
    "\n",
    "# Remote access to the dataset from the UCAR site\n",
    "ds = xr.open_dataset('https://thredds.ucar.edu/thredds/dodsC/grib'\n",
    "                     '/NCEP/NAM/CONUS_12km/NAM_CONUS_12km_'\n",
    "                     f'{model_run_date:%Y%m%d}_{model_run_date:%H%M}.grib2')"
   ]
  },
  {
   "cell_type": "markdown",
   "id": "e0bfdaaa-9fe6-475b-bf8b-4914122fb434",
   "metadata": {},
   "source": [
    "## Initial Plot\n",
    "\n",
    "Here let's plot the data that we get from the NAM. Pay particular attention to the winds barbs relationship to the geopotential height contours."
   ]
  },
  {
   "cell_type": "code",
   "execution_count": null,
   "id": "09ec84e6-a7ab-46fc-96d8-6eda24d0ca18",
   "metadata": {},
   "outputs": [],
   "source": [
    "# Set the plot time with forecast hours\n",
    "plot_time = model_run_date + timedelta(hours=0)\n",
    "\n",
    "# Set attributes for plotting contours\n",
    "cntr = declarative.ContourPlot()\n",
    "cntr.data = ds\n",
    "cntr.field = 'Geopotential_height_isobaric'\n",
    "cntr.level = 300 * units.hPa\n",
    "cntr.time = plot_time\n",
    "cntr.contours = range(0, 10000, 120)\n",
    "cntr.clabels = True\n",
    "\n",
    "# Add wind barbds\n",
    "barbs = declarative.BarbPlot()\n",
    "barbs.data = ds\n",
    "barbs.time = plot_time\n",
    "barbs.field = ['u-component_of_wind_isobaric',\n",
    "               'v-component_of_wind_isobaric']\n",
    "barbs.level = 300 * units.hPa\n",
    "barbs.skip = (25, 25)\n",
    "barbs.plot_units = 'knot'\n",
    "\n",
    "# Set the attributes for the map\n",
    "# and put the contours on the map\n",
    "panel = declarative.MapPanel()\n",
    "panel.area = 'awips'\n",
    "panel.layers = ['states', 'coastline', 'borders']\n",
    "panel.title = f'300-hPa Geopotential Heights at {plot_time}'\n",
    "panel.plots = [cntr, barbs]\n",
    "\n",
    "# Set the attributes for the panel\n",
    "# and put the panel in the figure\n",
    "pc = declarative.PanelContainer()\n",
    "pc.size = (12, 12)\n",
    "pc.panels = [panel]\n",
    "\n",
    "# Show the figure\n",
    "pc.show()"
   ]
  },
  {
   "cell_type": "markdown",
   "id": "ec6fbc6b-e333-4d21-91e3-9d628c7157e8",
   "metadata": {},
   "source": [
    "### Sanity Check\n",
    "\n",
    "Here we are plotting 300-hPa geopotential heights and winds. At that level, the winds should be geostrophic, meaning that the winds barbs should be parallel to the contours of geopotential height. When we look toward the edge of the map this is where we see that the wind barbs are not clearly conforming to geostrophic balance. The winds are crossing the geopotential height contours at an angle that they shouldn't be. This behaviour is due to the curvature of the projection not aligning with the assumptions made to plot the wind barbs.\n",
    "\n",
    "Luckily we have an easy solution built in to the MetPy declarative syntax to convert the stored grid relative winds and make them earth relative for plotting. The attribute to set as part of the `BarbPlot()` class is `earth_relative`. We need to tell MetPy that our winds are NOT earth relative. This is a boolean setting, such that for our NAM winds `earth_relative` should be set to `False`."
   ]
  },
  {
   "cell_type": "markdown",
   "id": "6ae2dc61-0c15-49f2-964a-bd1c48b1b22c",
   "metadata": {},
   "source": [
    "## Corrected NAM Winds\n",
    "\n",
    "Let's try it out and compare the NAM wind barbs that are grid-relative to our recomputed earth relative wind barbs using the MetPy attribute."
   ]
  },
  {
   "cell_type": "code",
   "execution_count": null,
   "id": "82a4a213-37e1-4ae1-ab17-8dfce05da8e6",
   "metadata": {},
   "outputs": [],
   "source": [
    "# Set the plot time with forecast hours\n",
    "plot_time = model_run_date + timedelta(hours=0)\n",
    "\n",
    "# Set attributes for plotting contours\n",
    "cntr = declarative.ContourPlot()\n",
    "cntr.data = ds\n",
    "cntr.field = 'Geopotential_height_isobaric'\n",
    "cntr.level = 300 * units.hPa\n",
    "cntr.time = plot_time\n",
    "cntr.contours = range(0, 10000, 120)\n",
    "cntr.clabels = True\n",
    "\n",
    "# Add wind barbds\n",
    "barbs = declarative.BarbPlot()\n",
    "barbs.data = ds\n",
    "barbs.time = plot_time\n",
    "barbs.field = ['u-component_of_wind_isobaric',\n",
    "               'v-component_of_wind_isobaric']\n",
    "barbs.level = 300 * units.hPa\n",
    "barbs.skip = (25, 25)\n",
    "barbs.plot_units = 'knot'\n",
    "\n",
    "# Add wind barbds\n",
    "barbs2 = declarative.BarbPlot()\n",
    "barbs2.data = ds\n",
    "barbs2.time = plot_time\n",
    "barbs2.field = ['u-component_of_wind_isobaric',\n",
    "               'v-component_of_wind_isobaric']\n",
    "barbs2.level = 300 * units.hPa\n",
    "barbs2.skip = (25, 25)\n",
    "barbs2.plot_units = 'knot'\n",
    "barbs2.color = 'tab:red'\n",
    "barbs2.earth_relative = False\n",
    "\n",
    "# Set the attributes for the map\n",
    "# and put the contours on the map\n",
    "panel = declarative.MapPanel()\n",
    "panel.area = 'awips'\n",
    "panel.layers = ['states', 'coastline', 'borders']\n",
    "panel.title = (f'300-hPa Geopotential Heights at {plot_time}\\n'\n",
    "               'grid-relative wind barbs (black) and earth-relative wind barbs (red)')\n",
    "panel.plots = [cntr, barbs, barbs2]\n",
    "\n",
    "# Set the attributes for the panel\n",
    "# and put the panel in the figure\n",
    "pc = declarative.PanelContainer()\n",
    "pc.size = (15, 15)\n",
    "pc.panels = [panel]\n",
    "\n",
    "# Show the figure\n",
    "pc.show()"
   ]
  },
  {
   "cell_type": "markdown",
   "id": "7d4ad3a7-95f5-4eba-bc02-59a13e7bca2c",
   "metadata": {},
   "source": [
    "In the above graphic we can observe the corrected winds (in red) and notice that the largest differences are noted on the edges of the map where the curvature of the projection is notably different between the projection of the winds and the projection of the plot. The only change that was needed to get the winds in the correct orientation was to set the attribute `earth_relative` to `False` since the NAM output stores wind components in a grid-relative format."
   ]
  },
  {
   "cell_type": "code",
   "execution_count": null,
   "id": "f5906c81-95dd-4e51-95b0-4ab8ed54df16",
   "metadata": {},
   "outputs": [],
   "source": []
  }
 ],
 "metadata": {
  "kernelspec": {
   "display_name": "Python 3 (ipykernel)",
   "language": "python",
   "name": "python3"
  },
  "language_info": {
   "codemirror_mode": {
    "name": "ipython",
    "version": 3
   },
   "file_extension": ".py",
   "mimetype": "text/x-python",
   "name": "python",
   "nbconvert_exporter": "python",
   "pygments_lexer": "ipython3",
   "version": "3.11.5"
  }
 },
 "nbformat": 4,
 "nbformat_minor": 5
}
