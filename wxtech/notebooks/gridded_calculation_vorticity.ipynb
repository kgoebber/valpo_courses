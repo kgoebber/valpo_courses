{
 "cells": [
  {
   "cell_type": "markdown",
   "metadata": {},
   "source": [
    "# Relative Vorticity Calculation\n",
    "\n",
    "This notebook demonstrates computing relative vorticity, then plotting it using color-filled contours."
   ]
  },
  {
   "cell_type": "markdown",
   "metadata": {},
   "source": [
    "## Import Packages"
   ]
  },
  {
   "cell_type": "code",
   "execution_count": null,
   "metadata": {},
   "outputs": [],
   "source": [
    "from datetime import datetime, timedelta, time\n",
    "\n",
    "import metpy.calc as mpcalc\n",
    "from metpy.plots import declarative\n",
    "from metpy.units import units\n",
    "import xarray as xr"
   ]
  },
  {
   "cell_type": "markdown",
   "metadata": {},
   "source": [
    "## Get Data"
   ]
  },
  {
   "cell_type": "code",
   "execution_count": null,
   "metadata": {},
   "outputs": [],
   "source": [
    "# Set the date/time of the model run\n",
    "yesterday = datetime.utcnow() - timedelta(days=1)\n",
    "model_run_time = datetime.combine(yesterday, time(0))\n",
    "\n",
    "# Remote access to the dataset from the UCAR site\n",
    "ds = xr.open_dataset('https://thredds.ucar.edu/thredds/dodsC/grib'\n",
    "                     f'/NCEP/GFS/Global_onedeg/GFS_Global_onedeg_'\n",
    "                     f'{model_run_time:%Y%m%d}_{model_run_time:%H%M}.grib2')\n",
    "\n",
    "# Subset data to be just over the U.S. for plotting purposes\n",
    "ds = ds.sel(lat=slice(70,10), lon=slice(360-150, 360-55))"
   ]
  },
  {
   "cell_type": "markdown",
   "metadata": {},
   "source": [
    "## Calculation\n",
    "\n",
    "1. Pull out necessary variables from dataset.\n",
    "2. Do the calculation using MetPy (not too hard).\n",
    "3. Add it to the dataarray.\n",
    "\n",
    "All MetPy Calculations can be found at <a href=\"https://unidata.github.io/MetPy/latest/api/generated/metpy.calc.html\" target=\"_blank\">https://unidata.github.io/MetPy/latest/api/generated/metpy.calc.html</a>\n",
    "\n",
    "```{note}\n",
    "Not all calculations work on grids, yet!\n",
    "```"
   ]
  },
  {
   "cell_type": "markdown",
   "metadata": {},
   "source": [
    "\n",
    "\\begin{align}\n",
    "\\text{Relative Vorticity} = \\zeta & = \\frac{\\Delta V}{\\Delta x} - \\frac{\\Delta U}{\\Delta y} \\\\\n",
    "\\end{align}\n",
    "\n",
    "<a href=\"https://unidata.github.io/MetPy/latest/api/generated/metpy.calc.vorticity.html\" target=\"_blank\">MetPy Relative Vorticity Calculation</a>"
   ]
  },
  {
   "cell_type": "code",
   "execution_count": null,
   "metadata": {},
   "outputs": [],
   "source": [
    "# Select Level and Time\n",
    "level = 500 * units.hPa\n",
    "plot_time = model_run_time + timedelta(hours=0)\n",
    "\n",
    "# Isolate needed variables\n",
    "uwnd = ds['u-component_of_wind_isobaric'].metpy.sel(vertical=level, time=plot_time)\n",
    "vwnd = ds['v-component_of_wind_isobaric'].metpy.sel(vertical=level, time=plot_time)\n",
    "\n",
    "# Compute relative vorticity and store in Dataset\n",
    "ds['relative_vorticity'] = mpcalc.vorticity(uwnd, vwnd)"
   ]
  },
  {
   "cell_type": "markdown",
   "metadata": {},
   "source": [
    "## Plot Relative Vorticity\n",
    "\n",
    "In addition to plotting our newly calculated relative vorticity variable, we'll smooth the Geopotential Hieghts using the `smooth_field` attribute."
   ]
  },
  {
   "cell_type": "code",
   "execution_count": null,
   "metadata": {},
   "outputs": [],
   "source": [
    "# Set attributes for plotting contours\n",
    "cfill = declarative.FilledContourPlot()\n",
    "cfill.data = ds\n",
    "cfill.field = 'relative_vorticity'\n",
    "cfill.level = None\n",
    "cfill.time = None\n",
    "cfill.contours = list(range(-40, 41, 2))\n",
    "cfill.colormap = 'PuOr_r'\n",
    "cfill.colorbar = 'horizontal'\n",
    "cfill.scale = 1e5\n",
    "\n",
    "cntr2 = declarative.ContourPlot()\n",
    "cntr2.data = ds\n",
    "cntr2.field = 'Geopotential_height_isobaric'\n",
    "cntr2.level = 500 * units.hPa\n",
    "cntr2.time = plot_time\n",
    "cntr2.contours = list(range(0, 10000, 60))\n",
    "cntr2.linecolor = 'black'\n",
    "cntr2.linestyle = 'solid'\n",
    "cntr2.clabels = True\n",
    "cntr2.smooth_field = 2\n",
    "\n",
    "barbs = declarative.BarbPlot()\n",
    "barbs.data = ds\n",
    "barbs.time = plot_time\n",
    "barbs.field = ['u-component_of_wind_isobaric', 'v-component_of_wind_isobaric']\n",
    "barbs.level = level\n",
    "barbs.skip = (3, 3)\n",
    "barbs.plot_units = 'knot'\n",
    "\n",
    "# Set the attributes for the map\n",
    "# and put the contours on the map\n",
    "panel = declarative.MapPanel()\n",
    "panel.area = [-125, -74, 20, 55]\n",
    "panel.projection = 'lcc'\n",
    "panel.layers = ['states', 'coastline', 'borders']\n",
    "panel.title = f'{cntr2.level.m}-hPa Heights and Wind Speed Valid at {plot_time}'\n",
    "panel.plots = [cfill, cntr2, barbs]\n",
    "\n",
    "# Set the attributes for the panel\n",
    "# and put the panel in the figure\n",
    "pc = declarative.PanelContainer()\n",
    "pc.size = (15, 15)\n",
    "pc.panels = [panel]\n",
    "\n",
    "# Show the figure\n",
    "pc.show()"
   ]
  },
  {
   "cell_type": "code",
   "execution_count": null,
   "metadata": {},
   "outputs": [],
   "source": []
  }
 ],
 "metadata": {
  "kernelspec": {
   "display_name": "Python 3 (ipykernel)",
   "language": "python",
   "name": "python3"
  },
  "language_info": {
   "codemirror_mode": {
    "name": "ipython",
    "version": 3
   },
   "file_extension": ".py",
   "mimetype": "text/x-python",
   "name": "python",
   "nbconvert_exporter": "python",
   "pygments_lexer": "ipython3",
   "version": "3.11.3"
  }
 },
 "nbformat": 4,
 "nbformat_minor": 4
}
