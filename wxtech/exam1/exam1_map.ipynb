{
 "cells": [
  {
   "cell_type": "code",
   "execution_count": null,
   "metadata": {},
   "outputs": [],
   "source": [
    "from datetime import datetime, timedelta\n",
    "\n",
    "from metpy.plots.declarative import *\n",
    "from metpy.units import units\n",
    "import xarray as xr"
   ]
  },
  {
   "cell_type": "code",
   "execution_count": null,
   "metadata": {},
   "outputs": [],
   "source": [
    "# Set the date/time of the model run\n",
    "date = datetime(2021, 3, 5, 0)\n",
    "\n",
    "# Remote access to the dataset from the UCAR site\n",
    "ds = xr.open_dataset('https://thredds.ucar.edu/thredds/dodsC/grib'\n",
    "                     f'/NCEP/GFS/Global_0p5deg_ana/GFS_Global_0p5deg_ana_{date:%Y%m%d_%H%M}.grib2')\n",
    "\n",
    "# Subset data to be just over the U.S. for plotting purposes\n",
    "ds = ds.sel(lat=slice(70,10), lon=slice(360-150, 360-55))"
   ]
  },
  {
   "cell_type": "code",
   "execution_count": null,
   "metadata": {},
   "outputs": [],
   "source": [
    "# Set the plot time with forecast hours\n",
    "plot_time = date + timedelta(hours=0)\n",
    "\n",
    "# Set attributes for plotting contours\n",
    "cntr = ContourPlot()\n",
    "cntr.data = ds\n",
    "cntr.field = 'Geopotential_height_isobaric'\n",
    "cntr.level = 850 * units.hPa\n",
    "cntr.time = plot_time\n",
    "cntr.contours = list(range(0, 10000, 30))\n",
    "cntr.clabels = True\n",
    "\n",
    "# Set attributes for plotting contours\n",
    "cntr2 = ContourPlot()\n",
    "cntr2.data = ds\n",
    "cntr2.field = 'Temperature_isobaric'\n",
    "cntr2.level = 850 * units.hPa\n",
    "cntr2.time = plot_time\n",
    "cntr2.contours = list(range(-50, 50, 5))\n",
    "cntr2.linestyle = 'dashed'\n",
    "cntr2.linecolor = 'tab:red'\n",
    "cntr2.clabels = True\n",
    "cntr2.plot_units = 'degC'\n",
    "\n",
    "# Set the attributes for the map\n",
    "# and put the contours on the map\n",
    "panel = MapPanel()\n",
    "panel.area = [-125, -74, 20, 55]\n",
    "panel.projection = 'lcc'\n",
    "panel.layers = ['states', 'coastline', 'borders']\n",
    "panel.title = f'850-hPa Geopotential Heights and Temperature (C) at {plot_time}'\n",
    "panel.plots = [cntr, cntr2]\n",
    "\n",
    "# Set the attributes for the panel\n",
    "# and put the panel in the figure\n",
    "pc = PanelContainer()\n",
    "pc.size = (15, 15)\n",
    "pc.panels = [panel]\n",
    "\n",
    "# Show the figure\n",
    "# pc.save('nameoffile.png', dpi=150, bbox_inches='tight')\n",
    "pc.show()"
   ]
  },
  {
   "cell_type": "code",
   "execution_count": null,
   "metadata": {},
   "outputs": [],
   "source": []
  }
 ],
 "metadata": {
  "kernelspec": {
   "display_name": "Python 3",
   "language": "python",
   "name": "python3"
  },
  "language_info": {
   "codemirror_mode": {
    "name": "ipython",
    "version": 3
   },
   "file_extension": ".py",
   "mimetype": "text/x-python",
   "name": "python",
   "nbconvert_exporter": "python",
   "pygments_lexer": "ipython3",
   "version": "3.8.6"
  }
 },
 "nbformat": 4,
 "nbformat_minor": 4
}
