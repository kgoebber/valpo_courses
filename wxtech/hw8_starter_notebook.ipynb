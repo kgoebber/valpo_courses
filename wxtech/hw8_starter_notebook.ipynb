{
 "cells": [
  {
   "cell_type": "code",
   "execution_count": null,
   "metadata": {},
   "outputs": [],
   "source": [
    "from datetime import datetime, timedelta\n",
    "\n",
    "from metpy.plots import declarative\n",
    "import metpy.calc as mpcalc\n",
    "from metpy.units import units\n",
    "from siphon.catalog import TDSCatalog\n",
    "import xarray as xr"
   ]
  },
  {
   "cell_type": "code",
   "execution_count": null,
   "metadata": {},
   "outputs": [],
   "source": [
    "# Set Model Run Date/Time\n",
    "date = datetime(2020, 3, 12, 6)"
   ]
  },
  {
   "cell_type": "code",
   "execution_count": null,
   "metadata": {},
   "outputs": [],
   "source": [
    "# Remote access to the dataset from the RDA site\n",
    "catUrl = f\"https://rda.ucar.edu/thredds/catalog/files/g/ds083.2/grib2/{date:%Y}/{date:%Y.%m}/catalog.xml\"\n",
    "datasetName = f\"fnl_{date:%Y%m%d_%H}_00.grib2\";\n",
    "catalog = TDSCatalog(catUrl)\n",
    "dataset = catalog.datasets[datasetName]\n",
    "ds = dataset.remote_access(use_xarray=True)\n",
    "\n",
    "# Subset data to be just over the U.S. for plotting purposes\n",
    "ds = ds.sel(lat=slice(70,10), lon=slice(360-150, 360-55))"
   ]
  },
  {
   "cell_type": "code",
   "execution_count": null,
   "metadata": {},
   "outputs": [],
   "source": []
  }
 ],
 "metadata": {
  "kernelspec": {
   "display_name": "Python 3",
   "language": "python",
   "name": "python3"
  },
  "language_info": {
   "codemirror_mode": {
    "name": "ipython",
    "version": 3
   },
   "file_extension": ".py",
   "mimetype": "text/x-python",
   "name": "python",
   "nbconvert_exporter": "python",
   "pygments_lexer": "ipython3",
   "version": "3.8.6"
  }
 },
 "nbformat": 4,
 "nbformat_minor": 4
}
