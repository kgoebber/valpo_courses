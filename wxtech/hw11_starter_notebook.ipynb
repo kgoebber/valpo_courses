{
 "cells": [
  {
   "cell_type": "code",
   "execution_count": null,
   "metadata": {},
   "outputs": [],
   "source": [
    "from datetime import datetime\n",
    "\n",
    "import metpy.calc as mpcalc\n",
    "from metpy.plots import declarative\n",
    "from metpy.units import units\n",
    "import numpy as np\n",
    "from siphon.catalog import TDSCatalog\n",
    "import xarray as xr"
   ]
  },
  {
   "cell_type": "code",
   "execution_count": null,
   "metadata": {},
   "outputs": [],
   "source": [
    "def get_satellite_file_url(datasets, date):\n",
    "    '''A function to help find the desired satellite data based on the time given.\n",
    "    \n",
    "    Input:\n",
    "     - List of datasets from a THREDDS Catalog\n",
    "     - Date of desired dataset (datetime object)\n",
    "     \n",
    "    Output:\n",
    "     - Index value of dataset closest to desired time\n",
    "    '''\n",
    "    sat_date_hour = date.strftime('%Y%j%H')\n",
    "    files = []\n",
    "    times = []\n",
    "    for file in cat.datasets:\n",
    "        if sat_date_hour in file:\n",
    "            times.append(datetime.strptime(file.split('_')[3][1:-3], '%Y%j%H%M'))\n",
    "            files.append(file)\n",
    "    find_file = np.abs(np.array(times) - date)\n",
    "    return list(cat.datasets).index(files[np.argmin(find_file)])"
   ]
  },
  {
   "cell_type": "code",
   "execution_count": null,
   "metadata": {},
   "outputs": [],
   "source": [
    "date = datetime(2022, 3, 25, 12, 0)\n",
    "\n",
    "# Create variables for URL generation\n",
    "region = 'CONUS'\n",
    "channel = 9\n",
    "satellite = 'east'\n",
    "\n",
    "# Construct the data_url string\n",
    "data_url = (f'https://thredds.ucar.edu/thredds/catalog/satellite/goes/{satellite}/products/'\n",
    "            f'CloudAndMoistureImagery/{region}/Channel{channel:02d}/'\n",
    "            f'{date:%Y%m%d}/catalog.xml')\n",
    "\n",
    "# Get list of files available for particular day\n",
    "cat = TDSCatalog(data_url)\n",
    "\n",
    "# Use homemade function to get dataset for desired time\n",
    "dataset = cat.datasets[get_satellite_file_url(cat.datasets, date)]\n",
    "\n",
    "# Open most recent file available\n",
    "ds = dataset.remote_access(use_xarray=True)\n",
    "\n",
    "# Apply a square root correction for visible imagery only\n",
    "if channel == 2:\n",
    "    ds['Sectorized_CMI'].values = np.sqrt(ds['Sectorized_CMI'].values)\n",
    "\n",
    "# Grab time from file and make into datetime object for plotting and later data access\n",
    "vtime = ds.time.values.astype('datetime64[ms]').astype('O')"
   ]
  },
  {
   "cell_type": "code",
   "execution_count": null,
   "metadata": {},
   "outputs": [],
   "source": [
    "# Remote access to the dataset from the UCAR site\n",
    "ds_gfs = xr.open_dataset('https://thredds.ucar.edu/thredds/dodsC/grib'\n",
    "                         f'/NCEP/GFS/Global_onedeg/GFS_Global_onedeg_{date:%Y%m%d}_{date:%H%M}.grib2')\n",
    "\n",
    "# Subset data to be just over the U.S. for plotting purposes\n",
    "ds_gfs = ds_gfs.sel(lat=slice(70,10), lon=slice(360-150, 360-55)).metpy.parse_cf()"
   ]
  },
  {
   "cell_type": "code",
   "execution_count": null,
   "metadata": {},
   "outputs": [],
   "source": []
  }
 ],
 "metadata": {
  "kernelspec": {
   "display_name": "Python 3 (ipykernel)",
   "language": "python",
   "name": "python3"
  },
  "language_info": {
   "codemirror_mode": {
    "name": "ipython",
    "version": 3
   },
   "file_extension": ".py",
   "mimetype": "text/x-python",
   "name": "python",
   "nbconvert_exporter": "python",
   "pygments_lexer": "ipython3",
   "version": "3.8.12"
  }
 },
 "nbformat": 4,
 "nbformat_minor": 4
}
