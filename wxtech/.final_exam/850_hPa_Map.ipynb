{
 "cells": [
  {
   "cell_type": "code",
   "execution_count": null,
   "metadata": {},
   "outputs": [],
   "source": [
    "from datetime import datetime, timedelta\n",
    "\n",
    "from metpy.plots.declarative import *\n",
    "from metpy.units import units\n",
    "import xarray as xr"
   ]
  },
  {
   "cell_type": "code",
   "execution_count": null,
   "metadata": {},
   "outputs": [],
   "source": [
    "# Set the date/time of the model run\n",
    "### SET THE APPROPRIATE DATE/TIME ###\n",
    "date = datetime(2019, 3, 14, 0)\n",
    "#####################################\n",
    "\n",
    "# Remote access to the GFS 0.5 degree Analysis\n",
    "ds = xr.open_dataset('https://www.ncei.noaa.gov/thredds/dodsC/model-gfs-g4-anl-files/'\n",
    "                     f'{date:%Y%m/%Y%m%d}/gfsanl_4_{date:%Y%m%d_%H}00_000.grb2')\n",
    "\n",
    "# Subset data to be just over the U.S. for plotting purposes\n",
    "ds = ds.sel(lat=slice(70,10), lon=slice(360-150, 360-55))"
   ]
  },
  {
   "cell_type": "code",
   "execution_count": null,
   "metadata": {},
   "outputs": [],
   "source": [
    "# Set the plot time with forecast hours\n",
    "plot_time = date + timedelta(hours=0)\n",
    "\n",
    "### SET THE APPROPRIATE LEVEL ###\n",
    "plot_level = 300 * units.hPa\n",
    "#################################\n",
    "\n",
    "# Set attributes for plotting contours\n",
    "cntr = ContourPlot()\n",
    "cntr.data = ds\n",
    "cntr.field = 'Geopotential_height_isobaric'\n",
    "cntr.level = plot_level\n",
    "cntr.time = plot_time\n",
    "cntr.contours = list(range(0, 10000, 30))\n",
    "cntr.clabels = True\n",
    "\n",
    "# Set attributes for plotting Temperature Contours\n",
    "cfill = FilledContourPlot()\n",
    "cfill.data = ds\n",
    "cfill.field = 'Temperature_isobaric'\n",
    "cfill.level = plot_level\n",
    "cfill.time = plot_time\n",
    "\n",
    "### SET THE CONTOUR INTERVAL ###\n",
    "cfill.contours = list(range(-46, 47, 2))\n",
    "################################\n",
    "\n",
    "cfill.colormap = 'coolwarm'\n",
    "cfill.colorbar = 'horizontal'\n",
    "cfill.plot_units = 'degC'\n",
    "\n",
    "# Add wind barbds\n",
    "barbs = BarbPlot()\n",
    "barbs.data = ds\n",
    "barbs.time = plot_time\n",
    "barbs.field = ['u-component_of_wind_isobaric', 'v-component_of_wind_isobaric']\n",
    "barbs.level = plot_level\n",
    "barbs.skip = (4, 4)\n",
    "barbs.plot_units = 'knot'\n",
    "\n",
    "# Set the attributes for the map\n",
    "# and put the contours on the map\n",
    "panel = MapPanel()\n",
    "panel.area = [-125, -74, 20, 55]\n",
    "panel.projection = 'lcc'\n",
    "panel.layers = ['states', 'coastline', 'borders']\n",
    "\n",
    "#### ADD A TITLE ###\n",
    "panel.title = f''\n",
    "####################\n",
    "\n",
    "panel.plots = [cfill, cntr, barbs]\n",
    "\n",
    "# Set the attributes for the panel\n",
    "# and put the panel in the figure\n",
    "pc = PanelContainer()\n",
    "pc.size = (15, 15)\n",
    "pc.panels = [panel]\n",
    "\n",
    "# Show the figure\n",
    "pc.show()\n",
    "\n",
    "### Uncomment line below and SAVE FIGURE - Change figure name ###\n",
    "#pc.save(f'test.png', dpi=150, bbox_inches='tight')\n",
    "########################################"
   ]
  },
  {
   "cell_type": "code",
   "execution_count": null,
   "metadata": {},
   "outputs": [],
   "source": []
  }
 ],
 "metadata": {
  "kernelspec": {
   "display_name": "Python 3",
   "language": "python",
   "name": "python3"
  },
  "language_info": {
   "codemirror_mode": {
    "name": "ipython",
    "version": 3
   },
   "file_extension": ".py",
   "mimetype": "text/x-python",
   "name": "python",
   "nbconvert_exporter": "python",
   "pygments_lexer": "ipython3",
   "version": "3.8.2"
  }
 },
 "nbformat": 4,
 "nbformat_minor": 4
}
