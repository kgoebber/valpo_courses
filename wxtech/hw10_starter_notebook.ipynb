{
 "cells": [
  {
   "cell_type": "code",
   "execution_count": null,
   "metadata": {},
   "outputs": [],
   "source": [
    "from datetime import datetime\n",
    "\n",
    "import metpy.calc as mpcalc\n",
    "from metpy.plots import declarative\n",
    "from metpy.units import units\n",
    "import numpy as np\n",
    "from siphon.catalog import TDSCatalog\n",
    "import xarray as xr"
   ]
  },
  {
   "cell_type": "code",
   "execution_count": null,
   "metadata": {},
   "outputs": [],
   "source": [
    "# Get Satellite Data\n",
    "\n",
    "# Construct the data_url string\n",
    "data_url = ('https://thredds.ucar.edu/thredds/dodsC/casestudies/2019blizzard/goes/GOES16/CONUS/'\n",
    "            'Channel09/20190313/GOES16_CONUS_20190313_000719_6.95_2km_30.1N_87.1W.nc4')\n",
    "\n",
    "# Open most recent file available\n",
    "sat_ds = xr.open_dataset(data_url)\n",
    "\n",
    "# Apply a square root correction for visible imagery only\n",
    "#ds = ds.map(np.sqrt, keep_attrs=True)\n",
    "\n",
    "# Grab time from file and make into datetime object for plotting and later data access\n",
    "sat_date = sat_ds.time.values.astype('datetime64[ms]').astype('O')"
   ]
  },
  {
   "cell_type": "code",
   "execution_count": null,
   "metadata": {},
   "outputs": [],
   "source": [
    "# Get Model Data, set to a time using satellite time\n",
    "date = datetime(sat_date.year, sat_date.month, sat_date.day, sat_date.hour)\n",
    "\n",
    "# Remote access to the dataset from the NCDC site\n",
    "catUrl = \"https://rda.ucar.edu/thredds/catalog/aggregations/g/ds083.2/2/catalog.xml\"\n",
    "datasetName = \"Full Collection Dataset\"\n",
    "catalog = TDSCatalog(catUrl)\n",
    "dataset = catalog.datasets[datasetName]\n",
    "ds = dataset.remote_access(use_xarray=True)\n",
    "\n",
    "# Subset data to be just over the U.S. for plotting purposes\n",
    "ds = ds.sel(lat=slice(70,10), lon=slice(360-150, 360-55)).metpy.parse_cf()"
   ]
  },
  {
   "cell_type": "code",
   "execution_count": null,
   "metadata": {},
   "outputs": [],
   "source": []
  }
 ],
 "metadata": {
  "kernelspec": {
   "display_name": "Python 3",
   "language": "python",
   "name": "python3"
  },
  "language_info": {
   "codemirror_mode": {
    "name": "ipython",
    "version": 3
   },
   "file_extension": ".py",
   "mimetype": "text/x-python",
   "name": "python",
   "nbconvert_exporter": "python",
   "pygments_lexer": "ipython3",
   "version": "3.8.6"
  }
 },
 "nbformat": 4,
 "nbformat_minor": 4
}
